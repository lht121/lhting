





<!DOCTYPE html>
<html
  lang="en"
  
  data-color-mode="auto" data-light-theme="light" data-dark-theme="dark"
  data-a11y-animated-images="system" data-a11y-link-underlines="true"
  
  >



  <head>
    <meta charset="utf-8">
  <link rel="dns-prefetch" href="https://github.githubassets.com">
  <link rel="dns-prefetch" href="https://avatars.githubusercontent.com">
  <link rel="dns-prefetch" href="https://github-cloud.s3.amazonaws.com">
  <link rel="dns-prefetch" href="https://user-images.githubusercontent.com/">
  <link rel="preconnect" href="https://github.githubassets.com" crossorigin>
  <link rel="preconnect" href="https://avatars.githubusercontent.com">

  


  <link crossorigin="anonymous" media="all" rel="stylesheet" href="https://github.githubassets.com/assets/light-3e154969b9f9.css" /><link crossorigin="anonymous" media="all" rel="stylesheet" href="https://github.githubassets.com/assets/dark-9c5b7a476542.css" /><link data-color-theme="dark_dimmed" crossorigin="anonymous" media="all" rel="stylesheet" data-href="https://github.githubassets.com/assets/dark_dimmed-afda8eb0fb33.css" /><link data-color-theme="dark_high_contrast" crossorigin="anonymous" media="all" rel="stylesheet" data-href="https://github.githubassets.com/assets/dark_high_contrast-2494e44ccdc5.css" /><link data-color-theme="dark_colorblind" crossorigin="anonymous" media="all" rel="stylesheet" data-href="https://github.githubassets.com/assets/dark_colorblind-56fff47acadc.css" /><link data-color-theme="light_colorblind" crossorigin="anonymous" media="all" rel="stylesheet" data-href="https://github.githubassets.com/assets/light_colorblind-71cd4cc132ec.css" /><link data-color-theme="light_high_contrast" crossorigin="anonymous" media="all" rel="stylesheet" data-href="https://github.githubassets.com/assets/light_high_contrast-fd5499848985.css" /><link data-color-theme="light_tritanopia" crossorigin="anonymous" media="all" rel="stylesheet" data-href="https://github.githubassets.com/assets/light_tritanopia-31d17ba3e139.css" /><link data-color-theme="dark_tritanopia" crossorigin="anonymous" media="all" rel="stylesheet" data-href="https://github.githubassets.com/assets/dark_tritanopia-68d6b2c79663.css" />

    <link crossorigin="anonymous" media="all" rel="stylesheet" href="https://github.githubassets.com/assets/primer-primitives-4cf0d59ab51a.css" />
    <link crossorigin="anonymous" media="all" rel="stylesheet" href="https://github.githubassets.com/assets/primer-03722e173ec3.css" />
    <link crossorigin="anonymous" media="all" rel="stylesheet" href="https://github.githubassets.com/assets/global-ed3f43d0805a.css" />
    <link crossorigin="anonymous" media="all" rel="stylesheet" href="https://github.githubassets.com/assets/github-af465246c6ef.css" />
  <link crossorigin="anonymous" media="all" rel="stylesheet" href="https://github.githubassets.com/assets/repository-31ce1dda752d.css" />
<link crossorigin="anonymous" media="all" rel="stylesheet" href="https://github.githubassets.com/assets/code-53e56f0305ac.css" />

  


  <script type="application/json" id="client-env">{"locale":"en","featureFlags":["code_vulnerability_scanning","copilot_new_references_ui","copilot_model_picker","copilot_beta_features_opt_in","copilot_chat_conversation_intent_knowledge_search_skill","copilot_chat_static_thread_suggestions","copilot_conversational_ux_history_refs","copilot_copy_message","copilot_implicit_context","copilot_public_code_reference_annotations","copilot_smell_icebreaker_ux","experimentation_azure_variant_endpoint","failbot_handle_non_errors","geojson_azure_maps","ghost_pilot_confidence_truncation_25","ghost_pilot_confidence_truncation_40","hovercard_accessibility","hovercard_longer_activate_timeout","marketing_pages_search_explore_provider","remove_child_patch","sample_network_conn_type","site_metered_billing_update","issues_react_first_time_contribution_banner","jk_navigation_in_list_view","ui_commands_respect_modals","overview_branch_and_tag_count","overview_spoofed_commit_banner_react","lifecycle_label_name_updates"]}</script>
<script crossorigin="anonymous" defer="defer" type="application/javascript" src="https://github.githubassets.com/assets/wp-runtime-c7e46e82a12b.js"></script>
<script crossorigin="anonymous" defer="defer" type="application/javascript" src="https://github.githubassets.com/assets/vendors-node_modules_dompurify_dist_purify_js-b73fdff77a4e.js"></script>
<script crossorigin="anonymous" defer="defer" type="application/javascript" src="https://github.githubassets.com/assets/vendors-node_modules_oddbird_popover-polyfill_dist_popover_js-aff936e590ed.js"></script>
<script crossorigin="anonymous" defer="defer" type="application/javascript" src="https://github.githubassets.com/assets/vendors-node_modules_github_arianotify-polyfill_ariaNotify-polyfill_js-node_modules_github_mi-247092-bca77500b025.js"></script>
<script crossorigin="anonymous" defer="defer" type="application/javascript" src="https://github.githubassets.com/assets/ui_packages_failbot_failbot_ts-a96e9c100c0a.js"></script>
<script crossorigin="anonymous" defer="defer" type="application/javascript" src="https://github.githubassets.com/assets/environment-77b7d55e82b4.js"></script>
<script crossorigin="anonymous" defer="defer" type="application/javascript" src="https://github.githubassets.com/assets/vendors-node_modules_primer_behaviors_dist_esm_index_mjs-4aa4b0e95669.js"></script>
<script crossorigin="anonymous" defer="defer" type="application/javascript" src="https://github.githubassets.com/assets/vendors-node_modules_github_selector-observer_dist_index_esm_js-f690fd9ae3d5.js"></script>
<script crossorigin="anonymous" defer="defer" type="application/javascript" src="https://github.githubassets.com/assets/vendors-node_modules_github_relative-time-element_dist_index_js-6d3967acd51c.js"></script>
<script crossorigin="anonymous" defer="defer" type="application/javascript" src="https://github.githubassets.com/assets/vendors-node_modules_github_combobox-nav_dist_index_js-node_modules_github_g-emoji-element_di-6ce195-53781cbc550f.js"></script>
<script crossorigin="anonymous" defer="defer" type="application/javascript" src="https://github.githubassets.com/assets/vendors-node_modules_github_auto-complete-element_dist_index_js-node_modules_github_catalyst_-6afc16-87f32ad5fff1.js"></script>
<script crossorigin="anonymous" defer="defer" type="application/javascript" src="https://github.githubassets.com/assets/vendors-node_modules_github_text-expander-element_dist_index_js-f5498b8d4e5d.js"></script>
<script crossorigin="anonymous" defer="defer" type="application/javascript" src="https://github.githubassets.com/assets/vendors-node_modules_github_filter-input-element_dist_index_js-node_modules_github_remote-inp-d1a841-8f251a0656e7.js"></script>
<script crossorigin="anonymous" defer="defer" type="application/javascript" src="https://github.githubassets.com/assets/vendors-node_modules_github_mini-throttle_dist_index_js-node_modules_stacktrace-parser_dist_s-1f651a-0cff18664748.js"></script>
<script crossorigin="anonymous" defer="defer" type="application/javascript" src="https://github.githubassets.com/assets/vendors-node_modules_github_file-attachment-element_dist_index_js-node_modules_primer_view-co-af0385-fddd392e217c.js"></script>
<script crossorigin="anonymous" defer="defer" type="application/javascript" src="https://github.githubassets.com/assets/github-elements-d06dca3768f0.js"></script>
<script crossorigin="anonymous" defer="defer" type="application/javascript" src="https://github.githubassets.com/assets/element-registry-3e3be66e1004.js"></script>
<script crossorigin="anonymous" defer="defer" type="application/javascript" src="https://github.githubassets.com/assets/vendors-node_modules_braintree_browser-detection_dist_browser-detection_js-node_modules_githu-bb80ec-634de60bacfa.js"></script>
<script crossorigin="anonymous" defer="defer" type="application/javascript" src="https://github.githubassets.com/assets/vendors-node_modules_lit-html_lit-html_js-ce7225a304c5.js"></script>
<script crossorigin="anonymous" defer="defer" type="application/javascript" src="https://github.githubassets.com/assets/vendors-node_modules_github_hydro-analytics-client_dist_analytics-client_js-node_modules_gith-f3aee1-e6893db9c19e.js"></script>
<script crossorigin="anonymous" defer="defer" type="application/javascript" src="https://github.githubassets.com/assets/vendors-node_modules_github_mini-throttle_dist_index_js-node_modules_morphdom_dist_morphdom-e-7c534c-f8a5485c982a.js"></script>
<script crossorigin="anonymous" defer="defer" type="application/javascript" src="https://github.githubassets.com/assets/vendors-node_modules_github_turbo_dist_turbo_es2017-esm_js-858e043fcf76.js"></script>
<script crossorigin="anonymous" defer="defer" type="application/javascript" src="https://github.githubassets.com/assets/vendors-node_modules_github_remote-form_dist_index_js-node_modules_delegated-events_dist_inde-893f9f-6cf3320416b8.js"></script>
<script crossorigin="anonymous" defer="defer" type="application/javascript" src="https://github.githubassets.com/assets/vendors-node_modules_scroll-anchoring_dist_scroll-anchoring_esm_js-node_modules_stacktrace-pa-a71630-67856ad29bae.js"></script>
<script crossorigin="anonymous" defer="defer" type="application/javascript" src="https://github.githubassets.com/assets/vendors-node_modules_color-convert_index_js-0e07cc183eed.js"></script>
<script crossorigin="anonymous" defer="defer" type="application/javascript" src="https://github.githubassets.com/assets/vendors-node_modules_github_quote-selection_dist_index_js-node_modules_github_session-resume_-0b5e12-7b36339d5147.js"></script>
<script crossorigin="anonymous" defer="defer" type="application/javascript" src="https://github.githubassets.com/assets/ui_packages_updatable-content_updatable-content_ts-eae9df0dd562.js"></script>
<script crossorigin="anonymous" defer="defer" type="application/javascript" src="https://github.githubassets.com/assets/app_assets_modules_github_behaviors_task-list_ts-app_assets_modules_github_sso_ts-ui_packages-900dde-18d1c91a7872.js"></script>
<script crossorigin="anonymous" defer="defer" type="application/javascript" src="https://github.githubassets.com/assets/app_assets_modules_github_sticky-scroll-into-view_ts-7cbef09a422c.js"></script>
<script crossorigin="anonymous" defer="defer" type="application/javascript" src="https://github.githubassets.com/assets/app_assets_modules_github_behaviors_ajax-error_ts-app_assets_modules_github_behaviors_include-d0d0a6-b0b4fd6f86a5.js"></script>
<script crossorigin="anonymous" defer="defer" type="application/javascript" src="https://github.githubassets.com/assets/app_assets_modules_github_behaviors_commenting_edit_ts-app_assets_modules_github_behaviors_ht-83c235-c89801ebbe15.js"></script>
<script crossorigin="anonymous" defer="defer" type="application/javascript" src="https://github.githubassets.com/assets/behaviors-47f40e36ad63.js"></script>
<script crossorigin="anonymous" defer="defer" type="application/javascript" src="https://github.githubassets.com/assets/vendors-node_modules_delegated-events_dist_index_js-node_modules_github_catalyst_lib_index_js-06ff531-bf7e5a3732fd.js"></script>
<script crossorigin="anonymous" defer="defer" type="application/javascript" src="https://github.githubassets.com/assets/notifications-global-54f34167118d.js"></script>
<script crossorigin="anonymous" defer="defer" type="application/javascript" src="https://github.githubassets.com/assets/vendors-node_modules_github_mini-throttle_dist_index_js-node_modules_github_catalyst_lib_inde-dbbea9-d241fe700755.js"></script>
<script crossorigin="anonymous" defer="defer" type="application/javascript" src="https://github.githubassets.com/assets/code-menu-15796c6acaff.js"></script>
  
  <script crossorigin="anonymous" defer="defer" type="application/javascript" src="https://github.githubassets.com/assets/primer-react-ae28f57a594c.js"></script>
<script crossorigin="anonymous" defer="defer" type="application/javascript" src="https://github.githubassets.com/assets/react-core-4c60c64fa750.js"></script>
<script crossorigin="anonymous" defer="defer" type="application/javascript" src="https://github.githubassets.com/assets/react-lib-7b7b5264f6c1.js"></script>
<script crossorigin="anonymous" defer="defer" type="application/javascript" src="https://github.githubassets.com/assets/octicons-react-45c3a19dd792.js"></script>
<script crossorigin="anonymous" defer="defer" type="application/javascript" src="https://github.githubassets.com/assets/vendors-node_modules_emotion_is-prop-valid_dist_emotion-is-prop-valid_esm_js-node_modules_emo-cca337-a9ead3cb16ab.js"></script>
<script crossorigin="anonymous" defer="defer" type="application/javascript" src="https://github.githubassets.com/assets/vendors-node_modules_oddbird_popover-polyfill_dist_popover-fn_js-4896ddd4b7bb.js"></script>
<script crossorigin="anonymous" defer="defer" type="application/javascript" src="https://github.githubassets.com/assets/vendors-node_modules_github_catalyst_lib_index_js-node_modules_primer_live-region-element_dis-037ad60-def56a6cf691.js"></script>
<script crossorigin="anonymous" defer="defer" type="application/javascript" src="https://github.githubassets.com/assets/vendors-node_modules_react-reverse-portal_dist_web_index_js-node_modules_react-intersection-o-837f97-cf0d169497ea.js"></script>
<script crossorigin="anonymous" defer="defer" type="application/javascript" src="https://github.githubassets.com/assets/ui_packages_aria-live_aria-live_ts-ui_packages_promise-with-resolvers-polyfill_promise-with-r-014121-e1792bd5a31e.js"></script>
<script crossorigin="anonymous" defer="defer" type="application/javascript" src="https://github.githubassets.com/assets/ui_packages_paths_index_ts-dce6cc95a312.js"></script>
<script crossorigin="anonymous" defer="defer" type="application/javascript" src="https://github.githubassets.com/assets/ui_packages_ref-selector_RefSelector_tsx-7a75d9f22fe9.js"></script>
<script crossorigin="anonymous" defer="defer" type="application/javascript" src="https://github.githubassets.com/assets/ui_packages_code-view-shared_hooks_shortcuts_ts-ui_packages_code-view-shared_utilities_web-wo-397c42-e44b90eafd30.js"></script>
<script crossorigin="anonymous" defer="defer" type="application/javascript" src="https://github.githubassets.com/assets/ui_packages_hydro-analytics_hydro-analytics_ts-ui_packages_verified-fetch_verified-fetch_ts-u-4672d1-c335d159760f.js"></script>
<script crossorigin="anonymous" defer="defer" type="application/javascript" src="https://github.githubassets.com/assets/ui_packages_code-view-shared_hooks_use-canonical-object_ts-ui_packages_code-view-shared_utili-228da6-650147e0d8d5.js"></script>
<script crossorigin="anonymous" defer="defer" type="application/javascript" src="https://github.githubassets.com/assets/ui_packages_code-view-shared_hooks_use-file-page-payload_ts-ui_packages_use-analytics_use-ana-8a07a6-e827b8ac5044.js"></script>
<script crossorigin="anonymous" defer="defer" type="application/javascript" src="https://github.githubassets.com/assets/app_assets_modules_github_blob-anchor_ts-ui_packages_code-nav_code-nav_ts-ui_packages_filter--8253c1-87c39cb5708f.js"></script>
<script crossorigin="anonymous" defer="defer" type="application/javascript" src="https://github.githubassets.com/assets/react-code-view-e1e7a350c6ff.js"></script>
<link crossorigin="anonymous" media="all" rel="stylesheet" href="https://github.githubassets.com/assets/primer-react.53aeaefa78a7fa7cde54.module.css" />
<link crossorigin="anonymous" media="all" rel="stylesheet" href="https://github.githubassets.com/assets/react-code-view.3a11433d5fb649f11287.module.css" />

  <script crossorigin="anonymous" defer="defer" type="application/javascript" src="https://github.githubassets.com/assets/primer-react-ae28f57a594c.js"></script>
<script crossorigin="anonymous" defer="defer" type="application/javascript" src="https://github.githubassets.com/assets/react-core-4c60c64fa750.js"></script>
<script crossorigin="anonymous" defer="defer" type="application/javascript" src="https://github.githubassets.com/assets/react-lib-7b7b5264f6c1.js"></script>
<script crossorigin="anonymous" defer="defer" type="application/javascript" src="https://github.githubassets.com/assets/octicons-react-45c3a19dd792.js"></script>
<script crossorigin="anonymous" defer="defer" type="application/javascript" src="https://github.githubassets.com/assets/vendors-node_modules_emotion_is-prop-valid_dist_emotion-is-prop-valid_esm_js-node_modules_emo-cca337-a9ead3cb16ab.js"></script>
<script crossorigin="anonymous" defer="defer" type="application/javascript" src="https://github.githubassets.com/assets/vendors-node_modules_oddbird_popover-polyfill_dist_popover-fn_js-4896ddd4b7bb.js"></script>
<script crossorigin="anonymous" defer="defer" type="application/javascript" src="https://github.githubassets.com/assets/notifications-subscriptions-menu-39e49aa3497a.js"></script>
<link crossorigin="anonymous" media="all" rel="stylesheet" href="https://github.githubassets.com/assets/primer-react.53aeaefa78a7fa7cde54.module.css" />
<link crossorigin="anonymous" media="all" rel="stylesheet" href="https://github.githubassets.com/assets/notifications-subscriptions-menu.1bcff9205c241e99cff2.module.css" />


  <title>super-duper-dollop/Lecture 4-homework-YangFan.ipynb at main · YANGFAN5203/super-duper-dollop · GitHub</title>



  <meta name="route-pattern" content="/:user_id/:repository/blob/*name(/*path)" data-turbo-transient>
  <meta name="route-controller" content="blob" data-turbo-transient>
  <meta name="route-action" content="show" data-turbo-transient>

    
  <meta name="current-catalog-service-hash" content="f3abb0cc802f3d7b95fc8762b94bdcb13bf39634c40c357301c4aa1d67a256fb">


  <meta name="request-id" content="7BBF:232A15:1F9A0F1:20022AF:672A4B57" data-pjax-transient="true"/><meta name="html-safe-nonce" content="de20ed292afea26ae02d22c9e8d990078335805bbbe869853a305548b7d26e30" data-pjax-transient="true"/><meta name="visitor-payload" content="eyJyZWZlcnJlciI6Imh0dHBzOi8vZ2l0aHViLmNvbS9ZQU5HRkFONTIwMy9zdXBlci1kdXBlci1kb2xsb3AiLCJyZXF1ZXN0X2lkIjoiN0JCRjoyMzJBMTU6MUY5QTBGMToyMDAyMkFGOjY3MkE0QjU3IiwidmlzaXRvcl9pZCI6IjI0MjExNTkwNDc0MzYzMjM2MTAiLCJyZWdpb25fZWRnZSI6ImZyYSIsInJlZ2lvbl9yZW5kZXIiOiJmcmEifQ==" data-pjax-transient="true"/><meta name="visitor-hmac" content="348359fb0226a6865346a52b53be6d33fcf03ce6e759e15ca44bd36519325a5d" data-pjax-transient="true"/>


    <meta name="hovercard-subject-tag" content="repository:872288887" data-turbo-transient>


  <meta name="github-keyboard-shortcuts" content="repository,source-code,file-tree,copilot" data-turbo-transient="true" />
  

  <meta name="selected-link" value="repo_source" data-turbo-transient>
  <link rel="assets" href="https://github.githubassets.com/">

    <meta name="google-site-verification" content="Apib7-x98H0j5cPqHWwSMm6dNU4GmODRoqxLiDzdx9I">

<meta name="octolytics-url" content="https://collector.github.com/github/collect" />

  <meta name="analytics-location" content="/&lt;user-name&gt;/&lt;repo-name&gt;/blob/show" data-turbo-transient="true" />

  




    <meta name="user-login" content="">

  

    <meta name="viewport" content="width=device-width">

    

      <meta name="description" content="Contribute to YANGFAN5203/super-duper-dollop development by creating an account on GitHub.">

      <link rel="search" type="application/opensearchdescription+xml" href="/opensearch.xml" title="GitHub">

    <link rel="fluid-icon" href="https://github.com/fluidicon.png" title="GitHub">
    <meta property="fb:app_id" content="1401488693436528">
    <meta name="apple-itunes-app" content="app-id=1477376905, app-argument=https://github.com/YANGFAN5203/super-duper-dollop/blob/main/Lecture%204-homework-YangFan.ipynb" />

      <meta name="twitter:image" content="https://opengraph.githubassets.com/d8658f1b6a70efe994be6511b3e624281a2acb1d69cefa562a5069a6a3906a32/YANGFAN5203/super-duper-dollop" /><meta name="twitter:site" content="@github" /><meta name="twitter:card" content="summary_large_image" /><meta name="twitter:title" content="super-duper-dollop/Lecture 4-homework-YangFan.ipynb at main · YANGFAN5203/super-duper-dollop" /><meta name="twitter:description" content="Contribute to YANGFAN5203/super-duper-dollop development by creating an account on GitHub." />
  <meta property="og:image" content="https://opengraph.githubassets.com/d8658f1b6a70efe994be6511b3e624281a2acb1d69cefa562a5069a6a3906a32/YANGFAN5203/super-duper-dollop" /><meta property="og:image:alt" content="Contribute to YANGFAN5203/super-duper-dollop development by creating an account on GitHub." /><meta property="og:image:width" content="1200" /><meta property="og:image:height" content="600" /><meta property="og:site_name" content="GitHub" /><meta property="og:type" content="object" /><meta property="og:title" content="super-duper-dollop/Lecture 4-homework-YangFan.ipynb at main · YANGFAN5203/super-duper-dollop" /><meta property="og:url" content="https://github.com/YANGFAN5203/super-duper-dollop/blob/main/Lecture%204-homework-YangFan.ipynb" /><meta property="og:description" content="Contribute to YANGFAN5203/super-duper-dollop development by creating an account on GitHub." />
  




      <meta name="hostname" content="github.com">



        <meta name="expected-hostname" content="github.com">


  <meta http-equiv="x-pjax-version" content="1d5c5ee8b1907ce1a1e6f55cb0c34f34740a4dd0974f89c7272f8ab5f07ad36e" data-turbo-track="reload">
  <meta http-equiv="x-pjax-csp-version" content="ace39c3b6632770952207593607e6e0be0db363435a8b877b1f96abe6430f345" data-turbo-track="reload">
  <meta http-equiv="x-pjax-css-version" content="e4cf21d7dbe5bf3e95eb96d8d6551c799217520eadd068aff2f865c228b49769" data-turbo-track="reload">
  <meta http-equiv="x-pjax-js-version" content="bad78b76f1bc22416c875d80c68012876a761104e3231af33a3b8771c210391c" data-turbo-track="reload">

    <meta name="turbo-cache-control" content="no-preview" data-turbo-transient="">

      <meta name="turbo-cache-control" content="no-cache" data-turbo-transient>

    <meta data-hydrostats="publish">

  <meta name="go-import" content="github.com/YANGFAN5203/super-duper-dollop git https://github.com/YANGFAN5203/super-duper-dollop.git">

  <meta name="octolytics-dimension-user_id" content="184910727" /><meta name="octolytics-dimension-user_login" content="YANGFAN5203" /><meta name="octolytics-dimension-repository_id" content="872288887" /><meta name="octolytics-dimension-repository_nwo" content="YANGFAN5203/super-duper-dollop" /><meta name="octolytics-dimension-repository_public" content="true" /><meta name="octolytics-dimension-repository_is_fork" content="false" /><meta name="octolytics-dimension-repository_network_root_id" content="872288887" /><meta name="octolytics-dimension-repository_network_root_nwo" content="YANGFAN5203/super-duper-dollop" />



    

    <meta name="turbo-body-classes" content="logged-out env-production page-responsive">


  <meta name="browser-stats-url" content="https://api.github.com/_private/browser/stats">

  <meta name="browser-errors-url" content="https://api.github.com/_private/browser/errors">

  <link rel="mask-icon" href="https://github.githubassets.com/assets/pinned-octocat-093da3e6fa40.svg" color="#000000">
  <link rel="alternate icon" class="js-site-favicon" type="image/png" href="https://github.githubassets.com/favicons/favicon.png">
  <link rel="icon" class="js-site-favicon" type="image/svg+xml" href="https://github.githubassets.com/favicons/favicon.svg">

<meta name="theme-color" content="#1e2327">
<meta name="color-scheme" content="light dark" />


  <link rel="manifest" href="/manifest.json" crossOrigin="use-credentials">

  </head>

  <body class="logged-out env-production page-responsive" style="word-wrap: break-word;">
    <div data-turbo-body class="logged-out env-production page-responsive" style="word-wrap: break-word;">
      


    <div class="position-relative js-header-wrapper ">
      <a href="#start-of-content" data-skip-target-assigned="false" class="px-2 py-4 color-bg-accent-emphasis color-fg-on-emphasis show-on-focus js-skip-to-content">Skip to content</a>

      <span data-view-component="true" class="progress-pjax-loader Progress position-fixed width-full">
    <span style="width: 0%;" data-view-component="true" class="Progress-item progress-pjax-loader-bar left-0 top-0 color-bg-accent-emphasis"></span>
</span>      
      
      <script crossorigin="anonymous" defer="defer" type="application/javascript" src="https://github.githubassets.com/assets/vendors-node_modules_github_catalyst_lib_index_js-node_modules_github_hotkey_dist_index_js-no-d67c7f-bd7d077cdcb1.js"></script>
<script crossorigin="anonymous" defer="defer" type="application/javascript" src="https://github.githubassets.com/assets/ui_packages_ui-commands_ui-commands_ts-d25fac54a6bc.js"></script>
<script crossorigin="anonymous" defer="defer" type="application/javascript" src="https://github.githubassets.com/assets/keyboard-shortcuts-dialog-b69e6d549aeb.js"></script>

<react-partial
  partial-name="keyboard-shortcuts-dialog"
  data-ssr="false"
  data-attempted-ssr="false"
>
  
  <script type="application/json" data-target="react-partial.embeddedData">{"props":{"docsUrl":"https://docs.github.com/get-started/accessibility/keyboard-shortcuts"}}</script>
  <div data-target="react-partial.reactRoot"></div>
</react-partial>




      

          

              
<script crossorigin="anonymous" defer="defer" type="application/javascript" src="https://github.githubassets.com/assets/vendors-node_modules_github_remote-form_dist_index_js-node_modules_delegated-events_dist_inde-94fd67-9a621ecbf672.js"></script>
<script crossorigin="anonymous" defer="defer" type="application/javascript" src="https://github.githubassets.com/assets/sessions-c6a512e7180c.js"></script>
<header class="HeaderMktg header-logged-out js-details-container js-header Details position-relative f4 py-3" role="banner" data-color-mode=light data-light-theme=light data-dark-theme=dark>
  <h2 class="sr-only">Navigation Menu</h2>

  <button type="button" class="HeaderMktg-backdrop d-lg-none border-0 position-fixed top-0 left-0 width-full height-full js-details-target" aria-label="Toggle navigation">
    <span class="d-none">Toggle navigation</span>
  </button>

  <div class="d-flex flex-column flex-lg-row flex-items-center px-3 px-md-4 px-lg-5 height-full position-relative z-1">
    <div class="d-flex flex-justify-between flex-items-center width-full width-lg-auto">
      <div class="flex-1">
        <button aria-label="Toggle navigation" aria-expanded="false" type="button" data-view-component="true" class="js-details-target js-nav-padding-recalculate js-header-menu-toggle Button--link Button--medium Button d-lg-none color-fg-inherit p-1">  <span class="Button-content">
    <span class="Button-label"><div class="HeaderMenu-toggle-bar rounded my-1"></div>
            <div class="HeaderMenu-toggle-bar rounded my-1"></div>
            <div class="HeaderMenu-toggle-bar rounded my-1"></div></span>
  </span>
</button>
      </div>

      <a class="mr-lg-3 color-fg-inherit flex-order-2 js-prevent-focus-on-mobile-nav"
        href="/"
        aria-label="Homepage"
        data-analytics-event="{&quot;category&quot;:&quot;Marketing nav&quot;,&quot;action&quot;:&quot;click to go to homepage&quot;,&quot;label&quot;:&quot;ref_page:Marketing;ref_cta:Logomark;ref_loc:Header&quot;}">
        <svg height="32" aria-hidden="true" viewBox="0 0 24 24" version="1.1" width="32" data-view-component="true" class="octicon octicon-mark-github">
    <path d="M12.5.75C6.146.75 1 5.896 1 12.25c0 5.089 3.292 9.387 7.863 10.91.575.101.79-.244.79-.546 0-.273-.014-1.178-.014-2.142-2.889.532-3.636-.704-3.866-1.35-.13-.331-.69-1.352-1.18-1.625-.402-.216-.977-.748-.014-.762.906-.014 1.553.834 1.769 1.179 1.035 1.74 2.688 1.25 3.349.948.1-.747.402-1.25.733-1.538-2.559-.287-5.232-1.279-5.232-5.678 0-1.25.445-2.285 1.178-3.09-.115-.288-.517-1.467.115-3.048 0 0 .963-.302 3.163 1.179.92-.259 1.897-.388 2.875-.388.977 0 1.955.13 2.875.388 2.2-1.495 3.162-1.179 3.162-1.179.633 1.581.23 2.76.115 3.048.733.805 1.179 1.825 1.179 3.09 0 4.413-2.688 5.39-5.247 5.678.417.36.776 1.05.776 2.128 0 1.538-.014 2.774-.014 3.162 0 .302.216.662.79.547C20.709 21.637 24 17.324 24 12.25 24 5.896 18.854.75 12.5.75Z"></path>
</svg>
      </a>

      <div class="flex-1 flex-order-2 text-right">
          <a
            href="/login?return_to=https%3A%2F%2Fgithub.com%2FYANGFAN5203%2Fsuper-duper-dollop%2Fblob%2Fmain%2FLecture%25204-homework-YangFan.ipynb"
            class="HeaderMenu-link HeaderMenu-button d-inline-flex d-lg-none flex-order-1 f5 no-underline border color-border-default rounded-2 px-2 py-1 color-fg-inherit js-prevent-focus-on-mobile-nav"
            data-hydro-click="{&quot;event_type&quot;:&quot;authentication.click&quot;,&quot;payload&quot;:{&quot;location_in_page&quot;:&quot;site header menu&quot;,&quot;repository_id&quot;:null,&quot;auth_type&quot;:&quot;SIGN_UP&quot;,&quot;originating_url&quot;:&quot;https://github.com/YANGFAN5203/super-duper-dollop/blob/main/Lecture%204-homework-YangFan.ipynb&quot;,&quot;user_id&quot;:null}}" data-hydro-click-hmac="add3acfb97741a00ac01b0e2e4e3961ba42ae5455e2683eb77a1dcbd2bba9c35"
            data-analytics-event="{&quot;category&quot;:&quot;Marketing nav&quot;,&quot;action&quot;:&quot;click to Sign in&quot;,&quot;label&quot;:&quot;ref_page:Marketing;ref_cta:Sign in;ref_loc:Header&quot;}"
          >
            Sign in
          </a>
      </div>
    </div>


    <div class="HeaderMenu js-header-menu height-fit position-lg-relative d-lg-flex flex-column flex-auto top-0">
      <div class="HeaderMenu-wrapper d-flex flex-column flex-self-start flex-lg-row flex-auto rounded rounded-lg-0">
          <nav class="HeaderMenu-nav" aria-label="Global">
            <ul class="d-lg-flex list-style-none">
                <li class="HeaderMenu-item position-relative flex-wrap flex-justify-between flex-items-center d-block d-lg-flex flex-lg-nowrap flex-lg-items-center js-details-container js-header-menu-item">
      <button type="button" class="HeaderMenu-link border-0 width-full width-lg-auto px-0 px-lg-2 py-lg-2 no-wrap d-flex flex-items-center flex-justify-between js-details-target" aria-expanded="false">
        Product
        <svg opacity="0.5" aria-hidden="true" height="16" viewBox="0 0 16 16" version="1.1" width="16" data-view-component="true" class="octicon octicon-chevron-down HeaderMenu-icon ml-1">
    <path d="M12.78 5.22a.749.749 0 0 1 0 1.06l-4.25 4.25a.749.749 0 0 1-1.06 0L3.22 6.28a.749.749 0 1 1 1.06-1.06L8 8.939l3.72-3.719a.749.749 0 0 1 1.06 0Z"></path>
</svg>
      </button>
      <div class="HeaderMenu-dropdown dropdown-menu rounded m-0 p-0 pt-2 pt-lg-4 position-relative position-lg-absolute left-0 left-lg-n3 pb-2 pb-lg-4 d-lg-flex flex-wrap dropdown-menu-wide">
          <div class="HeaderMenu-column px-lg-4 border-lg-right mb-4 mb-lg-0 pr-lg-7">
              <div class="border-bottom pb-3 pb-lg-0 border-lg-bottom-0">
                <ul class="list-style-none f5" >
                    <li>
  <a class="HeaderMenu-dropdown-link d-block no-underline position-relative py-2 Link--secondary d-flex flex-items-center Link--has-description pb-lg-3" data-analytics-event="{&quot;location&quot;:&quot;navbar&quot;,&quot;action&quot;:&quot;github_copilot&quot;,&quot;context&quot;:&quot;product&quot;,&quot;tag&quot;:&quot;link&quot;,&quot;label&quot;:&quot;github_copilot_link_product_navbar&quot;}" href="https://github.com/features/copilot">
      <svg aria-hidden="true" height="24" viewBox="0 0 24 24" version="1.1" width="24" data-view-component="true" class="octicon octicon-copilot color-fg-subtle mr-3">
    <path d="M23.922 16.992c-.861 1.495-5.859 5.023-11.922 5.023-6.063 0-11.061-3.528-11.922-5.023A.641.641 0 0 1 0 16.736v-2.869a.841.841 0 0 1 .053-.22c.372-.935 1.347-2.292 2.605-2.656.167-.429.414-1.055.644-1.517a10.195 10.195 0 0 1-.052-1.086c0-1.331.282-2.499 1.132-3.368.397-.406.89-.717 1.474-.952 1.399-1.136 3.392-2.093 6.122-2.093 2.731 0 4.767.957 6.166 2.093.584.235 1.077.546 1.474.952.85.869 1.132 2.037 1.132 3.368 0 .368-.014.733-.052 1.086.23.462.477 1.088.644 1.517 1.258.364 2.233 1.721 2.605 2.656a.832.832 0 0 1 .053.22v2.869a.641.641 0 0 1-.078.256ZM12.172 11h-.344a4.323 4.323 0 0 1-.355.508C10.703 12.455 9.555 13 7.965 13c-1.725 0-2.989-.359-3.782-1.259a2.005 2.005 0 0 1-.085-.104L4 11.741v6.585c1.435.779 4.514 2.179 8 2.179 3.486 0 6.565-1.4 8-2.179v-6.585l-.098-.104s-.033.045-.085.104c-.793.9-2.057 1.259-3.782 1.259-1.59 0-2.738-.545-3.508-1.492a4.323 4.323 0 0 1-.355-.508h-.016.016Zm.641-2.935c.136 1.057.403 1.913.878 2.497.442.544 1.134.938 2.344.938 1.573 0 2.292-.337 2.657-.751.384-.435.558-1.15.558-2.361 0-1.14-.243-1.847-.705-2.319-.477-.488-1.319-.862-2.824-1.025-1.487-.161-2.192.138-2.533.529-.269.307-.437.808-.438 1.578v.021c0 .265.021.562.063.893Zm-1.626 0c.042-.331.063-.628.063-.894v-.02c-.001-.77-.169-1.271-.438-1.578-.341-.391-1.046-.69-2.533-.529-1.505.163-2.347.537-2.824 1.025-.462.472-.705 1.179-.705 2.319 0 1.211.175 1.926.558 2.361.365.414 1.084.751 2.657.751 1.21 0 1.902-.394 2.344-.938.475-.584.742-1.44.878-2.497Z"></path><path d="M14.5 14.25a1 1 0 0 1 1 1v2a1 1 0 0 1-2 0v-2a1 1 0 0 1 1-1Zm-5 0a1 1 0 0 1 1 1v2a1 1 0 0 1-2 0v-2a1 1 0 0 1 1-1Z"></path>
</svg>
      <div>
        <div class="color-fg-default h4">GitHub Copilot</div>
        Write better code with AI
      </div>

    
</a></li>

                    <li>
  <a class="HeaderMenu-dropdown-link d-block no-underline position-relative py-2 Link--secondary d-flex flex-items-center Link--has-description pb-lg-3" data-analytics-event="{&quot;location&quot;:&quot;navbar&quot;,&quot;action&quot;:&quot;security&quot;,&quot;context&quot;:&quot;product&quot;,&quot;tag&quot;:&quot;link&quot;,&quot;label&quot;:&quot;security_link_product_navbar&quot;}" href="https://github.com/features/security">
      <svg aria-hidden="true" height="24" viewBox="0 0 24 24" version="1.1" width="24" data-view-component="true" class="octicon octicon-shield-check color-fg-subtle mr-3">
    <path d="M16.53 9.78a.75.75 0 0 0-1.06-1.06L11 13.19l-1.97-1.97a.75.75 0 0 0-1.06 1.06l2.5 2.5a.75.75 0 0 0 1.06 0l5-5Z"></path><path d="m12.54.637 8.25 2.675A1.75 1.75 0 0 1 22 4.976V10c0 6.19-3.771 10.704-9.401 12.83a1.704 1.704 0 0 1-1.198 0C5.77 20.705 2 16.19 2 10V4.976c0-.758.489-1.43 1.21-1.664L11.46.637a1.748 1.748 0 0 1 1.08 0Zm-.617 1.426-8.25 2.676a.249.249 0 0 0-.173.237V10c0 5.46 3.28 9.483 8.43 11.426a.199.199 0 0 0 .14 0C17.22 19.483 20.5 15.461 20.5 10V4.976a.25.25 0 0 0-.173-.237l-8.25-2.676a.253.253 0 0 0-.154 0Z"></path>
</svg>
      <div>
        <div class="color-fg-default h4">Security</div>
        Find and fix vulnerabilities
      </div>

    
</a></li>

                    <li>
  <a class="HeaderMenu-dropdown-link d-block no-underline position-relative py-2 Link--secondary d-flex flex-items-center Link--has-description pb-lg-3" data-analytics-event="{&quot;location&quot;:&quot;navbar&quot;,&quot;action&quot;:&quot;actions&quot;,&quot;context&quot;:&quot;product&quot;,&quot;tag&quot;:&quot;link&quot;,&quot;label&quot;:&quot;actions_link_product_navbar&quot;}" href="https://github.com/features/actions">
      <svg aria-hidden="true" height="24" viewBox="0 0 24 24" version="1.1" width="24" data-view-component="true" class="octicon octicon-workflow color-fg-subtle mr-3">
    <path d="M1 3a2 2 0 0 1 2-2h6.5a2 2 0 0 1 2 2v6.5a2 2 0 0 1-2 2H7v4.063C7 16.355 7.644 17 8.438 17H12.5v-2.5a2 2 0 0 1 2-2H21a2 2 0 0 1 2 2V21a2 2 0 0 1-2 2h-6.5a2 2 0 0 1-2-2v-2.5H8.437A2.939 2.939 0 0 1 5.5 15.562V11.5H3a2 2 0 0 1-2-2Zm2-.5a.5.5 0 0 0-.5.5v6.5a.5.5 0 0 0 .5.5h6.5a.5.5 0 0 0 .5-.5V3a.5.5 0 0 0-.5-.5ZM14.5 14a.5.5 0 0 0-.5.5V21a.5.5 0 0 0 .5.5H21a.5.5 0 0 0 .5-.5v-6.5a.5.5 0 0 0-.5-.5Z"></path>
</svg>
      <div>
        <div class="color-fg-default h4">Actions</div>
        Automate any workflow
      </div>

    
</a></li>

                    <li>
  <a class="HeaderMenu-dropdown-link d-block no-underline position-relative py-2 Link--secondary d-flex flex-items-center Link--has-description pb-lg-3" data-analytics-event="{&quot;location&quot;:&quot;navbar&quot;,&quot;action&quot;:&quot;codespaces&quot;,&quot;context&quot;:&quot;product&quot;,&quot;tag&quot;:&quot;link&quot;,&quot;label&quot;:&quot;codespaces_link_product_navbar&quot;}" href="https://github.com/features/codespaces">
      <svg aria-hidden="true" height="24" viewBox="0 0 24 24" version="1.1" width="24" data-view-component="true" class="octicon octicon-codespaces color-fg-subtle mr-3">
    <path d="M3.5 3.75C3.5 2.784 4.284 2 5.25 2h13.5c.966 0 1.75.784 1.75 1.75v7.5A1.75 1.75 0 0 1 18.75 13H5.25a1.75 1.75 0 0 1-1.75-1.75Zm-2 12c0-.966.784-1.75 1.75-1.75h17.5c.966 0 1.75.784 1.75 1.75v4a1.75 1.75 0 0 1-1.75 1.75H3.25a1.75 1.75 0 0 1-1.75-1.75ZM5.25 3.5a.25.25 0 0 0-.25.25v7.5c0 .138.112.25.25.25h13.5a.25.25 0 0 0 .25-.25v-7.5a.25.25 0 0 0-.25-.25Zm-2 12a.25.25 0 0 0-.25.25v4c0 .138.112.25.25.25h17.5a.25.25 0 0 0 .25-.25v-4a.25.25 0 0 0-.25-.25Z"></path><path d="M10 17.75a.75.75 0 0 1 .75-.75h6.5a.75.75 0 0 1 0 1.5h-6.5a.75.75 0 0 1-.75-.75Zm-4 0a.75.75 0 0 1 .75-.75h.5a.75.75 0 0 1 0 1.5h-.5a.75.75 0 0 1-.75-.75Z"></path>
</svg>
      <div>
        <div class="color-fg-default h4">Codespaces</div>
        Instant dev environments
      </div>

    
</a></li>

                    <li>
  <a class="HeaderMenu-dropdown-link d-block no-underline position-relative py-2 Link--secondary d-flex flex-items-center Link--has-description pb-lg-3" data-analytics-event="{&quot;location&quot;:&quot;navbar&quot;,&quot;action&quot;:&quot;issues&quot;,&quot;context&quot;:&quot;product&quot;,&quot;tag&quot;:&quot;link&quot;,&quot;label&quot;:&quot;issues_link_product_navbar&quot;}" href="https://github.com/features/issues">
      <svg aria-hidden="true" height="24" viewBox="0 0 24 24" version="1.1" width="24" data-view-component="true" class="octicon octicon-issue-opened color-fg-subtle mr-3">
    <path d="M12 1c6.075 0 11 4.925 11 11s-4.925 11-11 11S1 18.075 1 12 5.925 1 12 1ZM2.5 12a9.5 9.5 0 0 0 9.5 9.5 9.5 9.5 0 0 0 9.5-9.5A9.5 9.5 0 0 0 12 2.5 9.5 9.5 0 0 0 2.5 12Zm9.5 2a2 2 0 1 1-.001-3.999A2 2 0 0 1 12 14Z"></path>
</svg>
      <div>
        <div class="color-fg-default h4">Issues</div>
        Plan and track work
      </div>

    
</a></li>

                    <li>
  <a class="HeaderMenu-dropdown-link d-block no-underline position-relative py-2 Link--secondary d-flex flex-items-center Link--has-description pb-lg-3" data-analytics-event="{&quot;location&quot;:&quot;navbar&quot;,&quot;action&quot;:&quot;code_review&quot;,&quot;context&quot;:&quot;product&quot;,&quot;tag&quot;:&quot;link&quot;,&quot;label&quot;:&quot;code_review_link_product_navbar&quot;}" href="https://github.com/features/code-review">
      <svg aria-hidden="true" height="24" viewBox="0 0 24 24" version="1.1" width="24" data-view-component="true" class="octicon octicon-code-review color-fg-subtle mr-3">
    <path d="M10.3 6.74a.75.75 0 0 1-.04 1.06l-2.908 2.7 2.908 2.7a.75.75 0 1 1-1.02 1.1l-3.5-3.25a.75.75 0 0 1 0-1.1l3.5-3.25a.75.75 0 0 1 1.06.04Zm3.44 1.06a.75.75 0 1 1 1.02-1.1l3.5 3.25a.75.75 0 0 1 0 1.1l-3.5 3.25a.75.75 0 1 1-1.02-1.1l2.908-2.7-2.908-2.7Z"></path><path d="M1.5 4.25c0-.966.784-1.75 1.75-1.75h17.5c.966 0 1.75.784 1.75 1.75v12.5a1.75 1.75 0 0 1-1.75 1.75h-9.69l-3.573 3.573A1.458 1.458 0 0 1 5 21.043V18.5H3.25a1.75 1.75 0 0 1-1.75-1.75ZM3.25 4a.25.25 0 0 0-.25.25v12.5c0 .138.112.25.25.25h2.5a.75.75 0 0 1 .75.75v3.19l3.72-3.72a.749.749 0 0 1 .53-.22h10a.25.25 0 0 0 .25-.25V4.25a.25.25 0 0 0-.25-.25Z"></path>
</svg>
      <div>
        <div class="color-fg-default h4">Code Review</div>
        Manage code changes
      </div>

    
</a></li>

                    <li>
  <a class="HeaderMenu-dropdown-link d-block no-underline position-relative py-2 Link--secondary d-flex flex-items-center Link--has-description pb-lg-3" data-analytics-event="{&quot;location&quot;:&quot;navbar&quot;,&quot;action&quot;:&quot;discussions&quot;,&quot;context&quot;:&quot;product&quot;,&quot;tag&quot;:&quot;link&quot;,&quot;label&quot;:&quot;discussions_link_product_navbar&quot;}" href="https://github.com/features/discussions">
      <svg aria-hidden="true" height="24" viewBox="0 0 24 24" version="1.1" width="24" data-view-component="true" class="octicon octicon-comment-discussion color-fg-subtle mr-3">
    <path d="M1.75 1h12.5c.966 0 1.75.784 1.75 1.75v9.5A1.75 1.75 0 0 1 14.25 14H8.061l-2.574 2.573A1.458 1.458 0 0 1 3 15.543V14H1.75A1.75 1.75 0 0 1 0 12.25v-9.5C0 1.784.784 1 1.75 1ZM1.5 2.75v9.5c0 .138.112.25.25.25h2a.75.75 0 0 1 .75.75v2.19l2.72-2.72a.749.749 0 0 1 .53-.22h6.5a.25.25 0 0 0 .25-.25v-9.5a.25.25 0 0 0-.25-.25H1.75a.25.25 0 0 0-.25.25Z"></path><path d="M22.5 8.75a.25.25 0 0 0-.25-.25h-3.5a.75.75 0 0 1 0-1.5h3.5c.966 0 1.75.784 1.75 1.75v9.5A1.75 1.75 0 0 1 22.25 20H21v1.543a1.457 1.457 0 0 1-2.487 1.03L15.939 20H10.75A1.75 1.75 0 0 1 9 18.25v-1.465a.75.75 0 0 1 1.5 0v1.465c0 .138.112.25.25.25h5.5a.75.75 0 0 1 .53.22l2.72 2.72v-2.19a.75.75 0 0 1 .75-.75h2a.25.25 0 0 0 .25-.25v-9.5Z"></path>
</svg>
      <div>
        <div class="color-fg-default h4">Discussions</div>
        Collaborate outside of code
      </div>

    
</a></li>

                    <li>
  <a class="HeaderMenu-dropdown-link d-block no-underline position-relative py-2 Link--secondary d-flex flex-items-center Link--has-description" data-analytics-event="{&quot;location&quot;:&quot;navbar&quot;,&quot;action&quot;:&quot;code_search&quot;,&quot;context&quot;:&quot;product&quot;,&quot;tag&quot;:&quot;link&quot;,&quot;label&quot;:&quot;code_search_link_product_navbar&quot;}" href="https://github.com/features/code-search">
      <svg aria-hidden="true" height="24" viewBox="0 0 24 24" version="1.1" width="24" data-view-component="true" class="octicon octicon-code-square color-fg-subtle mr-3">
    <path d="M10.3 8.24a.75.75 0 0 1-.04 1.06L7.352 12l2.908 2.7a.75.75 0 1 1-1.02 1.1l-3.5-3.25a.75.75 0 0 1 0-1.1l3.5-3.25a.75.75 0 0 1 1.06.04Zm3.44 1.06a.75.75 0 1 1 1.02-1.1l3.5 3.25a.75.75 0 0 1 0 1.1l-3.5 3.25a.75.75 0 1 1-1.02-1.1l2.908-2.7-2.908-2.7Z"></path><path d="M2 3.75C2 2.784 2.784 2 3.75 2h16.5c.966 0 1.75.784 1.75 1.75v16.5A1.75 1.75 0 0 1 20.25 22H3.75A1.75 1.75 0 0 1 2 20.25Zm1.75-.25a.25.25 0 0 0-.25.25v16.5c0 .138.112.25.25.25h16.5a.25.25 0 0 0 .25-.25V3.75a.25.25 0 0 0-.25-.25Z"></path>
</svg>
      <div>
        <div class="color-fg-default h4">Code Search</div>
        Find more, search less
      </div>

    
</a></li>

                </ul>
              </div>
          </div>
          <div class="HeaderMenu-column px-lg-4">
              <div class="border-bottom pb-3 pb-lg-0 border-lg-bottom-0 border-bottom-0">
                    <span class="d-block h4 color-fg-default my-1" id="product-explore-heading">Explore</span>
                <ul class="list-style-none f5" aria-labelledby="product-explore-heading">
                    <li>
  <a class="HeaderMenu-dropdown-link d-block no-underline position-relative py-2 Link--secondary" data-analytics-event="{&quot;location&quot;:&quot;navbar&quot;,&quot;action&quot;:&quot;all_features&quot;,&quot;context&quot;:&quot;product&quot;,&quot;tag&quot;:&quot;link&quot;,&quot;label&quot;:&quot;all_features_link_product_navbar&quot;}" href="https://github.com/features">
      All features

    
</a></li>

                    <li>
  <a class="HeaderMenu-dropdown-link d-block no-underline position-relative py-2 Link--secondary Link--external" target="_blank" data-analytics-event="{&quot;location&quot;:&quot;navbar&quot;,&quot;action&quot;:&quot;documentation&quot;,&quot;context&quot;:&quot;product&quot;,&quot;tag&quot;:&quot;link&quot;,&quot;label&quot;:&quot;documentation_link_product_navbar&quot;}" href="https://docs.github.com">
      Documentation

    <svg aria-hidden="true" height="16" viewBox="0 0 16 16" version="1.1" width="16" data-view-component="true" class="octicon octicon-link-external HeaderMenu-external-icon color-fg-subtle">
    <path d="M3.75 2h3.5a.75.75 0 0 1 0 1.5h-3.5a.25.25 0 0 0-.25.25v8.5c0 .138.112.25.25.25h8.5a.25.25 0 0 0 .25-.25v-3.5a.75.75 0 0 1 1.5 0v3.5A1.75 1.75 0 0 1 12.25 14h-8.5A1.75 1.75 0 0 1 2 12.25v-8.5C2 2.784 2.784 2 3.75 2Zm6.854-1h4.146a.25.25 0 0 1 .25.25v4.146a.25.25 0 0 1-.427.177L13.03 4.03 9.28 7.78a.751.751 0 0 1-1.042-.018.751.751 0 0 1-.018-1.042l3.75-3.75-1.543-1.543A.25.25 0 0 1 10.604 1Z"></path>
</svg>
</a></li>

                    <li>
  <a class="HeaderMenu-dropdown-link d-block no-underline position-relative py-2 Link--secondary Link--external" target="_blank" data-analytics-event="{&quot;location&quot;:&quot;navbar&quot;,&quot;action&quot;:&quot;github_skills&quot;,&quot;context&quot;:&quot;product&quot;,&quot;tag&quot;:&quot;link&quot;,&quot;label&quot;:&quot;github_skills_link_product_navbar&quot;}" href="https://skills.github.com">
      GitHub Skills

    <svg aria-hidden="true" height="16" viewBox="0 0 16 16" version="1.1" width="16" data-view-component="true" class="octicon octicon-link-external HeaderMenu-external-icon color-fg-subtle">
    <path d="M3.75 2h3.5a.75.75 0 0 1 0 1.5h-3.5a.25.25 0 0 0-.25.25v8.5c0 .138.112.25.25.25h8.5a.25.25 0 0 0 .25-.25v-3.5a.75.75 0 0 1 1.5 0v3.5A1.75 1.75 0 0 1 12.25 14h-8.5A1.75 1.75 0 0 1 2 12.25v-8.5C2 2.784 2.784 2 3.75 2Zm6.854-1h4.146a.25.25 0 0 1 .25.25v4.146a.25.25 0 0 1-.427.177L13.03 4.03 9.28 7.78a.751.751 0 0 1-1.042-.018.751.751 0 0 1-.018-1.042l3.75-3.75-1.543-1.543A.25.25 0 0 1 10.604 1Z"></path>
</svg>
</a></li>

                    <li>
  <a class="HeaderMenu-dropdown-link d-block no-underline position-relative py-2 Link--secondary Link--external" target="_blank" data-analytics-event="{&quot;location&quot;:&quot;navbar&quot;,&quot;action&quot;:&quot;blog&quot;,&quot;context&quot;:&quot;product&quot;,&quot;tag&quot;:&quot;link&quot;,&quot;label&quot;:&quot;blog_link_product_navbar&quot;}" href="https://github.blog">
      Blog

    <svg aria-hidden="true" height="16" viewBox="0 0 16 16" version="1.1" width="16" data-view-component="true" class="octicon octicon-link-external HeaderMenu-external-icon color-fg-subtle">
    <path d="M3.75 2h3.5a.75.75 0 0 1 0 1.5h-3.5a.25.25 0 0 0-.25.25v8.5c0 .138.112.25.25.25h8.5a.25.25 0 0 0 .25-.25v-3.5a.75.75 0 0 1 1.5 0v3.5A1.75 1.75 0 0 1 12.25 14h-8.5A1.75 1.75 0 0 1 2 12.25v-8.5C2 2.784 2.784 2 3.75 2Zm6.854-1h4.146a.25.25 0 0 1 .25.25v4.146a.25.25 0 0 1-.427.177L13.03 4.03 9.28 7.78a.751.751 0 0 1-1.042-.018.751.751 0 0 1-.018-1.042l3.75-3.75-1.543-1.543A.25.25 0 0 1 10.604 1Z"></path>
</svg>
</a></li>

                </ul>
              </div>
          </div>
      </div>
</li>

                  <li class="HeaderMenu-item position-relative flex-wrap flex-justify-between flex-items-center d-block d-lg-flex flex-lg-nowrap flex-lg-items-center js-details-container js-header-menu-item">
      <button type="button" class="HeaderMenu-link border-0 width-full width-lg-auto px-0 px-lg-2 py-lg-2 no-wrap d-flex flex-items-center flex-justify-between js-details-target" aria-expanded="false">
        Solutions
        <svg opacity="0.5" aria-hidden="true" height="16" viewBox="0 0 16 16" version="1.1" width="16" data-view-component="true" class="octicon octicon-chevron-down HeaderMenu-icon ml-1">
    <path d="M12.78 5.22a.749.749 0 0 1 0 1.06l-4.25 4.25a.749.749 0 0 1-1.06 0L3.22 6.28a.749.749 0 1 1 1.06-1.06L8 8.939l3.72-3.719a.749.749 0 0 1 1.06 0Z"></path>
</svg>
      </button>
      <div class="HeaderMenu-dropdown dropdown-menu rounded m-0 p-0 pt-2 pt-lg-4 position-relative position-lg-absolute left-0 left-lg-n3 d-lg-flex flex-wrap dropdown-menu-wide">
          <div class="HeaderMenu-column px-lg-4 border-lg-right mb-4 mb-lg-0 pr-lg-7">
              <div class="border-bottom pb-3 pb-lg-0 border-lg-bottom-0 pb-lg-3 mb-3 mb-lg-0">
                    <span class="d-block h4 color-fg-default my-1" id="solutions-by-company-size-heading">By company size</span>
                <ul class="list-style-none f5" aria-labelledby="solutions-by-company-size-heading">
                    <li>
  <a class="HeaderMenu-dropdown-link d-block no-underline position-relative py-2 Link--secondary" data-analytics-event="{&quot;location&quot;:&quot;navbar&quot;,&quot;action&quot;:&quot;enterprises&quot;,&quot;context&quot;:&quot;solutions&quot;,&quot;tag&quot;:&quot;link&quot;,&quot;label&quot;:&quot;enterprises_link_solutions_navbar&quot;}" href="https://github.com/enterprise">
      Enterprises

    
</a></li>

                    <li>
  <a class="HeaderMenu-dropdown-link d-block no-underline position-relative py-2 Link--secondary" data-analytics-event="{&quot;location&quot;:&quot;navbar&quot;,&quot;action&quot;:&quot;small_and_medium_teams&quot;,&quot;context&quot;:&quot;solutions&quot;,&quot;tag&quot;:&quot;link&quot;,&quot;label&quot;:&quot;small_and_medium_teams_link_solutions_navbar&quot;}" href="https://github.com/team">
      Small and medium teams

    
</a></li>

                    <li>
  <a class="HeaderMenu-dropdown-link d-block no-underline position-relative py-2 Link--secondary" data-analytics-event="{&quot;location&quot;:&quot;navbar&quot;,&quot;action&quot;:&quot;startups&quot;,&quot;context&quot;:&quot;solutions&quot;,&quot;tag&quot;:&quot;link&quot;,&quot;label&quot;:&quot;startups_link_solutions_navbar&quot;}" href="https://github.com/enterprise/startups">
      Startups

    
</a></li>

                </ul>
              </div>
              <div class="border-bottom pb-3 pb-lg-0 border-lg-bottom-0">
                    <span class="d-block h4 color-fg-default my-1" id="solutions-by-use-case-heading">By use case</span>
                <ul class="list-style-none f5" aria-labelledby="solutions-by-use-case-heading">
                    <li>
  <a class="HeaderMenu-dropdown-link d-block no-underline position-relative py-2 Link--secondary" data-analytics-event="{&quot;location&quot;:&quot;navbar&quot;,&quot;action&quot;:&quot;devsecops&quot;,&quot;context&quot;:&quot;solutions&quot;,&quot;tag&quot;:&quot;link&quot;,&quot;label&quot;:&quot;devsecops_link_solutions_navbar&quot;}" href="/solutions/use-case/devsecops">
      DevSecOps

    
</a></li>

                    <li>
  <a class="HeaderMenu-dropdown-link d-block no-underline position-relative py-2 Link--secondary" data-analytics-event="{&quot;location&quot;:&quot;navbar&quot;,&quot;action&quot;:&quot;devops&quot;,&quot;context&quot;:&quot;solutions&quot;,&quot;tag&quot;:&quot;link&quot;,&quot;label&quot;:&quot;devops_link_solutions_navbar&quot;}" href="/solutions/use-case/devops">
      DevOps

    
</a></li>

                    <li>
  <a class="HeaderMenu-dropdown-link d-block no-underline position-relative py-2 Link--secondary" data-analytics-event="{&quot;location&quot;:&quot;navbar&quot;,&quot;action&quot;:&quot;ci_cd&quot;,&quot;context&quot;:&quot;solutions&quot;,&quot;tag&quot;:&quot;link&quot;,&quot;label&quot;:&quot;ci_cd_link_solutions_navbar&quot;}" href="/solutions/use-case/ci-cd">
      CI/CD

    
</a></li>

                    <li>
  <a class="HeaderMenu-dropdown-link d-block no-underline position-relative py-2 Link--secondary" data-analytics-event="{&quot;location&quot;:&quot;navbar&quot;,&quot;action&quot;:&quot;view_all_use_cases&quot;,&quot;context&quot;:&quot;solutions&quot;,&quot;tag&quot;:&quot;link&quot;,&quot;label&quot;:&quot;view_all_use_cases_link_solutions_navbar&quot;}" href="/solutions/use-case">
      View all use cases

    
</a></li>

                </ul>
              </div>
          </div>
          <div class="HeaderMenu-column px-lg-4">
              <div class="border-bottom pb-3 pb-lg-0 border-lg-bottom-0">
                    <span class="d-block h4 color-fg-default my-1" id="solutions-by-industry-heading">By industry</span>
                <ul class="list-style-none f5" aria-labelledby="solutions-by-industry-heading">
                    <li>
  <a class="HeaderMenu-dropdown-link d-block no-underline position-relative py-2 Link--secondary" data-analytics-event="{&quot;location&quot;:&quot;navbar&quot;,&quot;action&quot;:&quot;healthcare&quot;,&quot;context&quot;:&quot;solutions&quot;,&quot;tag&quot;:&quot;link&quot;,&quot;label&quot;:&quot;healthcare_link_solutions_navbar&quot;}" href="/solutions/industry/healthcare">
      Healthcare

    
</a></li>

                    <li>
  <a class="HeaderMenu-dropdown-link d-block no-underline position-relative py-2 Link--secondary" data-analytics-event="{&quot;location&quot;:&quot;navbar&quot;,&quot;action&quot;:&quot;financial_services&quot;,&quot;context&quot;:&quot;solutions&quot;,&quot;tag&quot;:&quot;link&quot;,&quot;label&quot;:&quot;financial_services_link_solutions_navbar&quot;}" href="/solutions/industry/financial-services">
      Financial services

    
</a></li>

                    <li>
  <a class="HeaderMenu-dropdown-link d-block no-underline position-relative py-2 Link--secondary" data-analytics-event="{&quot;location&quot;:&quot;navbar&quot;,&quot;action&quot;:&quot;manufacturing&quot;,&quot;context&quot;:&quot;solutions&quot;,&quot;tag&quot;:&quot;link&quot;,&quot;label&quot;:&quot;manufacturing_link_solutions_navbar&quot;}" href="/solutions/industry/manufacturing">
      Manufacturing

    
</a></li>

                    <li>
  <a class="HeaderMenu-dropdown-link d-block no-underline position-relative py-2 Link--secondary" data-analytics-event="{&quot;location&quot;:&quot;navbar&quot;,&quot;action&quot;:&quot;government&quot;,&quot;context&quot;:&quot;solutions&quot;,&quot;tag&quot;:&quot;link&quot;,&quot;label&quot;:&quot;government_link_solutions_navbar&quot;}" href="/solutions/industry/government">
      Government

    
</a></li>

                    <li>
  <a class="HeaderMenu-dropdown-link d-block no-underline position-relative py-2 Link--secondary" data-analytics-event="{&quot;location&quot;:&quot;navbar&quot;,&quot;action&quot;:&quot;view_all_industries&quot;,&quot;context&quot;:&quot;solutions&quot;,&quot;tag&quot;:&quot;link&quot;,&quot;label&quot;:&quot;view_all_industries_link_solutions_navbar&quot;}" href="/solutions/industry">
      View all industries

    
</a></li>

                </ul>
              </div>
          </div>
         <div class="HeaderMenu-trailing-link rounded-bottom-2 flex-shrink-0 mt-lg-4 px-lg-4 py-4 py-lg-3 f5 text-semibold">
            <a href="/solutions">
              View all solutions
              <svg aria-hidden="true" height="16" viewBox="0 0 16 16" version="1.1" width="16" data-view-component="true" class="octicon octicon-chevron-right HeaderMenu-trailing-link-icon">
    <path d="M6.22 3.22a.75.75 0 0 1 1.06 0l4.25 4.25a.75.75 0 0 1 0 1.06l-4.25 4.25a.751.751 0 0 1-1.042-.018.751.751 0 0 1-.018-1.042L9.94 8 6.22 4.28a.75.75 0 0 1 0-1.06Z"></path>
</svg>
</a>         </div>
      </div>
</li>

                  <li class="HeaderMenu-item position-relative flex-wrap flex-justify-between flex-items-center d-block d-lg-flex flex-lg-nowrap flex-lg-items-center js-details-container js-header-menu-item">
      <button type="button" class="HeaderMenu-link border-0 width-full width-lg-auto px-0 px-lg-2 py-lg-2 no-wrap d-flex flex-items-center flex-justify-between js-details-target" aria-expanded="false">
        Resources
        <svg opacity="0.5" aria-hidden="true" height="16" viewBox="0 0 16 16" version="1.1" width="16" data-view-component="true" class="octicon octicon-chevron-down HeaderMenu-icon ml-1">
    <path d="M12.78 5.22a.749.749 0 0 1 0 1.06l-4.25 4.25a.749.749 0 0 1-1.06 0L3.22 6.28a.749.749 0 1 1 1.06-1.06L8 8.939l3.72-3.719a.749.749 0 0 1 1.06 0Z"></path>
</svg>
      </button>
      <div class="HeaderMenu-dropdown dropdown-menu rounded m-0 p-0 pt-2 pt-lg-4 position-relative position-lg-absolute left-0 left-lg-n3 pb-2 pb-lg-4 d-lg-flex flex-wrap dropdown-menu-wide">
          <div class="HeaderMenu-column px-lg-4 border-lg-right mb-4 mb-lg-0 pr-lg-7">
              <div class="border-bottom pb-3 pb-lg-0 border-lg-bottom-0">
                    <span class="d-block h4 color-fg-default my-1" id="resources-topics-heading">Topics</span>
                <ul class="list-style-none f5" aria-labelledby="resources-topics-heading">
                    <li>
  <a class="HeaderMenu-dropdown-link d-block no-underline position-relative py-2 Link--secondary" data-analytics-event="{&quot;location&quot;:&quot;navbar&quot;,&quot;action&quot;:&quot;ai&quot;,&quot;context&quot;:&quot;resources&quot;,&quot;tag&quot;:&quot;link&quot;,&quot;label&quot;:&quot;ai_link_resources_navbar&quot;}" href="/resources/articles/ai">
      AI

    
</a></li>

                    <li>
  <a class="HeaderMenu-dropdown-link d-block no-underline position-relative py-2 Link--secondary" data-analytics-event="{&quot;location&quot;:&quot;navbar&quot;,&quot;action&quot;:&quot;devops&quot;,&quot;context&quot;:&quot;resources&quot;,&quot;tag&quot;:&quot;link&quot;,&quot;label&quot;:&quot;devops_link_resources_navbar&quot;}" href="/resources/articles/devops">
      DevOps

    
</a></li>

                    <li>
  <a class="HeaderMenu-dropdown-link d-block no-underline position-relative py-2 Link--secondary" data-analytics-event="{&quot;location&quot;:&quot;navbar&quot;,&quot;action&quot;:&quot;security&quot;,&quot;context&quot;:&quot;resources&quot;,&quot;tag&quot;:&quot;link&quot;,&quot;label&quot;:&quot;security_link_resources_navbar&quot;}" href="/resources/articles/security">
      Security

    
</a></li>

                    <li>
  <a class="HeaderMenu-dropdown-link d-block no-underline position-relative py-2 Link--secondary" data-analytics-event="{&quot;location&quot;:&quot;navbar&quot;,&quot;action&quot;:&quot;software_development&quot;,&quot;context&quot;:&quot;resources&quot;,&quot;tag&quot;:&quot;link&quot;,&quot;label&quot;:&quot;software_development_link_resources_navbar&quot;}" href="/resources/articles/software-development">
      Software Development

    
</a></li>

                    <li>
  <a class="HeaderMenu-dropdown-link d-block no-underline position-relative py-2 Link--secondary" data-analytics-event="{&quot;location&quot;:&quot;navbar&quot;,&quot;action&quot;:&quot;view_all&quot;,&quot;context&quot;:&quot;resources&quot;,&quot;tag&quot;:&quot;link&quot;,&quot;label&quot;:&quot;view_all_link_resources_navbar&quot;}" href="/resources/articles">
      View all

    
</a></li>

                </ul>
              </div>
          </div>
          <div class="HeaderMenu-column px-lg-4">
              <div class="border-bottom pb-3 pb-lg-0 border-lg-bottom-0 border-bottom-0">
                    <span class="d-block h4 color-fg-default my-1" id="resources-explore-heading">Explore</span>
                <ul class="list-style-none f5" aria-labelledby="resources-explore-heading">
                    <li>
  <a class="HeaderMenu-dropdown-link d-block no-underline position-relative py-2 Link--secondary Link--external" target="_blank" data-analytics-event="{&quot;location&quot;:&quot;navbar&quot;,&quot;action&quot;:&quot;learning_pathways&quot;,&quot;context&quot;:&quot;resources&quot;,&quot;tag&quot;:&quot;link&quot;,&quot;label&quot;:&quot;learning_pathways_link_resources_navbar&quot;}" href="https://resources.github.com/learn/pathways">
      Learning Pathways

    <svg aria-hidden="true" height="16" viewBox="0 0 16 16" version="1.1" width="16" data-view-component="true" class="octicon octicon-link-external HeaderMenu-external-icon color-fg-subtle">
    <path d="M3.75 2h3.5a.75.75 0 0 1 0 1.5h-3.5a.25.25 0 0 0-.25.25v8.5c0 .138.112.25.25.25h8.5a.25.25 0 0 0 .25-.25v-3.5a.75.75 0 0 1 1.5 0v3.5A1.75 1.75 0 0 1 12.25 14h-8.5A1.75 1.75 0 0 1 2 12.25v-8.5C2 2.784 2.784 2 3.75 2Zm6.854-1h4.146a.25.25 0 0 1 .25.25v4.146a.25.25 0 0 1-.427.177L13.03 4.03 9.28 7.78a.751.751 0 0 1-1.042-.018.751.751 0 0 1-.018-1.042l3.75-3.75-1.543-1.543A.25.25 0 0 1 10.604 1Z"></path>
</svg>
</a></li>

                    <li>
  <a class="HeaderMenu-dropdown-link d-block no-underline position-relative py-2 Link--secondary Link--external" target="_blank" data-analytics-event="{&quot;location&quot;:&quot;navbar&quot;,&quot;action&quot;:&quot;white_papers_ebooks_webinars&quot;,&quot;context&quot;:&quot;resources&quot;,&quot;tag&quot;:&quot;link&quot;,&quot;label&quot;:&quot;white_papers_ebooks_webinars_link_resources_navbar&quot;}" href="https://resources.github.com">
      White papers, Ebooks, Webinars

    <svg aria-hidden="true" height="16" viewBox="0 0 16 16" version="1.1" width="16" data-view-component="true" class="octicon octicon-link-external HeaderMenu-external-icon color-fg-subtle">
    <path d="M3.75 2h3.5a.75.75 0 0 1 0 1.5h-3.5a.25.25 0 0 0-.25.25v8.5c0 .138.112.25.25.25h8.5a.25.25 0 0 0 .25-.25v-3.5a.75.75 0 0 1 1.5 0v3.5A1.75 1.75 0 0 1 12.25 14h-8.5A1.75 1.75 0 0 1 2 12.25v-8.5C2 2.784 2.784 2 3.75 2Zm6.854-1h4.146a.25.25 0 0 1 .25.25v4.146a.25.25 0 0 1-.427.177L13.03 4.03 9.28 7.78a.751.751 0 0 1-1.042-.018.751.751 0 0 1-.018-1.042l3.75-3.75-1.543-1.543A.25.25 0 0 1 10.604 1Z"></path>
</svg>
</a></li>

                    <li>
  <a class="HeaderMenu-dropdown-link d-block no-underline position-relative py-2 Link--secondary" data-analytics-event="{&quot;location&quot;:&quot;navbar&quot;,&quot;action&quot;:&quot;customer_stories&quot;,&quot;context&quot;:&quot;resources&quot;,&quot;tag&quot;:&quot;link&quot;,&quot;label&quot;:&quot;customer_stories_link_resources_navbar&quot;}" href="https://github.com/customer-stories">
      Customer Stories

    
</a></li>

                    <li>
  <a class="HeaderMenu-dropdown-link d-block no-underline position-relative py-2 Link--secondary Link--external" target="_blank" data-analytics-event="{&quot;location&quot;:&quot;navbar&quot;,&quot;action&quot;:&quot;partners&quot;,&quot;context&quot;:&quot;resources&quot;,&quot;tag&quot;:&quot;link&quot;,&quot;label&quot;:&quot;partners_link_resources_navbar&quot;}" href="https://partner.github.com">
      Partners

    <svg aria-hidden="true" height="16" viewBox="0 0 16 16" version="1.1" width="16" data-view-component="true" class="octicon octicon-link-external HeaderMenu-external-icon color-fg-subtle">
    <path d="M3.75 2h3.5a.75.75 0 0 1 0 1.5h-3.5a.25.25 0 0 0-.25.25v8.5c0 .138.112.25.25.25h8.5a.25.25 0 0 0 .25-.25v-3.5a.75.75 0 0 1 1.5 0v3.5A1.75 1.75 0 0 1 12.25 14h-8.5A1.75 1.75 0 0 1 2 12.25v-8.5C2 2.784 2.784 2 3.75 2Zm6.854-1h4.146a.25.25 0 0 1 .25.25v4.146a.25.25 0 0 1-.427.177L13.03 4.03 9.28 7.78a.751.751 0 0 1-1.042-.018.751.751 0 0 1-.018-1.042l3.75-3.75-1.543-1.543A.25.25 0 0 1 10.604 1Z"></path>
</svg>
</a></li>

                </ul>
              </div>
          </div>
      </div>
</li>


                <li class="HeaderMenu-item position-relative flex-wrap flex-justify-between flex-items-center d-block d-lg-flex flex-lg-nowrap flex-lg-items-center js-details-container js-header-menu-item">
      <button type="button" class="HeaderMenu-link border-0 width-full width-lg-auto px-0 px-lg-2 py-lg-2 no-wrap d-flex flex-items-center flex-justify-between js-details-target" aria-expanded="false">
        Open Source
        <svg opacity="0.5" aria-hidden="true" height="16" viewBox="0 0 16 16" version="1.1" width="16" data-view-component="true" class="octicon octicon-chevron-down HeaderMenu-icon ml-1">
    <path d="M12.78 5.22a.749.749 0 0 1 0 1.06l-4.25 4.25a.749.749 0 0 1-1.06 0L3.22 6.28a.749.749 0 1 1 1.06-1.06L8 8.939l3.72-3.719a.749.749 0 0 1 1.06 0Z"></path>
</svg>
      </button>
      <div class="HeaderMenu-dropdown dropdown-menu rounded m-0 p-0 pt-2 pt-lg-4 position-relative position-lg-absolute left-0 left-lg-n3 pb-2 pb-lg-4 px-lg-4">
          <div class="HeaderMenu-column">
              <div class="border-bottom pb-3 pb-lg-0 pb-lg-3 mb-3 mb-lg-0 mb-lg-3">
                <ul class="list-style-none f5" >
                    <li>
  <a class="HeaderMenu-dropdown-link d-block no-underline position-relative py-2 Link--secondary d-flex flex-items-center Link--has-description" data-analytics-event="{&quot;location&quot;:&quot;navbar&quot;,&quot;action&quot;:&quot;github_sponsors&quot;,&quot;context&quot;:&quot;open_source&quot;,&quot;tag&quot;:&quot;link&quot;,&quot;label&quot;:&quot;github_sponsors_link_open_source_navbar&quot;}" href="/sponsors">
      
      <div>
        <div class="color-fg-default h4">GitHub Sponsors</div>
        Fund open source developers
      </div>

    
</a></li>

                </ul>
              </div>
              <div class="border-bottom pb-3 pb-lg-0 pb-lg-3 mb-3 mb-lg-0 mb-lg-3">
                <ul class="list-style-none f5" >
                    <li>
  <a class="HeaderMenu-dropdown-link d-block no-underline position-relative py-2 Link--secondary d-flex flex-items-center Link--has-description" data-analytics-event="{&quot;location&quot;:&quot;navbar&quot;,&quot;action&quot;:&quot;the_readme_project&quot;,&quot;context&quot;:&quot;open_source&quot;,&quot;tag&quot;:&quot;link&quot;,&quot;label&quot;:&quot;the_readme_project_link_open_source_navbar&quot;}" href="https://github.com/readme">
      
      <div>
        <div class="color-fg-default h4">The ReadME Project</div>
        GitHub community articles
      </div>

    
</a></li>

                </ul>
              </div>
              <div class="border-bottom pb-3 pb-lg-0 border-bottom-0">
                    <span class="d-block h4 color-fg-default my-1" id="open-source-repositories-heading">Repositories</span>
                <ul class="list-style-none f5" aria-labelledby="open-source-repositories-heading">
                    <li>
  <a class="HeaderMenu-dropdown-link d-block no-underline position-relative py-2 Link--secondary" data-analytics-event="{&quot;location&quot;:&quot;navbar&quot;,&quot;action&quot;:&quot;topics&quot;,&quot;context&quot;:&quot;open_source&quot;,&quot;tag&quot;:&quot;link&quot;,&quot;label&quot;:&quot;topics_link_open_source_navbar&quot;}" href="https://github.com/topics">
      Topics

    
</a></li>

                    <li>
  <a class="HeaderMenu-dropdown-link d-block no-underline position-relative py-2 Link--secondary" data-analytics-event="{&quot;location&quot;:&quot;navbar&quot;,&quot;action&quot;:&quot;trending&quot;,&quot;context&quot;:&quot;open_source&quot;,&quot;tag&quot;:&quot;link&quot;,&quot;label&quot;:&quot;trending_link_open_source_navbar&quot;}" href="https://github.com/trending">
      Trending

    
</a></li>

                    <li>
  <a class="HeaderMenu-dropdown-link d-block no-underline position-relative py-2 Link--secondary" data-analytics-event="{&quot;location&quot;:&quot;navbar&quot;,&quot;action&quot;:&quot;collections&quot;,&quot;context&quot;:&quot;open_source&quot;,&quot;tag&quot;:&quot;link&quot;,&quot;label&quot;:&quot;collections_link_open_source_navbar&quot;}" href="https://github.com/collections">
      Collections

    
</a></li>

                </ul>
              </div>
          </div>
      </div>
</li>


                <li class="HeaderMenu-item position-relative flex-wrap flex-justify-between flex-items-center d-block d-lg-flex flex-lg-nowrap flex-lg-items-center js-details-container js-header-menu-item">
      <button type="button" class="HeaderMenu-link border-0 width-full width-lg-auto px-0 px-lg-2 py-lg-2 no-wrap d-flex flex-items-center flex-justify-between js-details-target" aria-expanded="false">
        Enterprise
        <svg opacity="0.5" aria-hidden="true" height="16" viewBox="0 0 16 16" version="1.1" width="16" data-view-component="true" class="octicon octicon-chevron-down HeaderMenu-icon ml-1">
    <path d="M12.78 5.22a.749.749 0 0 1 0 1.06l-4.25 4.25a.749.749 0 0 1-1.06 0L3.22 6.28a.749.749 0 1 1 1.06-1.06L8 8.939l3.72-3.719a.749.749 0 0 1 1.06 0Z"></path>
</svg>
      </button>
      <div class="HeaderMenu-dropdown dropdown-menu rounded m-0 p-0 pt-2 pt-lg-4 position-relative position-lg-absolute left-0 left-lg-n3 pb-2 pb-lg-4 px-lg-4">
          <div class="HeaderMenu-column">
              <div class="border-bottom pb-3 pb-lg-0 pb-lg-3 mb-3 mb-lg-0 mb-lg-3">
                <ul class="list-style-none f5" >
                    <li>
  <a class="HeaderMenu-dropdown-link d-block no-underline position-relative py-2 Link--secondary d-flex flex-items-center Link--has-description" data-analytics-event="{&quot;location&quot;:&quot;navbar&quot;,&quot;action&quot;:&quot;enterprise_platform&quot;,&quot;context&quot;:&quot;enterprise&quot;,&quot;tag&quot;:&quot;link&quot;,&quot;label&quot;:&quot;enterprise_platform_link_enterprise_navbar&quot;}" href="/enterprise">
      <svg aria-hidden="true" height="24" viewBox="0 0 24 24" version="1.1" width="24" data-view-component="true" class="octicon octicon-stack color-fg-subtle mr-3">
    <path d="M11.063 1.456a1.749 1.749 0 0 1 1.874 0l8.383 5.316a1.751 1.751 0 0 1 0 2.956l-8.383 5.316a1.749 1.749 0 0 1-1.874 0L2.68 9.728a1.751 1.751 0 0 1 0-2.956Zm1.071 1.267a.25.25 0 0 0-.268 0L3.483 8.039a.25.25 0 0 0 0 .422l8.383 5.316a.25.25 0 0 0 .268 0l8.383-5.316a.25.25 0 0 0 0-.422Z"></path><path d="M1.867 12.324a.75.75 0 0 1 1.035-.232l8.964 5.685a.25.25 0 0 0 .268 0l8.964-5.685a.75.75 0 0 1 .804 1.267l-8.965 5.685a1.749 1.749 0 0 1-1.874 0l-8.965-5.685a.75.75 0 0 1-.231-1.035Z"></path><path d="M1.867 16.324a.75.75 0 0 1 1.035-.232l8.964 5.685a.25.25 0 0 0 .268 0l8.964-5.685a.75.75 0 0 1 .804 1.267l-8.965 5.685a1.749 1.749 0 0 1-1.874 0l-8.965-5.685a.75.75 0 0 1-.231-1.035Z"></path>
</svg>
      <div>
        <div class="color-fg-default h4">Enterprise platform</div>
        AI-powered developer platform
      </div>

    
</a></li>

                </ul>
              </div>
              <div class="border-bottom pb-3 pb-lg-0 border-bottom-0">
                    <span class="d-block h4 color-fg-default my-1" id="enterprise-available-add-ons-heading">Available add-ons</span>
                <ul class="list-style-none f5" aria-labelledby="enterprise-available-add-ons-heading">
                    <li>
  <a class="HeaderMenu-dropdown-link d-block no-underline position-relative py-2 Link--secondary d-flex flex-items-center Link--has-description pb-lg-3" data-analytics-event="{&quot;location&quot;:&quot;navbar&quot;,&quot;action&quot;:&quot;advanced_security&quot;,&quot;context&quot;:&quot;enterprise&quot;,&quot;tag&quot;:&quot;link&quot;,&quot;label&quot;:&quot;advanced_security_link_enterprise_navbar&quot;}" href="https://github.com/enterprise/advanced-security">
      <svg aria-hidden="true" height="24" viewBox="0 0 24 24" version="1.1" width="24" data-view-component="true" class="octicon octicon-shield-check color-fg-subtle mr-3">
    <path d="M16.53 9.78a.75.75 0 0 0-1.06-1.06L11 13.19l-1.97-1.97a.75.75 0 0 0-1.06 1.06l2.5 2.5a.75.75 0 0 0 1.06 0l5-5Z"></path><path d="m12.54.637 8.25 2.675A1.75 1.75 0 0 1 22 4.976V10c0 6.19-3.771 10.704-9.401 12.83a1.704 1.704 0 0 1-1.198 0C5.77 20.705 2 16.19 2 10V4.976c0-.758.489-1.43 1.21-1.664L11.46.637a1.748 1.748 0 0 1 1.08 0Zm-.617 1.426-8.25 2.676a.249.249 0 0 0-.173.237V10c0 5.46 3.28 9.483 8.43 11.426a.199.199 0 0 0 .14 0C17.22 19.483 20.5 15.461 20.5 10V4.976a.25.25 0 0 0-.173-.237l-8.25-2.676a.253.253 0 0 0-.154 0Z"></path>
</svg>
      <div>
        <div class="color-fg-default h4">Advanced Security</div>
        Enterprise-grade security features
      </div>

    
</a></li>

                    <li>
  <a class="HeaderMenu-dropdown-link d-block no-underline position-relative py-2 Link--secondary d-flex flex-items-center Link--has-description pb-lg-3" data-analytics-event="{&quot;location&quot;:&quot;navbar&quot;,&quot;action&quot;:&quot;github_copilot&quot;,&quot;context&quot;:&quot;enterprise&quot;,&quot;tag&quot;:&quot;link&quot;,&quot;label&quot;:&quot;github_copilot_link_enterprise_navbar&quot;}" href="/features/copilot#enterprise">
      <svg aria-hidden="true" height="24" viewBox="0 0 24 24" version="1.1" width="24" data-view-component="true" class="octicon octicon-copilot color-fg-subtle mr-3">
    <path d="M23.922 16.992c-.861 1.495-5.859 5.023-11.922 5.023-6.063 0-11.061-3.528-11.922-5.023A.641.641 0 0 1 0 16.736v-2.869a.841.841 0 0 1 .053-.22c.372-.935 1.347-2.292 2.605-2.656.167-.429.414-1.055.644-1.517a10.195 10.195 0 0 1-.052-1.086c0-1.331.282-2.499 1.132-3.368.397-.406.89-.717 1.474-.952 1.399-1.136 3.392-2.093 6.122-2.093 2.731 0 4.767.957 6.166 2.093.584.235 1.077.546 1.474.952.85.869 1.132 2.037 1.132 3.368 0 .368-.014.733-.052 1.086.23.462.477 1.088.644 1.517 1.258.364 2.233 1.721 2.605 2.656a.832.832 0 0 1 .053.22v2.869a.641.641 0 0 1-.078.256ZM12.172 11h-.344a4.323 4.323 0 0 1-.355.508C10.703 12.455 9.555 13 7.965 13c-1.725 0-2.989-.359-3.782-1.259a2.005 2.005 0 0 1-.085-.104L4 11.741v6.585c1.435.779 4.514 2.179 8 2.179 3.486 0 6.565-1.4 8-2.179v-6.585l-.098-.104s-.033.045-.085.104c-.793.9-2.057 1.259-3.782 1.259-1.59 0-2.738-.545-3.508-1.492a4.323 4.323 0 0 1-.355-.508h-.016.016Zm.641-2.935c.136 1.057.403 1.913.878 2.497.442.544 1.134.938 2.344.938 1.573 0 2.292-.337 2.657-.751.384-.435.558-1.15.558-2.361 0-1.14-.243-1.847-.705-2.319-.477-.488-1.319-.862-2.824-1.025-1.487-.161-2.192.138-2.533.529-.269.307-.437.808-.438 1.578v.021c0 .265.021.562.063.893Zm-1.626 0c.042-.331.063-.628.063-.894v-.02c-.001-.77-.169-1.271-.438-1.578-.341-.391-1.046-.69-2.533-.529-1.505.163-2.347.537-2.824 1.025-.462.472-.705 1.179-.705 2.319 0 1.211.175 1.926.558 2.361.365.414 1.084.751 2.657.751 1.21 0 1.902-.394 2.344-.938.475-.584.742-1.44.878-2.497Z"></path><path d="M14.5 14.25a1 1 0 0 1 1 1v2a1 1 0 0 1-2 0v-2a1 1 0 0 1 1-1Zm-5 0a1 1 0 0 1 1 1v2a1 1 0 0 1-2 0v-2a1 1 0 0 1 1-1Z"></path>
</svg>
      <div>
        <div class="color-fg-default h4">GitHub Copilot</div>
        Enterprise-grade AI features
      </div>

    
</a></li>

                    <li>
  <a class="HeaderMenu-dropdown-link d-block no-underline position-relative py-2 Link--secondary d-flex flex-items-center Link--has-description" data-analytics-event="{&quot;location&quot;:&quot;navbar&quot;,&quot;action&quot;:&quot;premium_support&quot;,&quot;context&quot;:&quot;enterprise&quot;,&quot;tag&quot;:&quot;link&quot;,&quot;label&quot;:&quot;premium_support_link_enterprise_navbar&quot;}" href="/premium-support">
      <svg aria-hidden="true" height="24" viewBox="0 0 24 24" version="1.1" width="24" data-view-component="true" class="octicon octicon-comment-discussion color-fg-subtle mr-3">
    <path d="M1.75 1h12.5c.966 0 1.75.784 1.75 1.75v9.5A1.75 1.75 0 0 1 14.25 14H8.061l-2.574 2.573A1.458 1.458 0 0 1 3 15.543V14H1.75A1.75 1.75 0 0 1 0 12.25v-9.5C0 1.784.784 1 1.75 1ZM1.5 2.75v9.5c0 .138.112.25.25.25h2a.75.75 0 0 1 .75.75v2.19l2.72-2.72a.749.749 0 0 1 .53-.22h6.5a.25.25 0 0 0 .25-.25v-9.5a.25.25 0 0 0-.25-.25H1.75a.25.25 0 0 0-.25.25Z"></path><path d="M22.5 8.75a.25.25 0 0 0-.25-.25h-3.5a.75.75 0 0 1 0-1.5h3.5c.966 0 1.75.784 1.75 1.75v9.5A1.75 1.75 0 0 1 22.25 20H21v1.543a1.457 1.457 0 0 1-2.487 1.03L15.939 20H10.75A1.75 1.75 0 0 1 9 18.25v-1.465a.75.75 0 0 1 1.5 0v1.465c0 .138.112.25.25.25h5.5a.75.75 0 0 1 .53.22l2.72 2.72v-2.19a.75.75 0 0 1 .75-.75h2a.25.25 0 0 0 .25-.25v-9.5Z"></path>
</svg>
      <div>
        <div class="color-fg-default h4">Premium Support</div>
        Enterprise-grade 24/7 support
      </div>

    
</a></li>

                </ul>
              </div>
          </div>
      </div>
</li>


                <li class="HeaderMenu-item position-relative flex-wrap flex-justify-between flex-items-center d-block d-lg-flex flex-lg-nowrap flex-lg-items-center js-details-container js-header-menu-item">
    <a class="HeaderMenu-link no-underline px-0 px-lg-2 py-3 py-lg-2 d-block d-lg-inline-block" data-analytics-event="{&quot;location&quot;:&quot;navbar&quot;,&quot;action&quot;:&quot;pricing&quot;,&quot;context&quot;:&quot;global&quot;,&quot;tag&quot;:&quot;link&quot;,&quot;label&quot;:&quot;pricing_link_global_navbar&quot;}" href="https://github.com/pricing">Pricing</a>
</li>

            </ul>
          </nav>

        <div class="d-flex flex-column flex-lg-row width-full flex-justify-end flex-lg-items-center text-center mt-3 mt-lg-0 text-lg-left ml-lg-3">
                


<qbsearch-input class="search-input" data-scope="repo:YANGFAN5203/super-duper-dollop" data-custom-scopes-path="/search/custom_scopes" data-delete-custom-scopes-csrf="F3TX9N5hVmAq0rfxcjRIqTJ_oR2OSNtvdyZSZ7syr5XI3T0xlsrTx6FIq_Aaut46YYBogn3Nz_0l622HX6t3DA" data-max-custom-scopes="10" data-header-redesign-enabled="false" data-initial-value="" data-blackbird-suggestions-path="/search/suggestions" data-jump-to-suggestions-path="/_graphql/GetSuggestedNavigationDestinations" data-current-repository="YANGFAN5203/super-duper-dollop" data-current-org="" data-current-owner="YANGFAN5203" data-logged-in="false" data-copilot-chat-enabled="false" data-nl-search-enabled="false" data-retain-scroll-position="true">
  <div
    class="search-input-container search-with-dialog position-relative d-flex flex-row flex-items-center mr-4 rounded"
    data-action="click:qbsearch-input#searchInputContainerClicked"
  >
      <button
        type="button"
        class="header-search-button placeholder  input-button form-control d-flex flex-1 flex-self-stretch flex-items-center no-wrap width-full py-0 pl-2 pr-0 text-left border-0 box-shadow-none"
        data-target="qbsearch-input.inputButton"
        aria-label="Search or jump to…"
        aria-haspopup="dialog"
        placeholder="Search or jump to..."
        data-hotkey=s,/
        autocapitalize="off"
        data-analytics-event="{&quot;location&quot;:&quot;navbar&quot;,&quot;action&quot;:&quot;searchbar&quot;,&quot;context&quot;:&quot;global&quot;,&quot;tag&quot;:&quot;input&quot;,&quot;label&quot;:&quot;searchbar_input_global_navbar&quot;}"
        data-action="click:qbsearch-input#handleExpand"
      >
        <div class="mr-2 color-fg-muted">
          <svg aria-hidden="true" height="16" viewBox="0 0 16 16" version="1.1" width="16" data-view-component="true" class="octicon octicon-search">
    <path d="M10.68 11.74a6 6 0 0 1-7.922-8.982 6 6 0 0 1 8.982 7.922l3.04 3.04a.749.749 0 0 1-.326 1.275.749.749 0 0 1-.734-.215ZM11.5 7a4.499 4.499 0 1 0-8.997 0A4.499 4.499 0 0 0 11.5 7Z"></path>
</svg>
        </div>
        <span class="flex-1" data-target="qbsearch-input.inputButtonText">Search or jump to...</span>
          <div class="d-flex" data-target="qbsearch-input.hotkeyIndicator">
            <svg xmlns="http://www.w3.org/2000/svg" width="22" height="20" aria-hidden="true" class="mr-1"><path fill="none" stroke="#979A9C" opacity=".4" d="M3.5.5h12c1.7 0 3 1.3 3 3v13c0 1.7-1.3 3-3 3h-12c-1.7 0-3-1.3-3-3v-13c0-1.7 1.3-3 3-3z"></path><path fill="#979A9C" d="M11.8 6L8 15.1h-.9L10.8 6h1z"></path></svg>

          </div>
      </button>

    <input type="hidden" name="type" class="js-site-search-type-field">

    
<div class="Overlay--hidden " data-modal-dialog-overlay>
  <modal-dialog data-action="close:qbsearch-input#handleClose cancel:qbsearch-input#handleClose" data-target="qbsearch-input.searchSuggestionsDialog" role="dialog" id="search-suggestions-dialog" aria-modal="true" aria-labelledby="search-suggestions-dialog-header" data-view-component="true" class="Overlay Overlay--width-large Overlay--height-auto">
      <h1 id="search-suggestions-dialog-header" class="sr-only">Search code, repositories, users, issues, pull requests...</h1>
    <div class="Overlay-body Overlay-body--paddingNone">
      
          <div data-view-component="true">        <div class="search-suggestions position-fixed width-full color-shadow-large border color-fg-default color-bg-default overflow-hidden d-flex flex-column query-builder-container"
          style="border-radius: 12px;"
          data-target="qbsearch-input.queryBuilderContainer"
          hidden
        >
          <!-- '"` --><!-- </textarea></xmp> --></option></form><form id="query-builder-test-form" action="" accept-charset="UTF-8" method="get">
  <query-builder data-target="qbsearch-input.queryBuilder" id="query-builder-query-builder-test" data-filter-key=":" data-view-component="true" class="QueryBuilder search-query-builder">
    <div class="FormControl FormControl--fullWidth">
      <label id="query-builder-test-label" for="query-builder-test" class="FormControl-label sr-only">
        Search
      </label>
      <div
        class="QueryBuilder-StyledInput width-fit "
        data-target="query-builder.styledInput"
      >
          <span id="query-builder-test-leadingvisual-wrap" class="FormControl-input-leadingVisualWrap QueryBuilder-leadingVisualWrap">
            <svg aria-hidden="true" height="16" viewBox="0 0 16 16" version="1.1" width="16" data-view-component="true" class="octicon octicon-search FormControl-input-leadingVisual">
    <path d="M10.68 11.74a6 6 0 0 1-7.922-8.982 6 6 0 0 1 8.982 7.922l3.04 3.04a.749.749 0 0 1-.326 1.275.749.749 0 0 1-.734-.215ZM11.5 7a4.499 4.499 0 1 0-8.997 0A4.499 4.499 0 0 0 11.5 7Z"></path>
</svg>
          </span>
        <div data-target="query-builder.styledInputContainer" class="QueryBuilder-StyledInputContainer">
          <div
            aria-hidden="true"
            class="QueryBuilder-StyledInputContent"
            data-target="query-builder.styledInputContent"
          ></div>
          <div class="QueryBuilder-InputWrapper">
            <div aria-hidden="true" class="QueryBuilder-Sizer" data-target="query-builder.sizer"></div>
            <input id="query-builder-test" name="query-builder-test" value="" autocomplete="off" type="text" role="combobox" spellcheck="false" aria-expanded="false" aria-describedby="validation-1e2eda86-96be-4339-b754-01f7f4137159" data-target="query-builder.input" data-action="
          input:query-builder#inputChange
          blur:query-builder#inputBlur
          keydown:query-builder#inputKeydown
          focus:query-builder#inputFocus
        " data-view-component="true" class="FormControl-input QueryBuilder-Input FormControl-medium" />
          </div>
        </div>
          <span class="sr-only" id="query-builder-test-clear">Clear</span>
          <button role="button" id="query-builder-test-clear-button" aria-labelledby="query-builder-test-clear query-builder-test-label" data-target="query-builder.clearButton" data-action="
                click:query-builder#clear
                focus:query-builder#clearButtonFocus
                blur:query-builder#clearButtonBlur
              " variant="small" hidden="hidden" type="button" data-view-component="true" class="Button Button--iconOnly Button--invisible Button--medium mr-1 px-2 py-0 d-flex flex-items-center rounded-1 color-fg-muted">  <svg aria-hidden="true" height="16" viewBox="0 0 16 16" version="1.1" width="16" data-view-component="true" class="octicon octicon-x-circle-fill Button-visual">
    <path d="M2.343 13.657A8 8 0 1 1 13.658 2.343 8 8 0 0 1 2.343 13.657ZM6.03 4.97a.751.751 0 0 0-1.042.018.751.751 0 0 0-.018 1.042L6.94 8 4.97 9.97a.749.749 0 0 0 .326 1.275.749.749 0 0 0 .734-.215L8 9.06l1.97 1.97a.749.749 0 0 0 1.275-.326.749.749 0 0 0-.215-.734L9.06 8l1.97-1.97a.749.749 0 0 0-.326-1.275.749.749 0 0 0-.734.215L8 6.94Z"></path>
</svg>
</button>

      </div>
      <template id="search-icon">
  <svg aria-hidden="true" height="16" viewBox="0 0 16 16" version="1.1" width="16" data-view-component="true" class="octicon octicon-search">
    <path d="M10.68 11.74a6 6 0 0 1-7.922-8.982 6 6 0 0 1 8.982 7.922l3.04 3.04a.749.749 0 0 1-.326 1.275.749.749 0 0 1-.734-.215ZM11.5 7a4.499 4.499 0 1 0-8.997 0A4.499 4.499 0 0 0 11.5 7Z"></path>
</svg>
</template>

<template id="code-icon">
  <svg aria-hidden="true" height="16" viewBox="0 0 16 16" version="1.1" width="16" data-view-component="true" class="octicon octicon-code">
    <path d="m11.28 3.22 4.25 4.25a.75.75 0 0 1 0 1.06l-4.25 4.25a.749.749 0 0 1-1.275-.326.749.749 0 0 1 .215-.734L13.94 8l-3.72-3.72a.749.749 0 0 1 .326-1.275.749.749 0 0 1 .734.215Zm-6.56 0a.751.751 0 0 1 1.042.018.751.751 0 0 1 .018 1.042L2.06 8l3.72 3.72a.749.749 0 0 1-.326 1.275.749.749 0 0 1-.734-.215L.47 8.53a.75.75 0 0 1 0-1.06Z"></path>
</svg>
</template>

<template id="file-code-icon">
  <svg aria-hidden="true" height="16" viewBox="0 0 16 16" version="1.1" width="16" data-view-component="true" class="octicon octicon-file-code">
    <path d="M4 1.75C4 .784 4.784 0 5.75 0h5.586c.464 0 .909.184 1.237.513l2.914 2.914c.329.328.513.773.513 1.237v8.586A1.75 1.75 0 0 1 14.25 15h-9a.75.75 0 0 1 0-1.5h9a.25.25 0 0 0 .25-.25V6h-2.75A1.75 1.75 0 0 1 10 4.25V1.5H5.75a.25.25 0 0 0-.25.25v2.5a.75.75 0 0 1-1.5 0Zm1.72 4.97a.75.75 0 0 1 1.06 0l2 2a.75.75 0 0 1 0 1.06l-2 2a.749.749 0 0 1-1.275-.326.749.749 0 0 1 .215-.734l1.47-1.47-1.47-1.47a.75.75 0 0 1 0-1.06ZM3.28 7.78 1.81 9.25l1.47 1.47a.751.751 0 0 1-.018 1.042.751.751 0 0 1-1.042.018l-2-2a.75.75 0 0 1 0-1.06l2-2a.751.751 0 0 1 1.042.018.751.751 0 0 1 .018 1.042Zm8.22-6.218V4.25c0 .138.112.25.25.25h2.688l-.011-.013-2.914-2.914-.013-.011Z"></path>
</svg>
</template>

<template id="history-icon">
  <svg aria-hidden="true" height="16" viewBox="0 0 16 16" version="1.1" width="16" data-view-component="true" class="octicon octicon-history">
    <path d="m.427 1.927 1.215 1.215a8.002 8.002 0 1 1-1.6 5.685.75.75 0 1 1 1.493-.154 6.5 6.5 0 1 0 1.18-4.458l1.358 1.358A.25.25 0 0 1 3.896 6H.25A.25.25 0 0 1 0 5.75V2.104a.25.25 0 0 1 .427-.177ZM7.75 4a.75.75 0 0 1 .75.75v2.992l2.028.812a.75.75 0 0 1-.557 1.392l-2.5-1A.751.751 0 0 1 7 8.25v-3.5A.75.75 0 0 1 7.75 4Z"></path>
</svg>
</template>

<template id="repo-icon">
  <svg aria-hidden="true" height="16" viewBox="0 0 16 16" version="1.1" width="16" data-view-component="true" class="octicon octicon-repo">
    <path d="M2 2.5A2.5 2.5 0 0 1 4.5 0h8.75a.75.75 0 0 1 .75.75v12.5a.75.75 0 0 1-.75.75h-2.5a.75.75 0 0 1 0-1.5h1.75v-2h-8a1 1 0 0 0-.714 1.7.75.75 0 1 1-1.072 1.05A2.495 2.495 0 0 1 2 11.5Zm10.5-1h-8a1 1 0 0 0-1 1v6.708A2.486 2.486 0 0 1 4.5 9h8ZM5 12.25a.25.25 0 0 1 .25-.25h3.5a.25.25 0 0 1 .25.25v3.25a.25.25 0 0 1-.4.2l-1.45-1.087a.249.249 0 0 0-.3 0L5.4 15.7a.25.25 0 0 1-.4-.2Z"></path>
</svg>
</template>

<template id="bookmark-icon">
  <svg aria-hidden="true" height="16" viewBox="0 0 16 16" version="1.1" width="16" data-view-component="true" class="octicon octicon-bookmark">
    <path d="M3 2.75C3 1.784 3.784 1 4.75 1h6.5c.966 0 1.75.784 1.75 1.75v11.5a.75.75 0 0 1-1.227.579L8 11.722l-3.773 3.107A.751.751 0 0 1 3 14.25Zm1.75-.25a.25.25 0 0 0-.25.25v9.91l3.023-2.489a.75.75 0 0 1 .954 0l3.023 2.49V2.75a.25.25 0 0 0-.25-.25Z"></path>
</svg>
</template>

<template id="plus-circle-icon">
  <svg aria-hidden="true" height="16" viewBox="0 0 16 16" version="1.1" width="16" data-view-component="true" class="octicon octicon-plus-circle">
    <path d="M8 0a8 8 0 1 1 0 16A8 8 0 0 1 8 0ZM1.5 8a6.5 6.5 0 1 0 13 0 6.5 6.5 0 0 0-13 0Zm7.25-3.25v2.5h2.5a.75.75 0 0 1 0 1.5h-2.5v2.5a.75.75 0 0 1-1.5 0v-2.5h-2.5a.75.75 0 0 1 0-1.5h2.5v-2.5a.75.75 0 0 1 1.5 0Z"></path>
</svg>
</template>

<template id="circle-icon">
  <svg aria-hidden="true" height="16" viewBox="0 0 16 16" version="1.1" width="16" data-view-component="true" class="octicon octicon-dot-fill">
    <path d="M8 4a4 4 0 1 1 0 8 4 4 0 0 1 0-8Z"></path>
</svg>
</template>

<template id="trash-icon">
  <svg aria-hidden="true" height="16" viewBox="0 0 16 16" version="1.1" width="16" data-view-component="true" class="octicon octicon-trash">
    <path d="M11 1.75V3h2.25a.75.75 0 0 1 0 1.5H2.75a.75.75 0 0 1 0-1.5H5V1.75C5 .784 5.784 0 6.75 0h2.5C10.216 0 11 .784 11 1.75ZM4.496 6.675l.66 6.6a.25.25 0 0 0 .249.225h5.19a.25.25 0 0 0 .249-.225l.66-6.6a.75.75 0 0 1 1.492.149l-.66 6.6A1.748 1.748 0 0 1 10.595 15h-5.19a1.75 1.75 0 0 1-1.741-1.575l-.66-6.6a.75.75 0 1 1 1.492-.15ZM6.5 1.75V3h3V1.75a.25.25 0 0 0-.25-.25h-2.5a.25.25 0 0 0-.25.25Z"></path>
</svg>
</template>

<template id="team-icon">
  <svg aria-hidden="true" height="16" viewBox="0 0 16 16" version="1.1" width="16" data-view-component="true" class="octicon octicon-people">
    <path d="M2 5.5a3.5 3.5 0 1 1 5.898 2.549 5.508 5.508 0 0 1 3.034 4.084.75.75 0 1 1-1.482.235 4 4 0 0 0-7.9 0 .75.75 0 0 1-1.482-.236A5.507 5.507 0 0 1 3.102 8.05 3.493 3.493 0 0 1 2 5.5ZM11 4a3.001 3.001 0 0 1 2.22 5.018 5.01 5.01 0 0 1 2.56 3.012.749.749 0 0 1-.885.954.752.752 0 0 1-.549-.514 3.507 3.507 0 0 0-2.522-2.372.75.75 0 0 1-.574-.73v-.352a.75.75 0 0 1 .416-.672A1.5 1.5 0 0 0 11 5.5.75.75 0 0 1 11 4Zm-5.5-.5a2 2 0 1 0-.001 3.999A2 2 0 0 0 5.5 3.5Z"></path>
</svg>
</template>

<template id="project-icon">
  <svg aria-hidden="true" height="16" viewBox="0 0 16 16" version="1.1" width="16" data-view-component="true" class="octicon octicon-project">
    <path d="M1.75 0h12.5C15.216 0 16 .784 16 1.75v12.5A1.75 1.75 0 0 1 14.25 16H1.75A1.75 1.75 0 0 1 0 14.25V1.75C0 .784.784 0 1.75 0ZM1.5 1.75v12.5c0 .138.112.25.25.25h12.5a.25.25 0 0 0 .25-.25V1.75a.25.25 0 0 0-.25-.25H1.75a.25.25 0 0 0-.25.25ZM11.75 3a.75.75 0 0 1 .75.75v7.5a.75.75 0 0 1-1.5 0v-7.5a.75.75 0 0 1 .75-.75Zm-8.25.75a.75.75 0 0 1 1.5 0v5.5a.75.75 0 0 1-1.5 0ZM8 3a.75.75 0 0 1 .75.75v3.5a.75.75 0 0 1-1.5 0v-3.5A.75.75 0 0 1 8 3Z"></path>
</svg>
</template>

<template id="pencil-icon">
  <svg aria-hidden="true" height="16" viewBox="0 0 16 16" version="1.1" width="16" data-view-component="true" class="octicon octicon-pencil">
    <path d="M11.013 1.427a1.75 1.75 0 0 1 2.474 0l1.086 1.086a1.75 1.75 0 0 1 0 2.474l-8.61 8.61c-.21.21-.47.364-.756.445l-3.251.93a.75.75 0 0 1-.927-.928l.929-3.25c.081-.286.235-.547.445-.758l8.61-8.61Zm.176 4.823L9.75 4.81l-6.286 6.287a.253.253 0 0 0-.064.108l-.558 1.953 1.953-.558a.253.253 0 0 0 .108-.064Zm1.238-3.763a.25.25 0 0 0-.354 0L10.811 3.75l1.439 1.44 1.263-1.263a.25.25 0 0 0 0-.354Z"></path>
</svg>
</template>

<template id="copilot-icon">
  <svg aria-hidden="true" height="16" viewBox="0 0 16 16" version="1.1" width="16" data-view-component="true" class="octicon octicon-copilot">
    <path d="M7.998 15.035c-4.562 0-7.873-2.914-7.998-3.749V9.338c.085-.628.677-1.686 1.588-2.065.013-.07.024-.143.036-.218.029-.183.06-.384.126-.612-.201-.508-.254-1.084-.254-1.656 0-.87.128-1.769.693-2.484.579-.733 1.494-1.124 2.724-1.261 1.206-.134 2.262.034 2.944.765.05.053.096.108.139.165.044-.057.094-.112.143-.165.682-.731 1.738-.899 2.944-.765 1.23.137 2.145.528 2.724 1.261.566.715.693 1.614.693 2.484 0 .572-.053 1.148-.254 1.656.066.228.098.429.126.612.012.076.024.148.037.218.924.385 1.522 1.471 1.591 2.095v1.872c0 .766-3.351 3.795-8.002 3.795Zm0-1.485c2.28 0 4.584-1.11 5.002-1.433V7.862l-.023-.116c-.49.21-1.075.291-1.727.291-1.146 0-2.059-.327-2.71-.991A3.222 3.222 0 0 1 8 6.303a3.24 3.24 0 0 1-.544.743c-.65.664-1.563.991-2.71.991-.652 0-1.236-.081-1.727-.291l-.023.116v4.255c.419.323 2.722 1.433 5.002 1.433ZM6.762 2.83c-.193-.206-.637-.413-1.682-.297-1.019.113-1.479.404-1.713.7-.247.312-.369.789-.369 1.554 0 .793.129 1.171.308 1.371.162.181.519.379 1.442.379.853 0 1.339-.235 1.638-.54.315-.322.527-.827.617-1.553.117-.935-.037-1.395-.241-1.614Zm4.155-.297c-1.044-.116-1.488.091-1.681.297-.204.219-.359.679-.242 1.614.091.726.303 1.231.618 1.553.299.305.784.54 1.638.54.922 0 1.28-.198 1.442-.379.179-.2.308-.578.308-1.371 0-.765-.123-1.242-.37-1.554-.233-.296-.693-.587-1.713-.7Z"></path><path d="M6.25 9.037a.75.75 0 0 1 .75.75v1.501a.75.75 0 0 1-1.5 0V9.787a.75.75 0 0 1 .75-.75Zm4.25.75v1.501a.75.75 0 0 1-1.5 0V9.787a.75.75 0 0 1 1.5 0Z"></path>
</svg>
</template>

<template id="copilot-error-icon">
  <svg aria-hidden="true" height="16" viewBox="0 0 16 16" version="1.1" width="16" data-view-component="true" class="octicon octicon-copilot-error">
    <path d="M16 11.24c0 .112-.072.274-.21.467L13 9.688V7.862l-.023-.116c-.49.21-1.075.291-1.727.291-.198 0-.388-.009-.571-.029L6.833 5.226a4.01 4.01 0 0 0 .17-.782c.117-.935-.037-1.395-.241-1.614-.193-.206-.637-.413-1.682-.297-.683.076-1.115.231-1.395.415l-1.257-.91c.579-.564 1.413-.877 2.485-.996 1.206-.134 2.262.034 2.944.765.05.053.096.108.139.165.044-.057.094-.112.143-.165.682-.731 1.738-.899 2.944-.765 1.23.137 2.145.528 2.724 1.261.566.715.693 1.614.693 2.484 0 .572-.053 1.148-.254 1.656.066.228.098.429.126.612.012.076.024.148.037.218.924.385 1.522 1.471 1.591 2.095Zm-5.083-8.707c-1.044-.116-1.488.091-1.681.297-.204.219-.359.679-.242 1.614.091.726.303 1.231.618 1.553.299.305.784.54 1.638.54.922 0 1.28-.198 1.442-.379.179-.2.308-.578.308-1.371 0-.765-.123-1.242-.37-1.554-.233-.296-.693-.587-1.713-.7Zm2.511 11.074c-1.393.776-3.272 1.428-5.43 1.428-4.562 0-7.873-2.914-7.998-3.749V9.338c.085-.628.677-1.686 1.588-2.065.013-.07.024-.143.036-.218.029-.183.06-.384.126-.612-.18-.455-.241-.963-.252-1.475L.31 4.107A.747.747 0 0 1 0 3.509V3.49a.748.748 0 0 1 .625-.73c.156-.026.306.047.435.139l14.667 10.578a.592.592 0 0 1 .227.264.752.752 0 0 1 .046.249v.022a.75.75 0 0 1-1.19.596Zm-1.367-.991L5.635 7.964a5.128 5.128 0 0 1-.889.073c-.652 0-1.236-.081-1.727-.291l-.023.116v4.255c.419.323 2.722 1.433 5.002 1.433 1.539 0 3.089-.505 4.063-.934Z"></path>
</svg>
</template>

<template id="workflow-icon">
  <svg aria-hidden="true" height="16" viewBox="0 0 16 16" version="1.1" width="16" data-view-component="true" class="octicon octicon-workflow">
    <path d="M0 1.75C0 .784.784 0 1.75 0h3.5C6.216 0 7 .784 7 1.75v3.5A1.75 1.75 0 0 1 5.25 7H4v4a1 1 0 0 0 1 1h4v-1.25C9 9.784 9.784 9 10.75 9h3.5c.966 0 1.75.784 1.75 1.75v3.5A1.75 1.75 0 0 1 14.25 16h-3.5A1.75 1.75 0 0 1 9 14.25v-.75H5A2.5 2.5 0 0 1 2.5 11V7h-.75A1.75 1.75 0 0 1 0 5.25Zm1.75-.25a.25.25 0 0 0-.25.25v3.5c0 .138.112.25.25.25h3.5a.25.25 0 0 0 .25-.25v-3.5a.25.25 0 0 0-.25-.25Zm9 9a.25.25 0 0 0-.25.25v3.5c0 .138.112.25.25.25h3.5a.25.25 0 0 0 .25-.25v-3.5a.25.25 0 0 0-.25-.25Z"></path>
</svg>
</template>

<template id="book-icon">
  <svg aria-hidden="true" height="16" viewBox="0 0 16 16" version="1.1" width="16" data-view-component="true" class="octicon octicon-book">
    <path d="M0 1.75A.75.75 0 0 1 .75 1h4.253c1.227 0 2.317.59 3 1.501A3.743 3.743 0 0 1 11.006 1h4.245a.75.75 0 0 1 .75.75v10.5a.75.75 0 0 1-.75.75h-4.507a2.25 2.25 0 0 0-1.591.659l-.622.621a.75.75 0 0 1-1.06 0l-.622-.621A2.25 2.25 0 0 0 5.258 13H.75a.75.75 0 0 1-.75-.75Zm7.251 10.324.004-5.073-.002-2.253A2.25 2.25 0 0 0 5.003 2.5H1.5v9h3.757a3.75 3.75 0 0 1 1.994.574ZM8.755 4.75l-.004 7.322a3.752 3.752 0 0 1 1.992-.572H14.5v-9h-3.495a2.25 2.25 0 0 0-2.25 2.25Z"></path>
</svg>
</template>

<template id="code-review-icon">
  <svg aria-hidden="true" height="16" viewBox="0 0 16 16" version="1.1" width="16" data-view-component="true" class="octicon octicon-code-review">
    <path d="M1.75 1h12.5c.966 0 1.75.784 1.75 1.75v8.5A1.75 1.75 0 0 1 14.25 13H8.061l-2.574 2.573A1.458 1.458 0 0 1 3 14.543V13H1.75A1.75 1.75 0 0 1 0 11.25v-8.5C0 1.784.784 1 1.75 1ZM1.5 2.75v8.5c0 .138.112.25.25.25h2a.75.75 0 0 1 .75.75v2.19l2.72-2.72a.749.749 0 0 1 .53-.22h6.5a.25.25 0 0 0 .25-.25v-8.5a.25.25 0 0 0-.25-.25H1.75a.25.25 0 0 0-.25.25Zm5.28 1.72a.75.75 0 0 1 0 1.06L5.31 7l1.47 1.47a.751.751 0 0 1-.018 1.042.751.751 0 0 1-1.042.018l-2-2a.75.75 0 0 1 0-1.06l2-2a.75.75 0 0 1 1.06 0Zm2.44 0a.75.75 0 0 1 1.06 0l2 2a.75.75 0 0 1 0 1.06l-2 2a.751.751 0 0 1-1.042-.018.751.751 0 0 1-.018-1.042L10.69 7 9.22 5.53a.75.75 0 0 1 0-1.06Z"></path>
</svg>
</template>

<template id="codespaces-icon">
  <svg aria-hidden="true" height="16" viewBox="0 0 16 16" version="1.1" width="16" data-view-component="true" class="octicon octicon-codespaces">
    <path d="M0 11.25c0-.966.784-1.75 1.75-1.75h12.5c.966 0 1.75.784 1.75 1.75v3A1.75 1.75 0 0 1 14.25 16H1.75A1.75 1.75 0 0 1 0 14.25Zm2-9.5C2 .784 2.784 0 3.75 0h8.5C13.216 0 14 .784 14 1.75v5a1.75 1.75 0 0 1-1.75 1.75h-8.5A1.75 1.75 0 0 1 2 6.75Zm1.75-.25a.25.25 0 0 0-.25.25v5c0 .138.112.25.25.25h8.5a.25.25 0 0 0 .25-.25v-5a.25.25 0 0 0-.25-.25Zm-2 9.5a.25.25 0 0 0-.25.25v3c0 .138.112.25.25.25h12.5a.25.25 0 0 0 .25-.25v-3a.25.25 0 0 0-.25-.25Z"></path><path d="M7 12.75a.75.75 0 0 1 .75-.75h4.5a.75.75 0 0 1 0 1.5h-4.5a.75.75 0 0 1-.75-.75Zm-4 0a.75.75 0 0 1 .75-.75h.5a.75.75 0 0 1 0 1.5h-.5a.75.75 0 0 1-.75-.75Z"></path>
</svg>
</template>

<template id="comment-icon">
  <svg aria-hidden="true" height="16" viewBox="0 0 16 16" version="1.1" width="16" data-view-component="true" class="octicon octicon-comment">
    <path d="M1 2.75C1 1.784 1.784 1 2.75 1h10.5c.966 0 1.75.784 1.75 1.75v7.5A1.75 1.75 0 0 1 13.25 12H9.06l-2.573 2.573A1.458 1.458 0 0 1 4 13.543V12H2.75A1.75 1.75 0 0 1 1 10.25Zm1.75-.25a.25.25 0 0 0-.25.25v7.5c0 .138.112.25.25.25h2a.75.75 0 0 1 .75.75v2.19l2.72-2.72a.749.749 0 0 1 .53-.22h4.5a.25.25 0 0 0 .25-.25v-7.5a.25.25 0 0 0-.25-.25Z"></path>
</svg>
</template>

<template id="comment-discussion-icon">
  <svg aria-hidden="true" height="16" viewBox="0 0 16 16" version="1.1" width="16" data-view-component="true" class="octicon octicon-comment-discussion">
    <path d="M1.75 1h8.5c.966 0 1.75.784 1.75 1.75v5.5A1.75 1.75 0 0 1 10.25 10H7.061l-2.574 2.573A1.458 1.458 0 0 1 2 11.543V10h-.25A1.75 1.75 0 0 1 0 8.25v-5.5C0 1.784.784 1 1.75 1ZM1.5 2.75v5.5c0 .138.112.25.25.25h1a.75.75 0 0 1 .75.75v2.19l2.72-2.72a.749.749 0 0 1 .53-.22h3.5a.25.25 0 0 0 .25-.25v-5.5a.25.25 0 0 0-.25-.25h-8.5a.25.25 0 0 0-.25.25Zm13 2a.25.25 0 0 0-.25-.25h-.5a.75.75 0 0 1 0-1.5h.5c.966 0 1.75.784 1.75 1.75v5.5A1.75 1.75 0 0 1 14.25 12H14v1.543a1.458 1.458 0 0 1-2.487 1.03L9.22 12.28a.749.749 0 0 1 .326-1.275.749.749 0 0 1 .734.215l2.22 2.22v-2.19a.75.75 0 0 1 .75-.75h1a.25.25 0 0 0 .25-.25Z"></path>
</svg>
</template>

<template id="organization-icon">
  <svg aria-hidden="true" height="16" viewBox="0 0 16 16" version="1.1" width="16" data-view-component="true" class="octicon octicon-organization">
    <path d="M1.75 16A1.75 1.75 0 0 1 0 14.25V1.75C0 .784.784 0 1.75 0h8.5C11.216 0 12 .784 12 1.75v12.5c0 .085-.006.168-.018.25h2.268a.25.25 0 0 0 .25-.25V8.285a.25.25 0 0 0-.111-.208l-1.055-.703a.749.749 0 1 1 .832-1.248l1.055.703c.487.325.779.871.779 1.456v5.965A1.75 1.75 0 0 1 14.25 16h-3.5a.766.766 0 0 1-.197-.026c-.099.017-.2.026-.303.026h-3a.75.75 0 0 1-.75-.75V14h-1v1.25a.75.75 0 0 1-.75.75Zm-.25-1.75c0 .138.112.25.25.25H4v-1.25a.75.75 0 0 1 .75-.75h2.5a.75.75 0 0 1 .75.75v1.25h2.25a.25.25 0 0 0 .25-.25V1.75a.25.25 0 0 0-.25-.25h-8.5a.25.25 0 0 0-.25.25ZM3.75 6h.5a.75.75 0 0 1 0 1.5h-.5a.75.75 0 0 1 0-1.5ZM3 3.75A.75.75 0 0 1 3.75 3h.5a.75.75 0 0 1 0 1.5h-.5A.75.75 0 0 1 3 3.75Zm4 3A.75.75 0 0 1 7.75 6h.5a.75.75 0 0 1 0 1.5h-.5A.75.75 0 0 1 7 6.75ZM7.75 3h.5a.75.75 0 0 1 0 1.5h-.5a.75.75 0 0 1 0-1.5ZM3 9.75A.75.75 0 0 1 3.75 9h.5a.75.75 0 0 1 0 1.5h-.5A.75.75 0 0 1 3 9.75ZM7.75 9h.5a.75.75 0 0 1 0 1.5h-.5a.75.75 0 0 1 0-1.5Z"></path>
</svg>
</template>

<template id="rocket-icon">
  <svg aria-hidden="true" height="16" viewBox="0 0 16 16" version="1.1" width="16" data-view-component="true" class="octicon octicon-rocket">
    <path d="M14.064 0h.186C15.216 0 16 .784 16 1.75v.186a8.752 8.752 0 0 1-2.564 6.186l-.458.459c-.314.314-.641.616-.979.904v3.207c0 .608-.315 1.172-.833 1.49l-2.774 1.707a.749.749 0 0 1-1.11-.418l-.954-3.102a1.214 1.214 0 0 1-.145-.125L3.754 9.816a1.218 1.218 0 0 1-.124-.145L.528 8.717a.749.749 0 0 1-.418-1.11l1.71-2.774A1.748 1.748 0 0 1 3.31 4h3.204c.288-.338.59-.665.904-.979l.459-.458A8.749 8.749 0 0 1 14.064 0ZM8.938 3.623h-.002l-.458.458c-.76.76-1.437 1.598-2.02 2.5l-1.5 2.317 2.143 2.143 2.317-1.5c.902-.583 1.74-1.26 2.499-2.02l.459-.458a7.25 7.25 0 0 0 2.123-5.127V1.75a.25.25 0 0 0-.25-.25h-.186a7.249 7.249 0 0 0-5.125 2.123ZM3.56 14.56c-.732.732-2.334 1.045-3.005 1.148a.234.234 0 0 1-.201-.064.234.234 0 0 1-.064-.201c.103-.671.416-2.273 1.15-3.003a1.502 1.502 0 1 1 2.12 2.12Zm6.94-3.935c-.088.06-.177.118-.266.175l-2.35 1.521.548 1.783 1.949-1.2a.25.25 0 0 0 .119-.213ZM3.678 8.116 5.2 5.766c.058-.09.117-.178.176-.266H3.309a.25.25 0 0 0-.213.119l-1.2 1.95ZM12 5a1 1 0 1 1-2 0 1 1 0 0 1 2 0Z"></path>
</svg>
</template>

<template id="shield-check-icon">
  <svg aria-hidden="true" height="16" viewBox="0 0 16 16" version="1.1" width="16" data-view-component="true" class="octicon octicon-shield-check">
    <path d="m8.533.133 5.25 1.68A1.75 1.75 0 0 1 15 3.48V7c0 1.566-.32 3.182-1.303 4.682-.983 1.498-2.585 2.813-5.032 3.855a1.697 1.697 0 0 1-1.33 0c-2.447-1.042-4.049-2.357-5.032-3.855C1.32 10.182 1 8.566 1 7V3.48a1.75 1.75 0 0 1 1.217-1.667l5.25-1.68a1.748 1.748 0 0 1 1.066 0Zm-.61 1.429.001.001-5.25 1.68a.251.251 0 0 0-.174.237V7c0 1.36.275 2.666 1.057 3.859.784 1.194 2.121 2.342 4.366 3.298a.196.196 0 0 0 .154 0c2.245-.957 3.582-2.103 4.366-3.297C13.225 9.666 13.5 8.358 13.5 7V3.48a.25.25 0 0 0-.174-.238l-5.25-1.68a.25.25 0 0 0-.153 0ZM11.28 6.28l-3.5 3.5a.75.75 0 0 1-1.06 0l-1.5-1.5a.749.749 0 0 1 .326-1.275.749.749 0 0 1 .734.215l.97.97 2.97-2.97a.751.751 0 0 1 1.042.018.751.751 0 0 1 .018 1.042Z"></path>
</svg>
</template>

<template id="heart-icon">
  <svg aria-hidden="true" height="16" viewBox="0 0 16 16" version="1.1" width="16" data-view-component="true" class="octicon octicon-heart">
    <path d="m8 14.25.345.666a.75.75 0 0 1-.69 0l-.008-.004-.018-.01a7.152 7.152 0 0 1-.31-.17 22.055 22.055 0 0 1-3.434-2.414C2.045 10.731 0 8.35 0 5.5 0 2.836 2.086 1 4.25 1 5.797 1 7.153 1.802 8 3.02 8.847 1.802 10.203 1 11.75 1 13.914 1 16 2.836 16 5.5c0 2.85-2.045 5.231-3.885 6.818a22.066 22.066 0 0 1-3.744 2.584l-.018.01-.006.003h-.002ZM4.25 2.5c-1.336 0-2.75 1.164-2.75 3 0 2.15 1.58 4.144 3.365 5.682A20.58 20.58 0 0 0 8 13.393a20.58 20.58 0 0 0 3.135-2.211C12.92 9.644 14.5 7.65 14.5 5.5c0-1.836-1.414-3-2.75-3-1.373 0-2.609.986-3.029 2.456a.749.749 0 0 1-1.442 0C6.859 3.486 5.623 2.5 4.25 2.5Z"></path>
</svg>
</template>

<template id="server-icon">
  <svg aria-hidden="true" height="16" viewBox="0 0 16 16" version="1.1" width="16" data-view-component="true" class="octicon octicon-server">
    <path d="M1.75 1h12.5c.966 0 1.75.784 1.75 1.75v4c0 .372-.116.717-.314 1 .198.283.314.628.314 1v4a1.75 1.75 0 0 1-1.75 1.75H1.75A1.75 1.75 0 0 1 0 12.75v-4c0-.358.109-.707.314-1a1.739 1.739 0 0 1-.314-1v-4C0 1.784.784 1 1.75 1ZM1.5 2.75v4c0 .138.112.25.25.25h12.5a.25.25 0 0 0 .25-.25v-4a.25.25 0 0 0-.25-.25H1.75a.25.25 0 0 0-.25.25Zm.25 5.75a.25.25 0 0 0-.25.25v4c0 .138.112.25.25.25h12.5a.25.25 0 0 0 .25-.25v-4a.25.25 0 0 0-.25-.25ZM7 4.75A.75.75 0 0 1 7.75 4h4.5a.75.75 0 0 1 0 1.5h-4.5A.75.75 0 0 1 7 4.75ZM7.75 10h4.5a.75.75 0 0 1 0 1.5h-4.5a.75.75 0 0 1 0-1.5ZM3 4.75A.75.75 0 0 1 3.75 4h.5a.75.75 0 0 1 0 1.5h-.5A.75.75 0 0 1 3 4.75ZM3.75 10h.5a.75.75 0 0 1 0 1.5h-.5a.75.75 0 0 1 0-1.5Z"></path>
</svg>
</template>

<template id="globe-icon">
  <svg aria-hidden="true" height="16" viewBox="0 0 16 16" version="1.1" width="16" data-view-component="true" class="octicon octicon-globe">
    <path d="M8 0a8 8 0 1 1 0 16A8 8 0 0 1 8 0ZM5.78 8.75a9.64 9.64 0 0 0 1.363 4.177c.255.426.542.832.857 1.215.245-.296.551-.705.857-1.215A9.64 9.64 0 0 0 10.22 8.75Zm4.44-1.5a9.64 9.64 0 0 0-1.363-4.177c-.307-.51-.612-.919-.857-1.215a9.927 9.927 0 0 0-.857 1.215A9.64 9.64 0 0 0 5.78 7.25Zm-5.944 1.5H1.543a6.507 6.507 0 0 0 4.666 5.5c-.123-.181-.24-.365-.352-.552-.715-1.192-1.437-2.874-1.581-4.948Zm-2.733-1.5h2.733c.144-2.074.866-3.756 1.58-4.948.12-.197.237-.381.353-.552a6.507 6.507 0 0 0-4.666 5.5Zm10.181 1.5c-.144 2.074-.866 3.756-1.58 4.948-.12.197-.237.381-.353.552a6.507 6.507 0 0 0 4.666-5.5Zm2.733-1.5a6.507 6.507 0 0 0-4.666-5.5c.123.181.24.365.353.552.714 1.192 1.436 2.874 1.58 4.948Z"></path>
</svg>
</template>

<template id="issue-opened-icon">
  <svg aria-hidden="true" height="16" viewBox="0 0 16 16" version="1.1" width="16" data-view-component="true" class="octicon octicon-issue-opened">
    <path d="M8 9.5a1.5 1.5 0 1 0 0-3 1.5 1.5 0 0 0 0 3Z"></path><path d="M8 0a8 8 0 1 1 0 16A8 8 0 0 1 8 0ZM1.5 8a6.5 6.5 0 1 0 13 0 6.5 6.5 0 0 0-13 0Z"></path>
</svg>
</template>

<template id="device-mobile-icon">
  <svg aria-hidden="true" height="16" viewBox="0 0 16 16" version="1.1" width="16" data-view-component="true" class="octicon octicon-device-mobile">
    <path d="M3.75 0h8.5C13.216 0 14 .784 14 1.75v12.5A1.75 1.75 0 0 1 12.25 16h-8.5A1.75 1.75 0 0 1 2 14.25V1.75C2 .784 2.784 0 3.75 0ZM3.5 1.75v12.5c0 .138.112.25.25.25h8.5a.25.25 0 0 0 .25-.25V1.75a.25.25 0 0 0-.25-.25h-8.5a.25.25 0 0 0-.25.25ZM8 13a1 1 0 1 1 0-2 1 1 0 0 1 0 2Z"></path>
</svg>
</template>

<template id="package-icon">
  <svg aria-hidden="true" height="16" viewBox="0 0 16 16" version="1.1" width="16" data-view-component="true" class="octicon octicon-package">
    <path d="m8.878.392 5.25 3.045c.54.314.872.89.872 1.514v6.098a1.75 1.75 0 0 1-.872 1.514l-5.25 3.045a1.75 1.75 0 0 1-1.756 0l-5.25-3.045A1.75 1.75 0 0 1 1 11.049V4.951c0-.624.332-1.201.872-1.514L7.122.392a1.75 1.75 0 0 1 1.756 0ZM7.875 1.69l-4.63 2.685L8 7.133l4.755-2.758-4.63-2.685a.248.248 0 0 0-.25 0ZM2.5 5.677v5.372c0 .09.047.171.125.216l4.625 2.683V8.432Zm6.25 8.271 4.625-2.683a.25.25 0 0 0 .125-.216V5.677L8.75 8.432Z"></path>
</svg>
</template>

<template id="credit-card-icon">
  <svg aria-hidden="true" height="16" viewBox="0 0 16 16" version="1.1" width="16" data-view-component="true" class="octicon octicon-credit-card">
    <path d="M10.75 9a.75.75 0 0 0 0 1.5h1.5a.75.75 0 0 0 0-1.5h-1.5Z"></path><path d="M0 3.75C0 2.784.784 2 1.75 2h12.5c.966 0 1.75.784 1.75 1.75v8.5A1.75 1.75 0 0 1 14.25 14H1.75A1.75 1.75 0 0 1 0 12.25ZM14.5 6.5h-13v5.75c0 .138.112.25.25.25h12.5a.25.25 0 0 0 .25-.25Zm0-2.75a.25.25 0 0 0-.25-.25H1.75a.25.25 0 0 0-.25.25V5h13Z"></path>
</svg>
</template>

<template id="play-icon">
  <svg aria-hidden="true" height="16" viewBox="0 0 16 16" version="1.1" width="16" data-view-component="true" class="octicon octicon-play">
    <path d="M8 0a8 8 0 1 1 0 16A8 8 0 0 1 8 0ZM1.5 8a6.5 6.5 0 1 0 13 0 6.5 6.5 0 0 0-13 0Zm4.879-2.773 4.264 2.559a.25.25 0 0 1 0 .428l-4.264 2.559A.25.25 0 0 1 6 10.559V5.442a.25.25 0 0 1 .379-.215Z"></path>
</svg>
</template>

<template id="gift-icon">
  <svg aria-hidden="true" height="16" viewBox="0 0 16 16" version="1.1" width="16" data-view-component="true" class="octicon octicon-gift">
    <path d="M2 2.75A2.75 2.75 0 0 1 4.75 0c.983 0 1.873.42 2.57 1.232.268.318.497.668.68 1.042.183-.375.411-.725.68-1.044C9.376.42 10.266 0 11.25 0a2.75 2.75 0 0 1 2.45 4h.55c.966 0 1.75.784 1.75 1.75v2c0 .698-.409 1.301-1 1.582v4.918A1.75 1.75 0 0 1 13.25 16H2.75A1.75 1.75 0 0 1 1 14.25V9.332C.409 9.05 0 8.448 0 7.75v-2C0 4.784.784 4 1.75 4h.55c-.192-.375-.3-.8-.3-1.25ZM7.25 9.5H2.5v4.75c0 .138.112.25.25.25h4.5Zm1.5 0v5h4.5a.25.25 0 0 0 .25-.25V9.5Zm0-4V8h5.5a.25.25 0 0 0 .25-.25v-2a.25.25 0 0 0-.25-.25Zm-7 0a.25.25 0 0 0-.25.25v2c0 .138.112.25.25.25h5.5V5.5h-5.5Zm3-4a1.25 1.25 0 0 0 0 2.5h2.309c-.233-.818-.542-1.401-.878-1.793-.43-.502-.915-.707-1.431-.707ZM8.941 4h2.309a1.25 1.25 0 0 0 0-2.5c-.516 0-1 .205-1.43.707-.337.392-.646.975-.879 1.793Z"></path>
</svg>
</template>

<template id="code-square-icon">
  <svg aria-hidden="true" height="16" viewBox="0 0 16 16" version="1.1" width="16" data-view-component="true" class="octicon octicon-code-square">
    <path d="M0 1.75C0 .784.784 0 1.75 0h12.5C15.216 0 16 .784 16 1.75v12.5A1.75 1.75 0 0 1 14.25 16H1.75A1.75 1.75 0 0 1 0 14.25Zm1.75-.25a.25.25 0 0 0-.25.25v12.5c0 .138.112.25.25.25h12.5a.25.25 0 0 0 .25-.25V1.75a.25.25 0 0 0-.25-.25Zm7.47 3.97a.75.75 0 0 1 1.06 0l2 2a.75.75 0 0 1 0 1.06l-2 2a.749.749 0 0 1-1.275-.326.749.749 0 0 1 .215-.734L10.69 8 9.22 6.53a.75.75 0 0 1 0-1.06ZM6.78 6.53 5.31 8l1.47 1.47a.749.749 0 0 1-.326 1.275.749.749 0 0 1-.734-.215l-2-2a.75.75 0 0 1 0-1.06l2-2a.751.751 0 0 1 1.042.018.751.751 0 0 1 .018 1.042Z"></path>
</svg>
</template>

<template id="device-desktop-icon">
  <svg aria-hidden="true" height="16" viewBox="0 0 16 16" version="1.1" width="16" data-view-component="true" class="octicon octicon-device-desktop">
    <path d="M14.25 1c.966 0 1.75.784 1.75 1.75v7.5A1.75 1.75 0 0 1 14.25 12h-3.727c.099 1.041.52 1.872 1.292 2.757A.752.752 0 0 1 11.25 16h-6.5a.75.75 0 0 1-.565-1.243c.772-.885 1.192-1.716 1.292-2.757H1.75A1.75 1.75 0 0 1 0 10.25v-7.5C0 1.784.784 1 1.75 1ZM1.75 2.5a.25.25 0 0 0-.25.25v7.5c0 .138.112.25.25.25h12.5a.25.25 0 0 0 .25-.25v-7.5a.25.25 0 0 0-.25-.25ZM9.018 12H6.982a5.72 5.72 0 0 1-.765 2.5h3.566a5.72 5.72 0 0 1-.765-2.5Z"></path>
</svg>
</template>

        <div class="position-relative">
                <ul
                  role="listbox"
                  class="ActionListWrap QueryBuilder-ListWrap"
                  aria-label="Suggestions"
                  data-action="
                    combobox-commit:query-builder#comboboxCommit
                    mousedown:query-builder#resultsMousedown
                  "
                  data-target="query-builder.resultsList"
                  data-persist-list=false
                  id="query-builder-test-results"
                ></ul>
        </div>
      <div class="FormControl-inlineValidation" id="validation-1e2eda86-96be-4339-b754-01f7f4137159" hidden="hidden">
        <span class="FormControl-inlineValidation--visual">
          <svg aria-hidden="true" height="12" viewBox="0 0 12 12" version="1.1" width="12" data-view-component="true" class="octicon octicon-alert-fill">
    <path d="M4.855.708c.5-.896 1.79-.896 2.29 0l4.675 8.351a1.312 1.312 0 0 1-1.146 1.954H1.33A1.313 1.313 0 0 1 .183 9.058ZM7 7V3H5v4Zm-1 3a1 1 0 1 0 0-2 1 1 0 0 0 0 2Z"></path>
</svg>
        </span>
        <span></span>
</div>    </div>
    <div data-target="query-builder.screenReaderFeedback" aria-live="polite" aria-atomic="true" class="sr-only"></div>
</query-builder></form>
          <div class="d-flex flex-row color-fg-muted px-3 text-small color-bg-default search-feedback-prompt">
            <a target="_blank" href="https://docs.github.com/search-github/github-code-search/understanding-github-code-search-syntax" data-view-component="true" class="Link color-fg-accent text-normal ml-2">
              Search syntax tips
</a>            <div class="d-flex flex-1"></div>
          </div>
        </div>
</div>

    </div>
</modal-dialog></div>
  </div>
  <div data-action="click:qbsearch-input#retract" class="dark-backdrop position-fixed" hidden data-target="qbsearch-input.darkBackdrop"></div>
  <div class="color-fg-default">
    
<dialog-helper>
  <dialog data-target="qbsearch-input.feedbackDialog" data-action="close:qbsearch-input#handleDialogClose cancel:qbsearch-input#handleDialogClose" id="feedback-dialog" aria-modal="true" aria-labelledby="feedback-dialog-title" aria-describedby="feedback-dialog-description" data-view-component="true" class="Overlay Overlay-whenNarrow Overlay--size-medium Overlay--motion-scaleFade">
    <div data-view-component="true" class="Overlay-header">
  <div class="Overlay-headerContentWrap">
    <div class="Overlay-titleWrap">
      <h1 class="Overlay-title " id="feedback-dialog-title">
        Provide feedback
      </h1>
        
    </div>
    <div class="Overlay-actionWrap">
      <button data-close-dialog-id="feedback-dialog" aria-label="Close" type="button" data-view-component="true" class="close-button Overlay-closeButton"><svg aria-hidden="true" height="16" viewBox="0 0 16 16" version="1.1" width="16" data-view-component="true" class="octicon octicon-x">
    <path d="M3.72 3.72a.75.75 0 0 1 1.06 0L8 6.94l3.22-3.22a.749.749 0 0 1 1.275.326.749.749 0 0 1-.215.734L9.06 8l3.22 3.22a.749.749 0 0 1-.326 1.275.749.749 0 0 1-.734-.215L8 9.06l-3.22 3.22a.751.751 0 0 1-1.042-.018.751.751 0 0 1-.018-1.042L6.94 8 3.72 4.78a.75.75 0 0 1 0-1.06Z"></path>
</svg></button>
    </div>
  </div>
  
</div>
      <scrollable-region data-labelled-by="feedback-dialog-title">
        <div data-view-component="true" class="Overlay-body">        <!-- '"` --><!-- </textarea></xmp> --></option></form><form id="code-search-feedback-form" data-turbo="false" action="/search/feedback" accept-charset="UTF-8" method="post"><input type="hidden" data-csrf="true" name="authenticity_token" value="HsNFbEZqe8ypAu2s8SqHexpsnplXjMU/cxu/mESX52OeYLBhcD9VbkfWKzSeHilMSN9fV7ptCEfY3X4M7YlmIA==" />
          <p>We read every piece of feedback, and take your input very seriously.</p>
          <textarea name="feedback" class="form-control width-full mb-2" style="height: 120px" id="feedback"></textarea>
          <input name="include_email" id="include_email" aria-label="Include my email address so I can be contacted" class="form-control mr-2" type="checkbox">
          <label for="include_email" style="font-weight: normal">Include my email address so I can be contacted</label>
</form></div>
      </scrollable-region>
      <div data-view-component="true" class="Overlay-footer Overlay-footer--alignEnd">          <button data-close-dialog-id="feedback-dialog" type="button" data-view-component="true" class="btn">    Cancel
</button>
          <button form="code-search-feedback-form" data-action="click:qbsearch-input#submitFeedback" type="submit" data-view-component="true" class="btn-primary btn">    Submit feedback
</button>
</div>
</dialog></dialog-helper>

    <custom-scopes data-target="qbsearch-input.customScopesManager">
    
<dialog-helper>
  <dialog data-target="custom-scopes.customScopesModalDialog" data-action="close:qbsearch-input#handleDialogClose cancel:qbsearch-input#handleDialogClose" id="custom-scopes-dialog" aria-modal="true" aria-labelledby="custom-scopes-dialog-title" aria-describedby="custom-scopes-dialog-description" data-view-component="true" class="Overlay Overlay-whenNarrow Overlay--size-medium Overlay--motion-scaleFade">
    <div data-view-component="true" class="Overlay-header Overlay-header--divided">
  <div class="Overlay-headerContentWrap">
    <div class="Overlay-titleWrap">
      <h1 class="Overlay-title " id="custom-scopes-dialog-title">
        Saved searches
      </h1>
        <h2 id="custom-scopes-dialog-description" class="Overlay-description">Use saved searches to filter your results more quickly</h2>
    </div>
    <div class="Overlay-actionWrap">
      <button data-close-dialog-id="custom-scopes-dialog" aria-label="Close" type="button" data-view-component="true" class="close-button Overlay-closeButton"><svg aria-hidden="true" height="16" viewBox="0 0 16 16" version="1.1" width="16" data-view-component="true" class="octicon octicon-x">
    <path d="M3.72 3.72a.75.75 0 0 1 1.06 0L8 6.94l3.22-3.22a.749.749 0 0 1 1.275.326.749.749 0 0 1-.215.734L9.06 8l3.22 3.22a.749.749 0 0 1-.326 1.275.749.749 0 0 1-.734-.215L8 9.06l-3.22 3.22a.751.751 0 0 1-1.042-.018.751.751 0 0 1-.018-1.042L6.94 8 3.72 4.78a.75.75 0 0 1 0-1.06Z"></path>
</svg></button>
    </div>
  </div>
  
</div>
      <scrollable-region data-labelled-by="custom-scopes-dialog-title">
        <div data-view-component="true" class="Overlay-body">        <div data-target="custom-scopes.customScopesModalDialogFlash"></div>

        <div hidden class="create-custom-scope-form" data-target="custom-scopes.createCustomScopeForm">
        <!-- '"` --><!-- </textarea></xmp> --></option></form><form id="custom-scopes-dialog-form" data-turbo="false" action="/search/custom_scopes" accept-charset="UTF-8" method="post"><input type="hidden" data-csrf="true" name="authenticity_token" value="cEjxhqBybsI3Xya20khB7ZGqmMXBMVpURUiWxYud43+afyliE3WKpFWkf/ttyjfmZWa/im3nScUx79fjndnk3A==" />
          <div data-target="custom-scopes.customScopesModalDialogFlash"></div>

          <input type="hidden" id="custom_scope_id" name="custom_scope_id" data-target="custom-scopes.customScopesIdField">

          <div class="form-group">
            <label for="custom_scope_name">Name</label>
            <auto-check src="/search/custom_scopes/check_name" required>
              <input
                type="text"
                name="custom_scope_name"
                id="custom_scope_name"
                data-target="custom-scopes.customScopesNameField"
                class="form-control"
                autocomplete="off"
                placeholder="github-ruby"
                required
                maxlength="50">
              <input type="hidden" data-csrf="true" value="IdCYz9r9zizK1h4R5KR9IHWbTQviiRD+w7nwJWm54g8TgLAhTSg4zISZk1/LVnqAavDmcmCa96xpTbjK6ZZ1Qw==" />
            </auto-check>
          </div>

          <div class="form-group">
            <label for="custom_scope_query">Query</label>
            <input
              type="text"
              name="custom_scope_query"
              id="custom_scope_query"
              data-target="custom-scopes.customScopesQueryField"
              class="form-control"
              autocomplete="off"
              placeholder="(repo:mona/a OR repo:mona/b) AND lang:python"
              required
              maxlength="500">
          </div>

          <p class="text-small color-fg-muted">
            To see all available qualifiers, see our <a class="Link--inTextBlock" href="https://docs.github.com/search-github/github-code-search/understanding-github-code-search-syntax">documentation</a>.
          </p>
</form>        </div>

        <div data-target="custom-scopes.manageCustomScopesForm">
          <div data-target="custom-scopes.list"></div>
        </div>

</div>
      </scrollable-region>
      <div data-view-component="true" class="Overlay-footer Overlay-footer--alignEnd Overlay-footer--divided">          <button data-action="click:custom-scopes#customScopesCancel" type="button" data-view-component="true" class="btn">    Cancel
</button>
          <button form="custom-scopes-dialog-form" data-action="click:custom-scopes#customScopesSubmit" data-target="custom-scopes.customScopesSubmitButton" type="submit" data-view-component="true" class="btn-primary btn">    Create saved search
</button>
</div>
</dialog></dialog-helper>
    </custom-scopes>
  </div>
</qbsearch-input>

            <div class="position-relative HeaderMenu-link-wrap d-lg-inline-block">
              <a
                href="/login?return_to=https%3A%2F%2Fgithub.com%2FYANGFAN5203%2Fsuper-duper-dollop%2Fblob%2Fmain%2FLecture%25204-homework-YangFan.ipynb"
                class="HeaderMenu-link HeaderMenu-link--sign-in HeaderMenu-button flex-shrink-0 no-underline d-none d-lg-inline-flex border border-lg-0 rounded rounded-lg-0 px-2 py-1"
                style="margin-left: 12px;"
                data-hydro-click="{&quot;event_type&quot;:&quot;authentication.click&quot;,&quot;payload&quot;:{&quot;location_in_page&quot;:&quot;site header menu&quot;,&quot;repository_id&quot;:null,&quot;auth_type&quot;:&quot;SIGN_UP&quot;,&quot;originating_url&quot;:&quot;https://github.com/YANGFAN5203/super-duper-dollop/blob/main/Lecture%204-homework-YangFan.ipynb&quot;,&quot;user_id&quot;:null}}" data-hydro-click-hmac="add3acfb97741a00ac01b0e2e4e3961ba42ae5455e2683eb77a1dcbd2bba9c35"
                data-analytics-event="{&quot;category&quot;:&quot;Marketing nav&quot;,&quot;action&quot;:&quot;click to go to homepage&quot;,&quot;label&quot;:&quot;ref_page:Marketing;ref_cta:Sign in;ref_loc:Header&quot;}"
              >
                Sign in
              </a>
            </div>

              <a href="/signup?ref_cta=Sign+up&amp;ref_loc=header+logged+out&amp;ref_page=%2F%3Cuser-name%3E%2F%3Crepo-name%3E%2Fblob%2Fshow&amp;source=header-repo&amp;source_repo=YANGFAN5203%2Fsuper-duper-dollop"
                class="HeaderMenu-link HeaderMenu-link--sign-up HeaderMenu-button flex-shrink-0 d-flex d-lg-inline-flex no-underline border color-border-default rounded px-2 py-1"
                data-hydro-click="{&quot;event_type&quot;:&quot;authentication.click&quot;,&quot;payload&quot;:{&quot;location_in_page&quot;:&quot;site header menu&quot;,&quot;repository_id&quot;:null,&quot;auth_type&quot;:&quot;SIGN_UP&quot;,&quot;originating_url&quot;:&quot;https://github.com/YANGFAN5203/super-duper-dollop/blob/main/Lecture%204-homework-YangFan.ipynb&quot;,&quot;user_id&quot;:null}}" data-hydro-click-hmac="add3acfb97741a00ac01b0e2e4e3961ba42ae5455e2683eb77a1dcbd2bba9c35"
                data-analytics-event="{&quot;category&quot;:&quot;Sign up&quot;,&quot;action&quot;:&quot;click to sign up for account&quot;,&quot;label&quot;:&quot;ref_page:/&lt;user-name&gt;/&lt;repo-name&gt;/blob/show;ref_cta:Sign up;ref_loc:header logged out&quot;}"
              >
                Sign up
              </a>
          <button type="button" class="sr-only js-header-menu-focus-trap d-block d-lg-none">Reseting focus</button>
        </div>
      </div>
    </div>
  </div>
</header>

      <div hidden="hidden" data-view-component="true" class="js-stale-session-flash stale-session-flash flash flash-warn flash-full">
  
        <svg aria-hidden="true" height="16" viewBox="0 0 16 16" version="1.1" width="16" data-view-component="true" class="octicon octicon-alert">
    <path d="M6.457 1.047c.659-1.234 2.427-1.234 3.086 0l6.082 11.378A1.75 1.75 0 0 1 14.082 15H1.918a1.75 1.75 0 0 1-1.543-2.575Zm1.763.707a.25.25 0 0 0-.44 0L1.698 13.132a.25.25 0 0 0 .22.368h12.164a.25.25 0 0 0 .22-.368Zm.53 3.996v2.5a.75.75 0 0 1-1.5 0v-2.5a.75.75 0 0 1 1.5 0ZM9 11a1 1 0 1 1-2 0 1 1 0 0 1 2 0Z"></path>
</svg>
        <span class="js-stale-session-flash-signed-in" hidden>You signed in with another tab or window. <a class="Link--inTextBlock" href="">Reload</a> to refresh your session.</span>
        <span class="js-stale-session-flash-signed-out" hidden>You signed out in another tab or window. <a class="Link--inTextBlock" href="">Reload</a> to refresh your session.</span>
        <span class="js-stale-session-flash-switched" hidden>You switched accounts on another tab or window. <a class="Link--inTextBlock" href="">Reload</a> to refresh your session.</span>

    <button id="icon-button-a2c719bd-b876-459a-9019-1bc20e1a145f" aria-labelledby="tooltip-8a7cfc29-7024-4b16-b89c-e39b10b4bc6a" type="button" data-view-component="true" class="Button Button--iconOnly Button--invisible Button--medium flash-close js-flash-close">  <svg aria-hidden="true" height="16" viewBox="0 0 16 16" version="1.1" width="16" data-view-component="true" class="octicon octicon-x Button-visual">
    <path d="M3.72 3.72a.75.75 0 0 1 1.06 0L8 6.94l3.22-3.22a.749.749 0 0 1 1.275.326.749.749 0 0 1-.215.734L9.06 8l3.22 3.22a.749.749 0 0 1-.326 1.275.749.749 0 0 1-.734-.215L8 9.06l-3.22 3.22a.751.751 0 0 1-1.042-.018.751.751 0 0 1-.018-1.042L6.94 8 3.72 4.78a.75.75 0 0 1 0-1.06Z"></path>
</svg>
</button><tool-tip id="tooltip-8a7cfc29-7024-4b16-b89c-e39b10b4bc6a" for="icon-button-a2c719bd-b876-459a-9019-1bc20e1a145f" popover="manual" data-direction="s" data-type="label" data-view-component="true" class="sr-only position-absolute">Dismiss alert</tool-tip>


  
</div>
    </div>

  <div id="start-of-content" class="show-on-focus"></div>








    <div id="js-flash-container" class="flash-container" data-turbo-replace>




  <template class="js-flash-template">
    
<div class="flash flash-full   {{ className }}">
  <div >
    <button autofocus class="flash-close js-flash-close" type="button" aria-label="Dismiss this message">
      <svg aria-hidden="true" height="16" viewBox="0 0 16 16" version="1.1" width="16" data-view-component="true" class="octicon octicon-x">
    <path d="M3.72 3.72a.75.75 0 0 1 1.06 0L8 6.94l3.22-3.22a.749.749 0 0 1 1.275.326.749.749 0 0 1-.215.734L9.06 8l3.22 3.22a.749.749 0 0 1-.326 1.275.749.749 0 0 1-.734-.215L8 9.06l-3.22 3.22a.751.751 0 0 1-1.042-.018.751.751 0 0 1-.018-1.042L6.94 8 3.72 4.78a.75.75 0 0 1 0-1.06Z"></path>
</svg>
    </button>
    <div aria-atomic="true" role="alert" class="js-flash-alert">
      
      <div>{{ message }}</div>

    </div>
  </div>
</div>
  </template>
</div>


    
    <include-fragment class="js-notification-shelf-include-fragment" data-base-src="https://github.com/notifications/beta/shelf"></include-fragment>





  <div
    class="application-main "
    data-commit-hovercards-enabled
    data-discussion-hovercards-enabled
    data-issue-and-pr-hovercards-enabled
  >
        <div itemscope itemtype="http://schema.org/SoftwareSourceCode" class="">
    <main id="js-repo-pjax-container" >
      
      






  
  <div id="repository-container-header"  class="pt-3 hide-full-screen" style="background-color: var(--page-header-bgColor, var(--color-page-header-bg));" data-turbo-replace>


      <div class="d-flex flex-nowrap flex-justify-end mb-3  px-3 px-lg-5" style="gap: 1rem;">

        <div class="flex-auto min-width-0 width-fit">
            
  <div class=" d-flex flex-wrap flex-items-center wb-break-word f3 text-normal">
      <svg aria-hidden="true" height="16" viewBox="0 0 16 16" version="1.1" width="16" data-view-component="true" class="octicon octicon-repo color-fg-muted mr-2">
    <path d="M2 2.5A2.5 2.5 0 0 1 4.5 0h8.75a.75.75 0 0 1 .75.75v12.5a.75.75 0 0 1-.75.75h-2.5a.75.75 0 0 1 0-1.5h1.75v-2h-8a1 1 0 0 0-.714 1.7.75.75 0 1 1-1.072 1.05A2.495 2.495 0 0 1 2 11.5Zm10.5-1h-8a1 1 0 0 0-1 1v6.708A2.486 2.486 0 0 1 4.5 9h8ZM5 12.25a.25.25 0 0 1 .25-.25h3.5a.25.25 0 0 1 .25.25v3.25a.25.25 0 0 1-.4.2l-1.45-1.087a.249.249 0 0 0-.3 0L5.4 15.7a.25.25 0 0 1-.4-.2Z"></path>
</svg>
    
    <span class="author flex-self-stretch" itemprop="author">
      <a class="url fn" rel="author" data-hovercard-type="user" data-hovercard-url="/users/YANGFAN5203/hovercard" data-octo-click="hovercard-link-click" data-octo-dimensions="link_type:self" href="/YANGFAN5203">
        YANGFAN5203
</a>    </span>
    <span class="mx-1 flex-self-stretch color-fg-muted">/</span>
    <strong itemprop="name" class="mr-2 flex-self-stretch">
      <a data-pjax="#repo-content-pjax-container" data-turbo-frame="repo-content-turbo-frame" href="/YANGFAN5203/super-duper-dollop">super-duper-dollop</a>
    </strong>

    <span></span><span class="Label Label--secondary v-align-middle mr-1">Public</span>
  </div>


        </div>

        <div id="repository-details-container" class="flex-shrink-0" data-turbo-replace style="max-width: 70%;">
            <ul class="pagehead-actions flex-shrink-0 d-none d-md-inline" style="padding: 2px 0;">
    
      

  <li>
            <a href="/login?return_to=%2FYANGFAN5203%2Fsuper-duper-dollop" rel="nofollow" id="repository-details-watch-button" data-hydro-click="{&quot;event_type&quot;:&quot;authentication.click&quot;,&quot;payload&quot;:{&quot;location_in_page&quot;:&quot;notification subscription menu watch&quot;,&quot;repository_id&quot;:null,&quot;auth_type&quot;:&quot;LOG_IN&quot;,&quot;originating_url&quot;:&quot;https://github.com/YANGFAN5203/super-duper-dollop/blob/main/Lecture%204-homework-YangFan.ipynb&quot;,&quot;user_id&quot;:null}}" data-hydro-click-hmac="df4e07bb9514e46aeba255a3653b2b0a999bd8fde62b853965770108c002caaf" aria-label="You must be signed in to change notification settings" data-view-component="true" class="btn-sm btn">    <svg aria-hidden="true" height="16" viewBox="0 0 16 16" version="1.1" width="16" data-view-component="true" class="octicon octicon-bell mr-2">
    <path d="M8 16a2 2 0 0 0 1.985-1.75c.017-.137-.097-.25-.235-.25h-3.5c-.138 0-.252.113-.235.25A2 2 0 0 0 8 16ZM3 5a5 5 0 0 1 10 0v2.947c0 .05.015.098.042.139l1.703 2.555A1.519 1.519 0 0 1 13.482 13H2.518a1.516 1.516 0 0 1-1.263-2.36l1.703-2.554A.255.255 0 0 0 3 7.947Zm5-3.5A3.5 3.5 0 0 0 4.5 5v2.947c0 .346-.102.683-.294.97l-1.703 2.556a.017.017 0 0 0-.003.01l.001.006c0 .002.002.004.004.006l.006.004.007.001h10.964l.007-.001.006-.004.004-.006.001-.007a.017.017 0 0 0-.003-.01l-1.703-2.554a1.745 1.745 0 0 1-.294-.97V5A3.5 3.5 0 0 0 8 1.5Z"></path>
</svg>Notifications
</a>    <tool-tip id="tooltip-e12716bd-7fe2-4610-bac9-c4c3aecbcbf6" for="repository-details-watch-button" popover="manual" data-direction="s" data-type="description" data-view-component="true" class="sr-only position-absolute">You must be signed in to change notification settings</tool-tip>

  </li>

  <li>
          <a icon="repo-forked" id="fork-button" href="/login?return_to=%2FYANGFAN5203%2Fsuper-duper-dollop" rel="nofollow" data-hydro-click="{&quot;event_type&quot;:&quot;authentication.click&quot;,&quot;payload&quot;:{&quot;location_in_page&quot;:&quot;repo details fork button&quot;,&quot;repository_id&quot;:872288887,&quot;auth_type&quot;:&quot;LOG_IN&quot;,&quot;originating_url&quot;:&quot;https://github.com/YANGFAN5203/super-duper-dollop/blob/main/Lecture%204-homework-YangFan.ipynb&quot;,&quot;user_id&quot;:null}}" data-hydro-click-hmac="44f413022dbed38750a1f2144a0d9396b911b366084c64b6445e43a8400b8409" data-view-component="true" class="btn-sm btn">    <svg aria-hidden="true" height="16" viewBox="0 0 16 16" version="1.1" width="16" data-view-component="true" class="octicon octicon-repo-forked mr-2">
    <path d="M5 5.372v.878c0 .414.336.75.75.75h4.5a.75.75 0 0 0 .75-.75v-.878a2.25 2.25 0 1 1 1.5 0v.878a2.25 2.25 0 0 1-2.25 2.25h-1.5v2.128a2.251 2.251 0 1 1-1.5 0V8.5h-1.5A2.25 2.25 0 0 1 3.5 6.25v-.878a2.25 2.25 0 1 1 1.5 0ZM5 3.25a.75.75 0 1 0-1.5 0 .75.75 0 0 0 1.5 0Zm6.75.75a.75.75 0 1 0 0-1.5.75.75 0 0 0 0 1.5Zm-3 8.75a.75.75 0 1 0-1.5 0 .75.75 0 0 0 1.5 0Z"></path>
</svg>Fork
    <span id="repo-network-counter" data-pjax-replace="true" data-turbo-replace="true" title="0" data-view-component="true" class="Counter">0</span>
</a>
  </li>

  <li>
        <div data-view-component="true" class="BtnGroup d-flex">
        <a href="/login?return_to=%2FYANGFAN5203%2Fsuper-duper-dollop" rel="nofollow" data-hydro-click="{&quot;event_type&quot;:&quot;authentication.click&quot;,&quot;payload&quot;:{&quot;location_in_page&quot;:&quot;star button&quot;,&quot;repository_id&quot;:872288887,&quot;auth_type&quot;:&quot;LOG_IN&quot;,&quot;originating_url&quot;:&quot;https://github.com/YANGFAN5203/super-duper-dollop/blob/main/Lecture%204-homework-YangFan.ipynb&quot;,&quot;user_id&quot;:null}}" data-hydro-click-hmac="5312bee9800c75f9f068af577094beb9dd7f945adc4ef2503a20de9a35420c14" aria-label="You must be signed in to star a repository" data-view-component="true" class="tooltipped tooltipped-sw btn-sm btn">    <svg aria-hidden="true" height="16" viewBox="0 0 16 16" version="1.1" width="16" data-view-component="true" class="octicon octicon-star v-align-text-bottom d-inline-block mr-2">
    <path d="M8 .25a.75.75 0 0 1 .673.418l1.882 3.815 4.21.612a.75.75 0 0 1 .416 1.279l-3.046 2.97.719 4.192a.751.751 0 0 1-1.088.791L8 12.347l-3.766 1.98a.75.75 0 0 1-1.088-.79l.72-4.194L.818 6.374a.75.75 0 0 1 .416-1.28l4.21-.611L7.327.668A.75.75 0 0 1 8 .25Zm0 2.445L6.615 5.5a.75.75 0 0 1-.564.41l-3.097.45 2.24 2.184a.75.75 0 0 1 .216.664l-.528 3.084 2.769-1.456a.75.75 0 0 1 .698 0l2.77 1.456-.53-3.084a.75.75 0 0 1 .216-.664l2.24-2.183-3.096-.45a.75.75 0 0 1-.564-.41L8 2.694Z"></path>
</svg><span data-view-component="true" class="d-inline">
          Star
</span>          <span id="repo-stars-counter-star" aria-label="0 users starred this repository" data-singular-suffix="user starred this repository" data-plural-suffix="users starred this repository" data-turbo-replace="true" title="0" data-view-component="true" class="Counter js-social-count">0</span>
</a></div>
  </li>

</ul>

        </div>
      </div>

        <div id="responsive-meta-container" data-turbo-replace>
</div>


          <nav data-pjax="#js-repo-pjax-container" aria-label="Repository" data-view-component="true" class="js-repo-nav js-sidenav-container-pjax js-responsive-underlinenav overflow-hidden UnderlineNav px-3 px-md-4 px-lg-5">

  <ul data-view-component="true" class="UnderlineNav-body list-style-none">
      <li data-view-component="true" class="d-inline-flex">
  <a id="code-tab" href="/YANGFAN5203/super-duper-dollop" data-tab-item="i0code-tab" data-selected-links="repo_source repo_downloads repo_commits repo_releases repo_tags repo_branches repo_packages repo_deployments repo_attestations /YANGFAN5203/super-duper-dollop" data-pjax="#repo-content-pjax-container" data-turbo-frame="repo-content-turbo-frame" data-hotkey="g c" data-analytics-event="{&quot;category&quot;:&quot;Underline navbar&quot;,&quot;action&quot;:&quot;Click tab&quot;,&quot;label&quot;:&quot;Code&quot;,&quot;target&quot;:&quot;UNDERLINE_NAV.TAB&quot;}" aria-current="page" data-view-component="true" class="UnderlineNav-item no-wrap js-responsive-underlinenav-item js-selected-navigation-item selected">
    
              <svg aria-hidden="true" height="16" viewBox="0 0 16 16" version="1.1" width="16" data-view-component="true" class="octicon octicon-code UnderlineNav-octicon d-none d-sm-inline">
    <path d="m11.28 3.22 4.25 4.25a.75.75 0 0 1 0 1.06l-4.25 4.25a.749.749 0 0 1-1.275-.326.749.749 0 0 1 .215-.734L13.94 8l-3.72-3.72a.749.749 0 0 1 .326-1.275.749.749 0 0 1 .734.215Zm-6.56 0a.751.751 0 0 1 1.042.018.751.751 0 0 1 .018 1.042L2.06 8l3.72 3.72a.749.749 0 0 1-.326 1.275.749.749 0 0 1-.734-.215L.47 8.53a.75.75 0 0 1 0-1.06Z"></path>
</svg>
        <span data-content="Code">Code</span>
          <span id="code-repo-tab-count" data-pjax-replace="" data-turbo-replace="" title="Not available" data-view-component="true" class="Counter"></span>


    
</a></li>
      <li data-view-component="true" class="d-inline-flex">
  <a id="issues-tab" href="/YANGFAN5203/super-duper-dollop/issues" data-tab-item="i1issues-tab" data-selected-links="repo_issues repo_labels repo_milestones /YANGFAN5203/super-duper-dollop/issues" data-pjax="#repo-content-pjax-container" data-turbo-frame="repo-content-turbo-frame" data-hotkey="g i" data-analytics-event="{&quot;category&quot;:&quot;Underline navbar&quot;,&quot;action&quot;:&quot;Click tab&quot;,&quot;label&quot;:&quot;Issues&quot;,&quot;target&quot;:&quot;UNDERLINE_NAV.TAB&quot;}" data-view-component="true" class="UnderlineNav-item no-wrap js-responsive-underlinenav-item js-selected-navigation-item">
    
              <svg aria-hidden="true" height="16" viewBox="0 0 16 16" version="1.1" width="16" data-view-component="true" class="octicon octicon-issue-opened UnderlineNav-octicon d-none d-sm-inline">
    <path d="M8 9.5a1.5 1.5 0 1 0 0-3 1.5 1.5 0 0 0 0 3Z"></path><path d="M8 0a8 8 0 1 1 0 16A8 8 0 0 1 8 0ZM1.5 8a6.5 6.5 0 1 0 13 0 6.5 6.5 0 0 0-13 0Z"></path>
</svg>
        <span data-content="Issues">Issues</span>
          <span id="issues-repo-tab-count" data-pjax-replace="" data-turbo-replace="" title="0" hidden="hidden" data-view-component="true" class="Counter">0</span>


    
</a></li>
      <li data-view-component="true" class="d-inline-flex">
  <a id="pull-requests-tab" href="/YANGFAN5203/super-duper-dollop/pulls" data-tab-item="i2pull-requests-tab" data-selected-links="repo_pulls checks /YANGFAN5203/super-duper-dollop/pulls" data-pjax="#repo-content-pjax-container" data-turbo-frame="repo-content-turbo-frame" data-hotkey="g p" data-analytics-event="{&quot;category&quot;:&quot;Underline navbar&quot;,&quot;action&quot;:&quot;Click tab&quot;,&quot;label&quot;:&quot;Pull requests&quot;,&quot;target&quot;:&quot;UNDERLINE_NAV.TAB&quot;}" data-view-component="true" class="UnderlineNav-item no-wrap js-responsive-underlinenav-item js-selected-navigation-item">
    
              <svg aria-hidden="true" height="16" viewBox="0 0 16 16" version="1.1" width="16" data-view-component="true" class="octicon octicon-git-pull-request UnderlineNav-octicon d-none d-sm-inline">
    <path d="M1.5 3.25a2.25 2.25 0 1 1 3 2.122v5.256a2.251 2.251 0 1 1-1.5 0V5.372A2.25 2.25 0 0 1 1.5 3.25Zm5.677-.177L9.573.677A.25.25 0 0 1 10 .854V2.5h1A2.5 2.5 0 0 1 13.5 5v5.628a2.251 2.251 0 1 1-1.5 0V5a1 1 0 0 0-1-1h-1v1.646a.25.25 0 0 1-.427.177L7.177 3.427a.25.25 0 0 1 0-.354ZM3.75 2.5a.75.75 0 1 0 0 1.5.75.75 0 0 0 0-1.5Zm0 9.5a.75.75 0 1 0 0 1.5.75.75 0 0 0 0-1.5Zm8.25.75a.75.75 0 1 0 1.5 0 .75.75 0 0 0-1.5 0Z"></path>
</svg>
        <span data-content="Pull requests">Pull requests</span>
          <span id="pull-requests-repo-tab-count" data-pjax-replace="" data-turbo-replace="" title="0" hidden="hidden" data-view-component="true" class="Counter">0</span>


    
</a></li>
      <li data-view-component="true" class="d-inline-flex">
  <a id="actions-tab" href="/YANGFAN5203/super-duper-dollop/actions" data-tab-item="i3actions-tab" data-selected-links="repo_actions /YANGFAN5203/super-duper-dollop/actions" data-pjax="#repo-content-pjax-container" data-turbo-frame="repo-content-turbo-frame" data-hotkey="g a" data-analytics-event="{&quot;category&quot;:&quot;Underline navbar&quot;,&quot;action&quot;:&quot;Click tab&quot;,&quot;label&quot;:&quot;Actions&quot;,&quot;target&quot;:&quot;UNDERLINE_NAV.TAB&quot;}" data-view-component="true" class="UnderlineNav-item no-wrap js-responsive-underlinenav-item js-selected-navigation-item">
    
              <svg aria-hidden="true" height="16" viewBox="0 0 16 16" version="1.1" width="16" data-view-component="true" class="octicon octicon-play UnderlineNav-octicon d-none d-sm-inline">
    <path d="M8 0a8 8 0 1 1 0 16A8 8 0 0 1 8 0ZM1.5 8a6.5 6.5 0 1 0 13 0 6.5 6.5 0 0 0-13 0Zm4.879-2.773 4.264 2.559a.25.25 0 0 1 0 .428l-4.264 2.559A.25.25 0 0 1 6 10.559V5.442a.25.25 0 0 1 .379-.215Z"></path>
</svg>
        <span data-content="Actions">Actions</span>
          <span id="actions-repo-tab-count" data-pjax-replace="" data-turbo-replace="" title="Not available" data-view-component="true" class="Counter"></span>


    
</a></li>
      <li data-view-component="true" class="d-inline-flex">
  <a id="projects-tab" href="/YANGFAN5203/super-duper-dollop/projects" data-tab-item="i4projects-tab" data-selected-links="repo_projects new_repo_project repo_project /YANGFAN5203/super-duper-dollop/projects" data-pjax="#repo-content-pjax-container" data-turbo-frame="repo-content-turbo-frame" data-hotkey="g b" data-analytics-event="{&quot;category&quot;:&quot;Underline navbar&quot;,&quot;action&quot;:&quot;Click tab&quot;,&quot;label&quot;:&quot;Projects&quot;,&quot;target&quot;:&quot;UNDERLINE_NAV.TAB&quot;}" data-view-component="true" class="UnderlineNav-item no-wrap js-responsive-underlinenav-item js-selected-navigation-item">
    
              <svg aria-hidden="true" height="16" viewBox="0 0 16 16" version="1.1" width="16" data-view-component="true" class="octicon octicon-table UnderlineNav-octicon d-none d-sm-inline">
    <path d="M0 1.75C0 .784.784 0 1.75 0h12.5C15.216 0 16 .784 16 1.75v12.5A1.75 1.75 0 0 1 14.25 16H1.75A1.75 1.75 0 0 1 0 14.25ZM6.5 6.5v8h7.75a.25.25 0 0 0 .25-.25V6.5Zm8-1.5V1.75a.25.25 0 0 0-.25-.25H6.5V5Zm-13 1.5v7.75c0 .138.112.25.25.25H5v-8ZM5 5V1.5H1.75a.25.25 0 0 0-.25.25V5Z"></path>
</svg>
        <span data-content="Projects">Projects</span>
          <span id="projects-repo-tab-count" data-pjax-replace="" data-turbo-replace="" title="0" hidden="hidden" data-view-component="true" class="Counter">0</span>


    
</a></li>
      <li data-view-component="true" class="d-inline-flex">
  <a id="security-tab" href="/YANGFAN5203/super-duper-dollop/security" data-tab-item="i5security-tab" data-selected-links="security overview alerts policy token_scanning code_scanning /YANGFAN5203/super-duper-dollop/security" data-pjax="#repo-content-pjax-container" data-turbo-frame="repo-content-turbo-frame" data-hotkey="g s" data-analytics-event="{&quot;category&quot;:&quot;Underline navbar&quot;,&quot;action&quot;:&quot;Click tab&quot;,&quot;label&quot;:&quot;Security&quot;,&quot;target&quot;:&quot;UNDERLINE_NAV.TAB&quot;}" data-view-component="true" class="UnderlineNav-item no-wrap js-responsive-underlinenav-item js-selected-navigation-item">
    
              <svg aria-hidden="true" height="16" viewBox="0 0 16 16" version="1.1" width="16" data-view-component="true" class="octicon octicon-shield UnderlineNav-octicon d-none d-sm-inline">
    <path d="M7.467.133a1.748 1.748 0 0 1 1.066 0l5.25 1.68A1.75 1.75 0 0 1 15 3.48V7c0 1.566-.32 3.182-1.303 4.682-.983 1.498-2.585 2.813-5.032 3.855a1.697 1.697 0 0 1-1.33 0c-2.447-1.042-4.049-2.357-5.032-3.855C1.32 10.182 1 8.566 1 7V3.48a1.75 1.75 0 0 1 1.217-1.667Zm.61 1.429a.25.25 0 0 0-.153 0l-5.25 1.68a.25.25 0 0 0-.174.238V7c0 1.358.275 2.666 1.057 3.86.784 1.194 2.121 2.34 4.366 3.297a.196.196 0 0 0 .154 0c2.245-.956 3.582-2.104 4.366-3.298C13.225 9.666 13.5 8.36 13.5 7V3.48a.251.251 0 0 0-.174-.237l-5.25-1.68ZM8.75 4.75v3a.75.75 0 0 1-1.5 0v-3a.75.75 0 0 1 1.5 0ZM9 10.5a1 1 0 1 1-2 0 1 1 0 0 1 2 0Z"></path>
</svg>
        <span data-content="Security">Security</span>
          <include-fragment src="/YANGFAN5203/super-duper-dollop/security/overall-count" accept="text/fragment+html"></include-fragment>

    
</a></li>
      <li data-view-component="true" class="d-inline-flex">
  <a id="insights-tab" href="/YANGFAN5203/super-duper-dollop/pulse" data-tab-item="i6insights-tab" data-selected-links="repo_graphs repo_contributors dependency_graph dependabot_updates pulse people community /YANGFAN5203/super-duper-dollop/pulse" data-pjax="#repo-content-pjax-container" data-turbo-frame="repo-content-turbo-frame" data-analytics-event="{&quot;category&quot;:&quot;Underline navbar&quot;,&quot;action&quot;:&quot;Click tab&quot;,&quot;label&quot;:&quot;Insights&quot;,&quot;target&quot;:&quot;UNDERLINE_NAV.TAB&quot;}" data-view-component="true" class="UnderlineNav-item no-wrap js-responsive-underlinenav-item js-selected-navigation-item">
    
              <svg aria-hidden="true" height="16" viewBox="0 0 16 16" version="1.1" width="16" data-view-component="true" class="octicon octicon-graph UnderlineNav-octicon d-none d-sm-inline">
    <path d="M1.5 1.75V13.5h13.75a.75.75 0 0 1 0 1.5H.75a.75.75 0 0 1-.75-.75V1.75a.75.75 0 0 1 1.5 0Zm14.28 2.53-5.25 5.25a.75.75 0 0 1-1.06 0L7 7.06 4.28 9.78a.751.751 0 0 1-1.042-.018.751.751 0 0 1-.018-1.042l3.25-3.25a.75.75 0 0 1 1.06 0L10 7.94l4.72-4.72a.751.751 0 0 1 1.042.018.751.751 0 0 1 .018 1.042Z"></path>
</svg>
        <span data-content="Insights">Insights</span>
          <span id="insights-repo-tab-count" data-pjax-replace="" data-turbo-replace="" title="Not available" data-view-component="true" class="Counter"></span>


    
</a></li>
</ul>
    <div style="visibility:hidden;" data-view-component="true" class="UnderlineNav-actions js-responsive-underlinenav-overflow position-absolute pr-3 pr-md-4 pr-lg-5 right-0">      <action-menu data-select-variant="none" data-view-component="true">
  <focus-group direction="vertical" mnemonics retain>
    <button id="action-menu-d9760a92-74be-4a90-a85b-2f22f5f59e39-button" popovertarget="action-menu-d9760a92-74be-4a90-a85b-2f22f5f59e39-overlay" aria-controls="action-menu-d9760a92-74be-4a90-a85b-2f22f5f59e39-list" aria-haspopup="true" aria-labelledby="tooltip-6d209f58-ab13-4f87-8532-fb0fe96ba0aa" type="button" data-view-component="true" class="Button Button--iconOnly Button--secondary Button--medium UnderlineNav-item">  <svg aria-hidden="true" height="16" viewBox="0 0 16 16" version="1.1" width="16" data-view-component="true" class="octicon octicon-kebab-horizontal Button-visual">
    <path d="M8 9a1.5 1.5 0 1 0 0-3 1.5 1.5 0 0 0 0 3ZM1.5 9a1.5 1.5 0 1 0 0-3 1.5 1.5 0 0 0 0 3Zm13 0a1.5 1.5 0 1 0 0-3 1.5 1.5 0 0 0 0 3Z"></path>
</svg>
</button><tool-tip id="tooltip-6d209f58-ab13-4f87-8532-fb0fe96ba0aa" for="action-menu-d9760a92-74be-4a90-a85b-2f22f5f59e39-button" popover="manual" data-direction="s" data-type="label" data-view-component="true" class="sr-only position-absolute">Additional navigation options</tool-tip>


<anchored-position id="action-menu-d9760a92-74be-4a90-a85b-2f22f5f59e39-overlay" anchor="action-menu-d9760a92-74be-4a90-a85b-2f22f5f59e39-button" align="start" side="outside-bottom" anchor-offset="normal" popover="auto" data-view-component="true">
  <div data-view-component="true" class="Overlay Overlay--size-auto">
    
      <div data-view-component="true" class="Overlay-body Overlay-body--paddingNone">          <action-list>
  <div data-view-component="true">
    <ul aria-labelledby="action-menu-d9760a92-74be-4a90-a85b-2f22f5f59e39-button" id="action-menu-d9760a92-74be-4a90-a85b-2f22f5f59e39-list" role="menu" data-view-component="true" class="ActionListWrap--inset ActionListWrap">
        <li hidden="hidden" data-menu-item="i0code-tab" data-targets="action-list.items" role="none" data-view-component="true" class="ActionListItem">
    
    
    <a tabindex="-1" id="item-8301b8cf-b390-4efe-a41b-c44a1565f0ee" href="/YANGFAN5203/super-duper-dollop" role="menuitem" data-view-component="true" class="ActionListContent ActionListContent--visual16">
        <span class="ActionListItem-visual ActionListItem-visual--leading">
          <svg aria-hidden="true" height="16" viewBox="0 0 16 16" version="1.1" width="16" data-view-component="true" class="octicon octicon-code">
    <path d="m11.28 3.22 4.25 4.25a.75.75 0 0 1 0 1.06l-4.25 4.25a.749.749 0 0 1-1.275-.326.749.749 0 0 1 .215-.734L13.94 8l-3.72-3.72a.749.749 0 0 1 .326-1.275.749.749 0 0 1 .734.215Zm-6.56 0a.751.751 0 0 1 1.042.018.751.751 0 0 1 .018 1.042L2.06 8l3.72 3.72a.749.749 0 0 1-.326 1.275.749.749 0 0 1-.734-.215L.47 8.53a.75.75 0 0 1 0-1.06Z"></path>
</svg>
        </span>
      
        <span data-view-component="true" class="ActionListItem-label">
          Code
</span>      
</a>
  
</li>
        <li hidden="hidden" data-menu-item="i1issues-tab" data-targets="action-list.items" role="none" data-view-component="true" class="ActionListItem">
    
    
    <a tabindex="-1" id="item-f8ced408-c88d-4592-bb35-be7742cc36e9" href="/YANGFAN5203/super-duper-dollop/issues" role="menuitem" data-view-component="true" class="ActionListContent ActionListContent--visual16">
        <span class="ActionListItem-visual ActionListItem-visual--leading">
          <svg aria-hidden="true" height="16" viewBox="0 0 16 16" version="1.1" width="16" data-view-component="true" class="octicon octicon-issue-opened">
    <path d="M8 9.5a1.5 1.5 0 1 0 0-3 1.5 1.5 0 0 0 0 3Z"></path><path d="M8 0a8 8 0 1 1 0 16A8 8 0 0 1 8 0ZM1.5 8a6.5 6.5 0 1 0 13 0 6.5 6.5 0 0 0-13 0Z"></path>
</svg>
        </span>
      
        <span data-view-component="true" class="ActionListItem-label">
          Issues
</span>      
</a>
  
</li>
        <li hidden="hidden" data-menu-item="i2pull-requests-tab" data-targets="action-list.items" role="none" data-view-component="true" class="ActionListItem">
    
    
    <a tabindex="-1" id="item-c1afd4a5-02b0-4352-9a72-15e873b22251" href="/YANGFAN5203/super-duper-dollop/pulls" role="menuitem" data-view-component="true" class="ActionListContent ActionListContent--visual16">
        <span class="ActionListItem-visual ActionListItem-visual--leading">
          <svg aria-hidden="true" height="16" viewBox="0 0 16 16" version="1.1" width="16" data-view-component="true" class="octicon octicon-git-pull-request">
    <path d="M1.5 3.25a2.25 2.25 0 1 1 3 2.122v5.256a2.251 2.251 0 1 1-1.5 0V5.372A2.25 2.25 0 0 1 1.5 3.25Zm5.677-.177L9.573.677A.25.25 0 0 1 10 .854V2.5h1A2.5 2.5 0 0 1 13.5 5v5.628a2.251 2.251 0 1 1-1.5 0V5a1 1 0 0 0-1-1h-1v1.646a.25.25 0 0 1-.427.177L7.177 3.427a.25.25 0 0 1 0-.354ZM3.75 2.5a.75.75 0 1 0 0 1.5.75.75 0 0 0 0-1.5Zm0 9.5a.75.75 0 1 0 0 1.5.75.75 0 0 0 0-1.5Zm8.25.75a.75.75 0 1 0 1.5 0 .75.75 0 0 0-1.5 0Z"></path>
</svg>
        </span>
      
        <span data-view-component="true" class="ActionListItem-label">
          Pull requests
</span>      
</a>
  
</li>
        <li hidden="hidden" data-menu-item="i3actions-tab" data-targets="action-list.items" role="none" data-view-component="true" class="ActionListItem">
    
    
    <a tabindex="-1" id="item-03779af5-c807-44c3-be2d-a5fe2c800244" href="/YANGFAN5203/super-duper-dollop/actions" role="menuitem" data-view-component="true" class="ActionListContent ActionListContent--visual16">
        <span class="ActionListItem-visual ActionListItem-visual--leading">
          <svg aria-hidden="true" height="16" viewBox="0 0 16 16" version="1.1" width="16" data-view-component="true" class="octicon octicon-play">
    <path d="M8 0a8 8 0 1 1 0 16A8 8 0 0 1 8 0ZM1.5 8a6.5 6.5 0 1 0 13 0 6.5 6.5 0 0 0-13 0Zm4.879-2.773 4.264 2.559a.25.25 0 0 1 0 .428l-4.264 2.559A.25.25 0 0 1 6 10.559V5.442a.25.25 0 0 1 .379-.215Z"></path>
</svg>
        </span>
      
        <span data-view-component="true" class="ActionListItem-label">
          Actions
</span>      
</a>
  
</li>
        <li hidden="hidden" data-menu-item="i4projects-tab" data-targets="action-list.items" role="none" data-view-component="true" class="ActionListItem">
    
    
    <a tabindex="-1" id="item-e058f4cd-5ee2-4e88-af33-96711782d32d" href="/YANGFAN5203/super-duper-dollop/projects" role="menuitem" data-view-component="true" class="ActionListContent ActionListContent--visual16">
        <span class="ActionListItem-visual ActionListItem-visual--leading">
          <svg aria-hidden="true" height="16" viewBox="0 0 16 16" version="1.1" width="16" data-view-component="true" class="octicon octicon-table">
    <path d="M0 1.75C0 .784.784 0 1.75 0h12.5C15.216 0 16 .784 16 1.75v12.5A1.75 1.75 0 0 1 14.25 16H1.75A1.75 1.75 0 0 1 0 14.25ZM6.5 6.5v8h7.75a.25.25 0 0 0 .25-.25V6.5Zm8-1.5V1.75a.25.25 0 0 0-.25-.25H6.5V5Zm-13 1.5v7.75c0 .138.112.25.25.25H5v-8ZM5 5V1.5H1.75a.25.25 0 0 0-.25.25V5Z"></path>
</svg>
        </span>
      
        <span data-view-component="true" class="ActionListItem-label">
          Projects
</span>      
</a>
  
</li>
        <li hidden="hidden" data-menu-item="i5security-tab" data-targets="action-list.items" role="none" data-view-component="true" class="ActionListItem">
    
    
    <a tabindex="-1" id="item-394680fc-0662-44e5-a0e0-7a784893c856" href="/YANGFAN5203/super-duper-dollop/security" role="menuitem" data-view-component="true" class="ActionListContent ActionListContent--visual16">
        <span class="ActionListItem-visual ActionListItem-visual--leading">
          <svg aria-hidden="true" height="16" viewBox="0 0 16 16" version="1.1" width="16" data-view-component="true" class="octicon octicon-shield">
    <path d="M7.467.133a1.748 1.748 0 0 1 1.066 0l5.25 1.68A1.75 1.75 0 0 1 15 3.48V7c0 1.566-.32 3.182-1.303 4.682-.983 1.498-2.585 2.813-5.032 3.855a1.697 1.697 0 0 1-1.33 0c-2.447-1.042-4.049-2.357-5.032-3.855C1.32 10.182 1 8.566 1 7V3.48a1.75 1.75 0 0 1 1.217-1.667Zm.61 1.429a.25.25 0 0 0-.153 0l-5.25 1.68a.25.25 0 0 0-.174.238V7c0 1.358.275 2.666 1.057 3.86.784 1.194 2.121 2.34 4.366 3.297a.196.196 0 0 0 .154 0c2.245-.956 3.582-2.104 4.366-3.298C13.225 9.666 13.5 8.36 13.5 7V3.48a.251.251 0 0 0-.174-.237l-5.25-1.68ZM8.75 4.75v3a.75.75 0 0 1-1.5 0v-3a.75.75 0 0 1 1.5 0ZM9 10.5a1 1 0 1 1-2 0 1 1 0 0 1 2 0Z"></path>
</svg>
        </span>
      
        <span data-view-component="true" class="ActionListItem-label">
          Security
</span>      
</a>
  
</li>
        <li hidden="hidden" data-menu-item="i6insights-tab" data-targets="action-list.items" role="none" data-view-component="true" class="ActionListItem">
    
    
    <a tabindex="-1" id="item-081a544c-da42-4911-ae51-ea05aa0d7cb7" href="/YANGFAN5203/super-duper-dollop/pulse" role="menuitem" data-view-component="true" class="ActionListContent ActionListContent--visual16">
        <span class="ActionListItem-visual ActionListItem-visual--leading">
          <svg aria-hidden="true" height="16" viewBox="0 0 16 16" version="1.1" width="16" data-view-component="true" class="octicon octicon-graph">
    <path d="M1.5 1.75V13.5h13.75a.75.75 0 0 1 0 1.5H.75a.75.75 0 0 1-.75-.75V1.75a.75.75 0 0 1 1.5 0Zm14.28 2.53-5.25 5.25a.75.75 0 0 1-1.06 0L7 7.06 4.28 9.78a.751.751 0 0 1-1.042-.018.751.751 0 0 1-.018-1.042l3.25-3.25a.75.75 0 0 1 1.06 0L10 7.94l4.72-4.72a.751.751 0 0 1 1.042.018.751.751 0 0 1 .018 1.042Z"></path>
</svg>
        </span>
      
        <span data-view-component="true" class="ActionListItem-label">
          Insights
</span>      
</a>
  
</li>
</ul>    
</div></action-list>


</div>
      
</div></anchored-position>  </focus-group>
</action-menu></div>
</nav>

  </div>

  



<turbo-frame id="repo-content-turbo-frame" target="_top" data-turbo-action="advance" class="">
    <div id="repo-content-pjax-container" class="repository-content " >
    



    
      
    








<react-app
  app-name="react-code-view"
  initial-path="/YANGFAN5203/super-duper-dollop/blob/main/Lecture%204-homework-YangFan.ipynb"
    style="display: block; min-height: calc(100vh - 64px);"
  data-attempted-ssr="false"
  data-ssr="false"
  data-lazy="false"
  data-alternate="false"
>
  
  <script type="application/json" data-target="react-app.embeddedData">{"payload":{"allShortcutsEnabled":false,"fileTree":{"":{"items":[{"name":"Lecture 2--homework-pet names.ipynb","path":"Lecture 2--homework-pet names.ipynb","contentType":"file"},{"name":"Lecture 3-homework 1-YangFan.ipynb","path":"Lecture 3-homework 1-YangFan.ipynb","contentType":"file"},{"name":"Lecture 3-homework 2-YangFan.ipynb","path":"Lecture 3-homework 2-YangFan.ipynb","contentType":"file"},{"name":"Lecture 4-homework-YangFan.ipynb","path":"Lecture 4-homework-YangFan.ipynb","contentType":"file"},{"name":"code-basics.ipynb","path":"code-basics.ipynb","contentType":"file"},{"name":"data-analysis-quickstart.ipynb","path":"data-analysis-quickstart.ipynb","contentType":"file"},{"name":"homework for lecture 2-pet names.ipynb","path":"homework for lecture 2-pet names.ipynb","contentType":"file"},{"name":"workflow-basics.ipynb","path":"workflow-basics.ipynb","contentType":"file"}],"totalCount":8}},"fileTreeProcessingTime":2.656854,"foldersToFetch":[],"repo":{"id":872288887,"defaultBranch":"main","name":"super-duper-dollop","ownerLogin":"YANGFAN5203","currentUserCanPush":false,"isFork":false,"isEmpty":false,"createdAt":"2024-10-14T07:19:38.000Z","ownerAvatar":"https://avatars.githubusercontent.com/u/184910727?v=4","public":true,"private":false,"isOrgOwned":false},"codeLineWrapEnabled":false,"symbolsExpanded":false,"treeExpanded":true,"refInfo":{"name":"main","listCacheKey":"v0:1730474662.0","canEdit":false,"refType":"branch","currentOid":"51d9b3829382033a58027d3588e95e720f3edec6"},"path":"Lecture 4-homework-YangFan.ipynb","currentUser":null,"blob":{"rawLines":["{"," \"cells\": [","  {","   \"cell_type\": \"code\",","   \"execution_count\": 12,","   \"metadata\": {},","   \"outputs\": [],","   \"source\": [","    \"import pandas as pd\\n\",","    \"df = pd.read_csv('all-ages.csv')\"","   ]","  },","  {","   \"cell_type\": \"code\",","   \"execution_count\": 13,","   \"metadata\": {},","   \"outputs\": [","    {","     \"data\": {","      \"text/html\": [","       \"\u003cdiv\u003e\\n\",","       \"\u003cstyle scoped\u003e\\n\",","       \"    .dataframe tbody tr th:only-of-type {\\n\",","       \"        vertical-align: middle;\\n\",","       \"    }\\n\",","       \"\\n\",","       \"    .dataframe tbody tr th {\\n\",","       \"        vertical-align: top;\\n\",","       \"    }\\n\",","       \"\\n\",","       \"    .dataframe thead th {\\n\",","       \"        text-align: right;\\n\",","       \"    }\\n\",","       \"\u003c/style\u003e\\n\",","       \"\u003ctable border=\\\"1\\\" class=\\\"dataframe\\\"\u003e\\n\",","       \"  \u003cthead\u003e\\n\",","       \"    \u003ctr style=\\\"text-align: right;\\\"\u003e\\n\",","       \"      \u003cth\u003e\u003c/th\u003e\\n\",","       \"      \u003cth\u003eMajor_code\u003c/th\u003e\\n\",","       \"      \u003cth\u003eMajor\u003c/th\u003e\\n\",","       \"      \u003cth\u003eMajor_category\u003c/th\u003e\\n\",","       \"      \u003cth\u003eTotal\u003c/th\u003e\\n\",","       \"      \u003cth\u003eEmployed\u003c/th\u003e\\n\",","       \"      \u003cth\u003eEmployed_full_time_year_round\u003c/th\u003e\\n\",","       \"      \u003cth\u003eUnemployed\u003c/th\u003e\\n\",","       \"      \u003cth\u003eUnemployment_rate\u003c/th\u003e\\n\",","       \"      \u003cth\u003eMedian\u003c/th\u003e\\n\",","       \"      \u003cth\u003eP25th\u003c/th\u003e\\n\",","       \"      \u003cth\u003eP75th\u003c/th\u003e\\n\",","       \"    \u003c/tr\u003e\\n\",","       \"  \u003c/thead\u003e\\n\",","       \"  \u003ctbody\u003e\\n\",","       \"    \u003ctr\u003e\\n\",","       \"      \u003cth\u003e0\u003c/th\u003e\\n\",","       \"      \u003ctd\u003e1100\u003c/td\u003e\\n\",","       \"      \u003ctd\u003eGENERAL AGRICULTURE\u003c/td\u003e\\n\",","       \"      \u003ctd\u003eAgriculture \u0026amp; Natural Resources\u003c/td\u003e\\n\",","       \"      \u003ctd\u003e128148\u003c/td\u003e\\n\",","       \"      \u003ctd\u003e90245\u003c/td\u003e\\n\",","       \"      \u003ctd\u003e74078\u003c/td\u003e\\n\",","       \"      \u003ctd\u003e2423\u003c/td\u003e\\n\",","       \"      \u003ctd\u003e0.026147\u003c/td\u003e\\n\",","       \"      \u003ctd\u003e50000\u003c/td\u003e\\n\",","       \"      \u003ctd\u003e34000\u003c/td\u003e\\n\",","       \"      \u003ctd\u003e80000.0\u003c/td\u003e\\n\",","       \"    \u003c/tr\u003e\\n\",","       \"    \u003ctr\u003e\\n\",","       \"      \u003cth\u003e1\u003c/th\u003e\\n\",","       \"      \u003ctd\u003e1101\u003c/td\u003e\\n\",","       \"      \u003ctd\u003eAGRICULTURE PRODUCTION AND MANAGEMENT\u003c/td\u003e\\n\",","       \"      \u003ctd\u003eAgriculture \u0026amp; Natural Resources\u003c/td\u003e\\n\",","       \"      \u003ctd\u003e95326\u003c/td\u003e\\n\",","       \"      \u003ctd\u003e76865\u003c/td\u003e\\n\",","       \"      \u003ctd\u003e64240\u003c/td\u003e\\n\",","       \"      \u003ctd\u003e2266\u003c/td\u003e\\n\",","       \"      \u003ctd\u003e0.028636\u003c/td\u003e\\n\",","       \"      \u003ctd\u003e54000\u003c/td\u003e\\n\",","       \"      \u003ctd\u003e36000\u003c/td\u003e\\n\",","       \"      \u003ctd\u003e80000.0\u003c/td\u003e\\n\",","       \"    \u003c/tr\u003e\\n\",","       \"    \u003ctr\u003e\\n\",","       \"      \u003cth\u003e2\u003c/th\u003e\\n\",","       \"      \u003ctd\u003e1102\u003c/td\u003e\\n\",","       \"      \u003ctd\u003eAGRICULTURAL ECONOMICS\u003c/td\u003e\\n\",","       \"      \u003ctd\u003eAgriculture \u0026amp; Natural Resources\u003c/td\u003e\\n\",","       \"      \u003ctd\u003e33955\u003c/td\u003e\\n\",","       \"      \u003ctd\u003e26321\u003c/td\u003e\\n\",","       \"      \u003ctd\u003e22810\u003c/td\u003e\\n\",","       \"      \u003ctd\u003e821\u003c/td\u003e\\n\",","       \"      \u003ctd\u003e0.030248\u003c/td\u003e\\n\",","       \"      \u003ctd\u003e63000\u003c/td\u003e\\n\",","       \"      \u003ctd\u003e40000\u003c/td\u003e\\n\",","       \"      \u003ctd\u003e98000.0\u003c/td\u003e\\n\",","       \"    \u003c/tr\u003e\\n\",","       \"    \u003ctr\u003e\\n\",","       \"      \u003cth\u003e3\u003c/th\u003e\\n\",","       \"      \u003ctd\u003e1103\u003c/td\u003e\\n\",","       \"      \u003ctd\u003eANIMAL SCIENCES\u003c/td\u003e\\n\",","       \"      \u003ctd\u003eAgriculture \u0026amp; Natural Resources\u003c/td\u003e\\n\",","       \"      \u003ctd\u003e103549\u003c/td\u003e\\n\",","       \"      \u003ctd\u003e81177\u003c/td\u003e\\n\",","       \"      \u003ctd\u003e64937\u003c/td\u003e\\n\",","       \"      \u003ctd\u003e3619\u003c/td\u003e\\n\",","       \"      \u003ctd\u003e0.042679\u003c/td\u003e\\n\",","       \"      \u003ctd\u003e46000\u003c/td\u003e\\n\",","       \"      \u003ctd\u003e30000\u003c/td\u003e\\n\",","       \"      \u003ctd\u003e72000.0\u003c/td\u003e\\n\",","       \"    \u003c/tr\u003e\\n\",","       \"    \u003ctr\u003e\\n\",","       \"      \u003cth\u003e4\u003c/th\u003e\\n\",","       \"      \u003ctd\u003e1104\u003c/td\u003e\\n\",","       \"      \u003ctd\u003eFOOD SCIENCE\u003c/td\u003e\\n\",","       \"      \u003ctd\u003eAgriculture \u0026amp; Natural Resources\u003c/td\u003e\\n\",","       \"      \u003ctd\u003e24280\u003c/td\u003e\\n\",","       \"      \u003ctd\u003e17281\u003c/td\u003e\\n\",","       \"      \u003ctd\u003e12722\u003c/td\u003e\\n\",","       \"      \u003ctd\u003e894\u003c/td\u003e\\n\",","       \"      \u003ctd\u003e0.049188\u003c/td\u003e\\n\",","       \"      \u003ctd\u003e62000\u003c/td\u003e\\n\",","       \"      \u003ctd\u003e38500\u003c/td\u003e\\n\",","       \"      \u003ctd\u003e90000.0\u003c/td\u003e\\n\",","       \"    \u003c/tr\u003e\\n\",","       \"    \u003ctr\u003e\\n\",","       \"      \u003cth\u003e...\u003c/th\u003e\\n\",","       \"      \u003ctd\u003e...\u003c/td\u003e\\n\",","       \"      \u003ctd\u003e...\u003c/td\u003e\\n\",","       \"      \u003ctd\u003e...\u003c/td\u003e\\n\",","       \"      \u003ctd\u003e...\u003c/td\u003e\\n\",","       \"      \u003ctd\u003e...\u003c/td\u003e\\n\",","       \"      \u003ctd\u003e...\u003c/td\u003e\\n\",","       \"      \u003ctd\u003e...\u003c/td\u003e\\n\",","       \"      \u003ctd\u003e...\u003c/td\u003e\\n\",","       \"      \u003ctd\u003e...\u003c/td\u003e\\n\",","       \"      \u003ctd\u003e...\u003c/td\u003e\\n\",","       \"      \u003ctd\u003e...\u003c/td\u003e\\n\",","       \"    \u003c/tr\u003e\\n\",","       \"    \u003ctr\u003e\\n\",","       \"      \u003cth\u003e168\u003c/th\u003e\\n\",","       \"      \u003ctd\u003e6211\u003c/td\u003e\\n\",","       \"      \u003ctd\u003eHOSPITALITY MANAGEMENT\u003c/td\u003e\\n\",","       \"      \u003ctd\u003eBusiness\u003c/td\u003e\\n\",","       \"      \u003ctd\u003e200854\u003c/td\u003e\\n\",","       \"      \u003ctd\u003e163393\u003c/td\u003e\\n\",","       \"      \u003ctd\u003e122499\u003c/td\u003e\\n\",","       \"      \u003ctd\u003e8862\u003c/td\u003e\\n\",","       \"      \u003ctd\u003e0.051447\u003c/td\u003e\\n\",","       \"      \u003ctd\u003e49000\u003c/td\u003e\\n\",","       \"      \u003ctd\u003e33000\u003c/td\u003e\\n\",","       \"      \u003ctd\u003e70000.0\u003c/td\u003e\\n\",","       \"    \u003c/tr\u003e\\n\",","       \"    \u003ctr\u003e\\n\",","       \"      \u003cth\u003e169\u003c/th\u003e\\n\",","       \"      \u003ctd\u003e6212\u003c/td\u003e\\n\",","       \"      \u003ctd\u003eMANAGEMENT INFORMATION SYSTEMS AND STATISTICS\u003c/td\u003e\\n\",","       \"      \u003ctd\u003eBusiness\u003c/td\u003e\\n\",","       \"      \u003ctd\u003e156673\u003c/td\u003e\\n\",","       \"      \u003ctd\u003e134478\u003c/td\u003e\\n\",","       \"      \u003ctd\u003e118249\u003c/td\u003e\\n\",","       \"      \u003ctd\u003e6186\u003c/td\u003e\\n\",","       \"      \u003ctd\u003e0.043977\u003c/td\u003e\\n\",","       \"      \u003ctd\u003e72000\u003c/td\u003e\\n\",","       \"      \u003ctd\u003e50000\u003c/td\u003e\\n\",","       \"      \u003ctd\u003e100000.0\u003c/td\u003e\\n\",","       \"    \u003c/tr\u003e\\n\",","       \"    \u003ctr\u003e\\n\",","       \"      \u003cth\u003e170\u003c/th\u003e\\n\",","       \"      \u003ctd\u003e6299\u003c/td\u003e\\n\",","       \"      \u003ctd\u003eMISCELLANEOUS BUSINESS \u0026amp; MEDICAL ADMINISTRATION\u003c/td\u003e\\n\",","       \"      \u003ctd\u003eBusiness\u003c/td\u003e\\n\",","       \"      \u003ctd\u003e102753\u003c/td\u003e\\n\",","       \"      \u003ctd\u003e77471\u003c/td\u003e\\n\",","       \"      \u003ctd\u003e61603\u003c/td\u003e\\n\",","       \"      \u003ctd\u003e4308\u003c/td\u003e\\n\",","       \"      \u003ctd\u003e0.052679\u003c/td\u003e\\n\",","       \"      \u003ctd\u003e53000\u003c/td\u003e\\n\",","       \"      \u003ctd\u003e36000\u003c/td\u003e\\n\",","       \"      \u003ctd\u003e83000.0\u003c/td\u003e\\n\",","       \"    \u003c/tr\u003e\\n\",","       \"    \u003ctr\u003e\\n\",","       \"      \u003cth\u003e171\u003c/th\u003e\\n\",","       \"      \u003ctd\u003e6402\u003c/td\u003e\\n\",","       \"      \u003ctd\u003eHISTORY\u003c/td\u003e\\n\",","       \"      \u003ctd\u003eHumanities \u0026amp; Liberal Arts\u003c/td\u003e\\n\",","       \"      \u003ctd\u003e712509\u003c/td\u003e\\n\",","       \"      \u003ctd\u003e478416\u003c/td\u003e\\n\",","       \"      \u003ctd\u003e354163\u003c/td\u003e\\n\",","       \"      \u003ctd\u003e33725\u003c/td\u003e\\n\",","       \"      \u003ctd\u003e0.065851\u003c/td\u003e\\n\",","       \"      \u003ctd\u003e50000\u003c/td\u003e\\n\",","       \"      \u003ctd\u003e35000\u003c/td\u003e\\n\",","       \"      \u003ctd\u003e80000.0\u003c/td\u003e\\n\",","       \"    \u003c/tr\u003e\\n\",","       \"    \u003ctr\u003e\\n\",","       \"      \u003cth\u003e172\u003c/th\u003e\\n\",","       \"      \u003ctd\u003e6403\u003c/td\u003e\\n\",","       \"      \u003ctd\u003eUNITED STATES HISTORY\u003c/td\u003e\\n\",","       \"      \u003ctd\u003eHumanities \u0026amp; Liberal Arts\u003c/td\u003e\\n\",","       \"      \u003ctd\u003e17746\u003c/td\u003e\\n\",","       \"      \u003ctd\u003e11887\u003c/td\u003e\\n\",","       \"      \u003ctd\u003e8204\u003c/td\u003e\\n\",","       \"      \u003ctd\u003e943\u003c/td\u003e\\n\",","       \"      \u003ctd\u003e0.073500\u003c/td\u003e\\n\",","       \"      \u003ctd\u003e50000\u003c/td\u003e\\n\",","       \"      \u003ctd\u003e39000\u003c/td\u003e\\n\",","       \"      \u003ctd\u003e81000.0\u003c/td\u003e\\n\",","       \"    \u003c/tr\u003e\\n\",","       \"  \u003c/tbody\u003e\\n\",","       \"\u003c/table\u003e\\n\",","       \"\u003cp\u003e173 rows × 11 columns\u003c/p\u003e\\n\",","       \"\u003c/div\u003e\"","      ],","      \"text/plain\": [","       \"     Major_code                                            Major  \\\\\\n\",","       \"0          1100                              GENERAL AGRICULTURE   \\n\",","       \"1          1101            AGRICULTURE PRODUCTION AND MANAGEMENT   \\n\",","       \"2          1102                           AGRICULTURAL ECONOMICS   \\n\",","       \"3          1103                                  ANIMAL SCIENCES   \\n\",","       \"4          1104                                     FOOD SCIENCE   \\n\",","       \"..          ...                                              ...   \\n\",","       \"168        6211                           HOSPITALITY MANAGEMENT   \\n\",","       \"169        6212    MANAGEMENT INFORMATION SYSTEMS AND STATISTICS   \\n\",","       \"170        6299  MISCELLANEOUS BUSINESS \u0026 MEDICAL ADMINISTRATION   \\n\",","       \"171        6402                                          HISTORY   \\n\",","       \"172        6403                            UNITED STATES HISTORY   \\n\",","       \"\\n\",","       \"                      Major_category   Total  Employed  \\\\\\n\",","       \"0    Agriculture \u0026 Natural Resources  128148     90245   \\n\",","       \"1    Agriculture \u0026 Natural Resources   95326     76865   \\n\",","       \"2    Agriculture \u0026 Natural Resources   33955     26321   \\n\",","       \"3    Agriculture \u0026 Natural Resources  103549     81177   \\n\",","       \"4    Agriculture \u0026 Natural Resources   24280     17281   \\n\",","       \"..                               ...     ...       ...   \\n\",","       \"168                         Business  200854    163393   \\n\",","       \"169                         Business  156673    134478   \\n\",","       \"170                         Business  102753     77471   \\n\",","       \"171        Humanities \u0026 Liberal Arts  712509    478416   \\n\",","       \"172        Humanities \u0026 Liberal Arts   17746     11887   \\n\",","       \"\\n\",","       \"     Employed_full_time_year_round  Unemployed  Unemployment_rate  Median  \\\\\\n\",","       \"0                            74078        2423           0.026147   50000   \\n\",","       \"1                            64240        2266           0.028636   54000   \\n\",","       \"2                            22810         821           0.030248   63000   \\n\",","       \"3                            64937        3619           0.042679   46000   \\n\",","       \"4                            12722         894           0.049188   62000   \\n\",","       \"..                             ...         ...                ...     ...   \\n\",","       \"168                         122499        8862           0.051447   49000   \\n\",","       \"169                         118249        6186           0.043977   72000   \\n\",","       \"170                          61603        4308           0.052679   53000   \\n\",","       \"171                         354163       33725           0.065851   50000   \\n\",","       \"172                           8204         943           0.073500   50000   \\n\",","       \"\\n\",","       \"     P25th     P75th  \\n\",","       \"0    34000   80000.0  \\n\",","       \"1    36000   80000.0  \\n\",","       \"2    40000   98000.0  \\n\",","       \"3    30000   72000.0  \\n\",","       \"4    38500   90000.0  \\n\",","       \"..     ...       ...  \\n\",","       \"168  33000   70000.0  \\n\",","       \"169  50000  100000.0  \\n\",","       \"170  36000   83000.0  \\n\",","       \"171  35000   80000.0  \\n\",","       \"172  39000   81000.0  \\n\",","       \"\\n\",","       \"[173 rows x 11 columns]\"","      ]","     },","     \"execution_count\": 13,","     \"metadata\": {},","     \"output_type\": \"execute_result\"","    }","   ],","   \"source\": [","    \"df\"","   ]","  },","  {","   \"cell_type\": \"code\",","   \"execution_count\": 14,","   \"metadata\": {},","   \"outputs\": [","    {","     \"name\": \"stdout\",","     \"output_type\": \"stream\",","     \"text\": [","      \"                                            Major_code  \\\\\\n\",","      \"Major                                                    \\n\",","      \"GEOLOGICAL AND GEOPHYSICAL ENGINEERING            2411   \\n\",","      \"EDUCATIONAL ADMINISTRATION AND SUPERVISION        2301   \\n\",","      \"PHARMACOLOGY                                      3607   \\n\",","      \"MATERIALS SCIENCE                                 5008   \\n\",","      \"MATHEMATICS AND COMPUTER SCIENCE                  4005   \\n\",","      \"...                                                ...   \\n\",","      \"LIBRARY SCIENCE                                   3501   \\n\",","      \"SCHOOL STUDENT COUNSELING                         2303   \\n\",","      \"MILITARY TECHNOLOGIES                             3801   \\n\",","      \"CLINICAL PSYCHOLOGY                               5202   \\n\",","      \"MISCELLANEOUS FINE ARTS                           6099   \\n\",","      \"\\n\",","      \"                                                                 Major_category  \\\\\\n\",","      \"Major                                                                             \\n\",","      \"GEOLOGICAL AND GEOPHYSICAL ENGINEERING                              Engineering   \\n\",","      \"EDUCATIONAL ADMINISTRATION AND SUPERVISION                            Education   \\n\",","      \"PHARMACOLOGY                                             Biology \u0026 Life Science   \\n\",","      \"MATERIALS SCIENCE                                                   Engineering   \\n\",","      \"MATHEMATICS AND COMPUTER SCIENCE                        Computers \u0026 Mathematics   \\n\",","      \"...                                                                         ...   \\n\",","      \"LIBRARY SCIENCE                                                       Education   \\n\",","      \"SCHOOL STUDENT COUNSELING                                             Education   \\n\",","      \"MILITARY TECHNOLOGIES                       Industrial Arts \u0026 Consumer Services   \\n\",","      \"CLINICAL PSYCHOLOGY                                    Psychology \u0026 Social Work   \\n\",","      \"MISCELLANEOUS FINE ARTS                                                    Arts   \\n\",","      \"\\n\",","      \"                                            Total  Employed  \\\\\\n\",","      \"Major                                                         \\n\",","      \"GEOLOGICAL AND GEOPHYSICAL ENGINEERING       6264      4120   \\n\",","      \"EDUCATIONAL ADMINISTRATION AND SUPERVISION   4037      3113   \\n\",","      \"PHARMACOLOGY                                 5015      3481   \\n\",","      \"MATERIALS SCIENCE                            7208      5866   \\n\",","      \"MATHEMATICS AND COMPUTER SCIENCE             7184      5874   \\n\",","      \"...                                           ...       ...   \\n\",","      \"LIBRARY SCIENCE                             16193      7091   \\n\",","      \"SCHOOL STUDENT COUNSELING                    2396      1492   \\n\",","      \"MILITARY TECHNOLOGIES                        4315      1650   \\n\",","      \"CLINICAL PSYCHOLOGY                          7638      5128   \\n\",","      \"MISCELLANEOUS FINE ARTS                      8511      6431   \\n\",","      \"\\n\",","      \"                                            Employed_full_time_year_round  \\\\\\n\",","      \"Major                                                                       \\n\",","      \"GEOLOGICAL AND GEOPHYSICAL ENGINEERING                               3350   \\n\",","      \"EDUCATIONAL ADMINISTRATION AND SUPERVISION                           2468   \\n\",","      \"PHARMACOLOGY                                                         2579   \\n\",","      \"MATERIALS SCIENCE                                                    4505   \\n\",","      \"MATHEMATICS AND COMPUTER SCIENCE                                     5039   \\n\",","      \"...                                                                   ...   \\n\",","      \"LIBRARY SCIENCE                                                      4330   \\n\",","      \"SCHOOL STUDENT COUNSELING                                            1093   \\n\",","      \"MILITARY TECHNOLOGIES                                                1708   \\n\",","      \"CLINICAL PSYCHOLOGY                                                  3297   \\n\",","      \"MISCELLANEOUS FINE ARTS                                              3802   \\n\",","      \"\\n\",","      \"                                            Unemployed  Unemployment_rate  \\\\\\n\",","      \"Major                                                                       \\n\",","      \"GEOLOGICAL AND GEOPHYSICAL ENGINEERING               0           0.000000   \\n\",","      \"EDUCATIONAL ADMINISTRATION AND SUPERVISION           0           0.000000   \\n\",","      \"PHARMACOLOGY                                        57           0.016111   \\n\",","      \"MATERIALS SCIENCE                                  134           0.022333   \\n\",","      \"MATHEMATICS AND COMPUTER SCIENCE                   150           0.024900   \\n\",","      \"...                                                ...                ...   \\n\",","      \"LIBRARY SCIENCE                                    743           0.094843   \\n\",","      \"SCHOOL STUDENT COUNSELING                          169           0.101746   \\n\",","      \"MILITARY TECHNOLOGIES                              187           0.101796   \\n\",","      \"CLINICAL PSYCHOLOGY                                587           0.102712   \\n\",","      \"MISCELLANEOUS FINE ARTS                           1190           0.156147   \\n\",","      \"\\n\",","      \"                                            Median  P25th     P75th  \\n\",","      \"Major                                                                \\n\",","      \"GEOLOGICAL AND GEOPHYSICAL ENGINEERING       85000  55000  125000.0  \\n\",","      \"EDUCATIONAL ADMINISTRATION AND SUPERVISION   58000  44750   79000.0  \\n\",","      \"PHARMACOLOGY                                 60000  35000  105000.0  \\n\",","      \"MATERIALS SCIENCE                            75000  60000  100000.0  \\n\",","      \"MATHEMATICS AND COMPUTER SCIENCE             92000  53000  136000.0  \\n\",","      \"...                                            ...    ...       ...  \\n\",","      \"LIBRARY SCIENCE                              40000  30000   55000.0  \\n\",","      \"SCHOOL STUDENT COUNSELING                    41000  33200   50000.0  \\n\",","      \"MILITARY TECHNOLOGIES                        64000  39750   90000.0  \\n\",","      \"CLINICAL PSYCHOLOGY                          45000  26100   62000.0  \\n\",","      \"MISCELLANEOUS FINE ARTS                      45000  30000   60000.0  \\n\",","      \"\\n\",","      \"[173 rows x 10 columns]\\n\"","     ]","    }","   ],","   \"source\": [","    \"# 按照专业分组，并把失业率从低到高升序排列\\n\",","    \"result = df.groupby([\\\"Major\\\"]).sum().sort_values([\\\"Unemployment_rate\\\"])\\n\",","    \"print(result)\"","   ]","  },","  {","   \"cell_type\": \"code\",","   \"execution_count\": 20,","   \"metadata\": {},","   \"outputs\": [","    {","     \"data\": {","      \"text/html\": [","       \"\u003cdiv\u003e\\n\",","       \"\u003cstyle scoped\u003e\\n\",","       \"    .dataframe tbody tr th:only-of-type {\\n\",","       \"        vertical-align: middle;\\n\",","       \"    }\\n\",","       \"\\n\",","       \"    .dataframe tbody tr th {\\n\",","       \"        vertical-align: top;\\n\",","       \"    }\\n\",","       \"\\n\",","       \"    .dataframe thead th {\\n\",","       \"        text-align: right;\\n\",","       \"    }\\n\",","       \"\u003c/style\u003e\\n\",","       \"\u003ctable border=\\\"1\\\" class=\\\"dataframe\\\"\u003e\\n\",","       \"  \u003cthead\u003e\\n\",","       \"    \u003ctr style=\\\"text-align: right;\\\"\u003e\\n\",","       \"      \u003cth\u003e\u003c/th\u003e\\n\",","       \"      \u003cth\u003eRank\u003c/th\u003e\\n\",","       \"      \u003cth\u003eMajor_code\u003c/th\u003e\\n\",","       \"      \u003cth\u003eMajor\u003c/th\u003e\\n\",","       \"      \u003cth\u003eTotal\u003c/th\u003e\\n\",","       \"      \u003cth\u003eMen\u003c/th\u003e\\n\",","       \"      \u003cth\u003eWomen\u003c/th\u003e\\n\",","       \"      \u003cth\u003eMajor_category\u003c/th\u003e\\n\",","       \"      \u003cth\u003eShareWomen\u003c/th\u003e\\n\",","       \"      \u003cth\u003eSample_size\u003c/th\u003e\\n\",","       \"      \u003cth\u003eEmployed\u003c/th\u003e\\n\",","       \"      \u003cth\u003e...\u003c/th\u003e\\n\",","       \"      \u003cth\u003ePart_time\u003c/th\u003e\\n\",","       \"      \u003cth\u003eFull_time_year_round\u003c/th\u003e\\n\",","       \"      \u003cth\u003eUnemployed\u003c/th\u003e\\n\",","       \"      \u003cth\u003eUnemployment_rate\u003c/th\u003e\\n\",","       \"      \u003cth\u003eMedian\u003c/th\u003e\\n\",","       \"      \u003cth\u003eP25th\u003c/th\u003e\\n\",","       \"      \u003cth\u003eP75th\u003c/th\u003e\\n\",","       \"      \u003cth\u003eCollege_jobs\u003c/th\u003e\\n\",","       \"      \u003cth\u003eNon_college_jobs\u003c/th\u003e\\n\",","       \"      \u003cth\u003eLow_wage_jobs\u003c/th\u003e\\n\",","       \"    \u003c/tr\u003e\\n\",","       \"  \u003c/thead\u003e\\n\",","       \"  \u003ctbody\u003e\\n\",","       \"    \u003ctr\u003e\\n\",","       \"      \u003cth\u003e0\u003c/th\u003e\\n\",","       \"      \u003ctd\u003e1\u003c/td\u003e\\n\",","       \"      \u003ctd\u003e2419\u003c/td\u003e\\n\",","       \"      \u003ctd\u003ePETROLEUM ENGINEERING\u003c/td\u003e\\n\",","       \"      \u003ctd\u003e2339.0\u003c/td\u003e\\n\",","       \"      \u003ctd\u003e2057.0\u003c/td\u003e\\n\",","       \"      \u003ctd\u003e282.0\u003c/td\u003e\\n\",","       \"      \u003ctd\u003eEngineering\u003c/td\u003e\\n\",","       \"      \u003ctd\u003e0.120564\u003c/td\u003e\\n\",","       \"      \u003ctd\u003e36\u003c/td\u003e\\n\",","       \"      \u003ctd\u003e1976\u003c/td\u003e\\n\",","       \"      \u003ctd\u003e...\u003c/td\u003e\\n\",","       \"      \u003ctd\u003e270\u003c/td\u003e\\n\",","       \"      \u003ctd\u003e1207\u003c/td\u003e\\n\",","       \"      \u003ctd\u003e37\u003c/td\u003e\\n\",","       \"      \u003ctd\u003e0.018381\u003c/td\u003e\\n\",","       \"      \u003ctd\u003e110000\u003c/td\u003e\\n\",","       \"      \u003ctd\u003e95000\u003c/td\u003e\\n\",","       \"      \u003ctd\u003e125000\u003c/td\u003e\\n\",","       \"      \u003ctd\u003e1534\u003c/td\u003e\\n\",","       \"      \u003ctd\u003e364\u003c/td\u003e\\n\",","       \"      \u003ctd\u003e193\u003c/td\u003e\\n\",","       \"    \u003c/tr\u003e\\n\",","       \"    \u003ctr\u003e\\n\",","       \"      \u003cth\u003e1\u003c/th\u003e\\n\",","       \"      \u003ctd\u003e2\u003c/td\u003e\\n\",","       \"      \u003ctd\u003e2416\u003c/td\u003e\\n\",","       \"      \u003ctd\u003eMINING AND MINERAL ENGINEERING\u003c/td\u003e\\n\",","       \"      \u003ctd\u003e756.0\u003c/td\u003e\\n\",","       \"      \u003ctd\u003e679.0\u003c/td\u003e\\n\",","       \"      \u003ctd\u003e77.0\u003c/td\u003e\\n\",","       \"      \u003ctd\u003eEngineering\u003c/td\u003e\\n\",","       \"      \u003ctd\u003e0.101852\u003c/td\u003e\\n\",","       \"      \u003ctd\u003e7\u003c/td\u003e\\n\",","       \"      \u003ctd\u003e640\u003c/td\u003e\\n\",","       \"      \u003ctd\u003e...\u003c/td\u003e\\n\",","       \"      \u003ctd\u003e170\u003c/td\u003e\\n\",","       \"      \u003ctd\u003e388\u003c/td\u003e\\n\",","       \"      \u003ctd\u003e85\u003c/td\u003e\\n\",","       \"      \u003ctd\u003e0.117241\u003c/td\u003e\\n\",","       \"      \u003ctd\u003e75000\u003c/td\u003e\\n\",","       \"      \u003ctd\u003e55000\u003c/td\u003e\\n\",","       \"      \u003ctd\u003e90000\u003c/td\u003e\\n\",","       \"      \u003ctd\u003e350\u003c/td\u003e\\n\",","       \"      \u003ctd\u003e257\u003c/td\u003e\\n\",","       \"      \u003ctd\u003e50\u003c/td\u003e\\n\",","       \"    \u003c/tr\u003e\\n\",","       \"    \u003ctr\u003e\\n\",","       \"      \u003cth\u003e2\u003c/th\u003e\\n\",","       \"      \u003ctd\u003e3\u003c/td\u003e\\n\",","       \"      \u003ctd\u003e2415\u003c/td\u003e\\n\",","       \"      \u003ctd\u003eMETALLURGICAL ENGINEERING\u003c/td\u003e\\n\",","       \"      \u003ctd\u003e856.0\u003c/td\u003e\\n\",","       \"      \u003ctd\u003e725.0\u003c/td\u003e\\n\",","       \"      \u003ctd\u003e131.0\u003c/td\u003e\\n\",","       \"      \u003ctd\u003eEngineering\u003c/td\u003e\\n\",","       \"      \u003ctd\u003e0.153037\u003c/td\u003e\\n\",","       \"      \u003ctd\u003e3\u003c/td\u003e\\n\",","       \"      \u003ctd\u003e648\u003c/td\u003e\\n\",","       \"      \u003ctd\u003e...\u003c/td\u003e\\n\",","       \"      \u003ctd\u003e133\u003c/td\u003e\\n\",","       \"      \u003ctd\u003e340\u003c/td\u003e\\n\",","       \"      \u003ctd\u003e16\u003c/td\u003e\\n\",","       \"      \u003ctd\u003e0.024096\u003c/td\u003e\\n\",","       \"      \u003ctd\u003e73000\u003c/td\u003e\\n\",","       \"      \u003ctd\u003e50000\u003c/td\u003e\\n\",","       \"      \u003ctd\u003e105000\u003c/td\u003e\\n\",","       \"      \u003ctd\u003e456\u003c/td\u003e\\n\",","       \"      \u003ctd\u003e176\u003c/td\u003e\\n\",","       \"      \u003ctd\u003e0\u003c/td\u003e\\n\",","       \"    \u003c/tr\u003e\\n\",","       \"    \u003ctr\u003e\\n\",","       \"      \u003cth\u003e3\u003c/th\u003e\\n\",","       \"      \u003ctd\u003e4\u003c/td\u003e\\n\",","       \"      \u003ctd\u003e2417\u003c/td\u003e\\n\",","       \"      \u003ctd\u003eNAVAL ARCHITECTURE AND MARINE ENGINEERING\u003c/td\u003e\\n\",","       \"      \u003ctd\u003e1258.0\u003c/td\u003e\\n\",","       \"      \u003ctd\u003e1123.0\u003c/td\u003e\\n\",","       \"      \u003ctd\u003e135.0\u003c/td\u003e\\n\",","       \"      \u003ctd\u003eEngineering\u003c/td\u003e\\n\",","       \"      \u003ctd\u003e0.107313\u003c/td\u003e\\n\",","       \"      \u003ctd\u003e16\u003c/td\u003e\\n\",","       \"      \u003ctd\u003e758\u003c/td\u003e\\n\",","       \"      \u003ctd\u003e...\u003c/td\u003e\\n\",","       \"      \u003ctd\u003e150\u003c/td\u003e\\n\",","       \"      \u003ctd\u003e692\u003c/td\u003e\\n\",","       \"      \u003ctd\u003e40\u003c/td\u003e\\n\",","       \"      \u003ctd\u003e0.050125\u003c/td\u003e\\n\",","       \"      \u003ctd\u003e70000\u003c/td\u003e\\n\",","       \"      \u003ctd\u003e43000\u003c/td\u003e\\n\",","       \"      \u003ctd\u003e80000\u003c/td\u003e\\n\",","       \"      \u003ctd\u003e529\u003c/td\u003e\\n\",","       \"      \u003ctd\u003e102\u003c/td\u003e\\n\",","       \"      \u003ctd\u003e0\u003c/td\u003e\\n\",","       \"    \u003c/tr\u003e\\n\",","       \"    \u003ctr\u003e\\n\",","       \"      \u003cth\u003e4\u003c/th\u003e\\n\",","       \"      \u003ctd\u003e5\u003c/td\u003e\\n\",","       \"      \u003ctd\u003e2405\u003c/td\u003e\\n\",","       \"      \u003ctd\u003eCHEMICAL ENGINEERING\u003c/td\u003e\\n\",","       \"      \u003ctd\u003e32260.0\u003c/td\u003e\\n\",","       \"      \u003ctd\u003e21239.0\u003c/td\u003e\\n\",","       \"      \u003ctd\u003e11021.0\u003c/td\u003e\\n\",","       \"      \u003ctd\u003eEngineering\u003c/td\u003e\\n\",","       \"      \u003ctd\u003e0.341631\u003c/td\u003e\\n\",","       \"      \u003ctd\u003e289\u003c/td\u003e\\n\",","       \"      \u003ctd\u003e25694\u003c/td\u003e\\n\",","       \"      \u003ctd\u003e...\u003c/td\u003e\\n\",","       \"      \u003ctd\u003e5180\u003c/td\u003e\\n\",","       \"      \u003ctd\u003e16697\u003c/td\u003e\\n\",","       \"      \u003ctd\u003e1672\u003c/td\u003e\\n\",","       \"      \u003ctd\u003e0.061098\u003c/td\u003e\\n\",","       \"      \u003ctd\u003e65000\u003c/td\u003e\\n\",","       \"      \u003ctd\u003e50000\u003c/td\u003e\\n\",","       \"      \u003ctd\u003e75000\u003c/td\u003e\\n\",","       \"      \u003ctd\u003e18314\u003c/td\u003e\\n\",","       \"      \u003ctd\u003e4440\u003c/td\u003e\\n\",","       \"      \u003ctd\u003e972\u003c/td\u003e\\n\",","       \"    \u003c/tr\u003e\\n\",","       \"    \u003ctr\u003e\\n\",","       \"      \u003cth\u003e...\u003c/th\u003e\\n\",","       \"      \u003ctd\u003e...\u003c/td\u003e\\n\",","       \"      \u003ctd\u003e...\u003c/td\u003e\\n\",","       \"      \u003ctd\u003e...\u003c/td\u003e\\n\",","       \"      \u003ctd\u003e...\u003c/td\u003e\\n\",","       \"      \u003ctd\u003e...\u003c/td\u003e\\n\",","       \"      \u003ctd\u003e...\u003c/td\u003e\\n\",","       \"      \u003ctd\u003e...\u003c/td\u003e\\n\",","       \"      \u003ctd\u003e...\u003c/td\u003e\\n\",","       \"      \u003ctd\u003e...\u003c/td\u003e\\n\",","       \"      \u003ctd\u003e...\u003c/td\u003e\\n\",","       \"      \u003ctd\u003e...\u003c/td\u003e\\n\",","       \"      \u003ctd\u003e...\u003c/td\u003e\\n\",","       \"      \u003ctd\u003e...\u003c/td\u003e\\n\",","       \"      \u003ctd\u003e...\u003c/td\u003e\\n\",","       \"      \u003ctd\u003e...\u003c/td\u003e\\n\",","       \"      \u003ctd\u003e...\u003c/td\u003e\\n\",","       \"      \u003ctd\u003e...\u003c/td\u003e\\n\",","       \"      \u003ctd\u003e...\u003c/td\u003e\\n\",","       \"      \u003ctd\u003e...\u003c/td\u003e\\n\",","       \"      \u003ctd\u003e...\u003c/td\u003e\\n\",","       \"      \u003ctd\u003e...\u003c/td\u003e\\n\",","       \"    \u003c/tr\u003e\\n\",","       \"    \u003ctr\u003e\\n\",","       \"      \u003cth\u003e168\u003c/th\u003e\\n\",","       \"      \u003ctd\u003e169\u003c/td\u003e\\n\",","       \"      \u003ctd\u003e3609\u003c/td\u003e\\n\",","       \"      \u003ctd\u003eZOOLOGY\u003c/td\u003e\\n\",","       \"      \u003ctd\u003e8409.0\u003c/td\u003e\\n\",","       \"      \u003ctd\u003e3050.0\u003c/td\u003e\\n\",","       \"      \u003ctd\u003e5359.0\u003c/td\u003e\\n\",","       \"      \u003ctd\u003eBiology \u0026amp; Life Science\u003c/td\u003e\\n\",","       \"      \u003ctd\u003e0.637293\u003c/td\u003e\\n\",","       \"      \u003ctd\u003e47\u003c/td\u003e\\n\",","       \"      \u003ctd\u003e6259\u003c/td\u003e\\n\",","       \"      \u003ctd\u003e...\u003c/td\u003e\\n\",","       \"      \u003ctd\u003e2190\u003c/td\u003e\\n\",","       \"      \u003ctd\u003e3602\u003c/td\u003e\\n\",","       \"      \u003ctd\u003e304\u003c/td\u003e\\n\",","       \"      \u003ctd\u003e0.046320\u003c/td\u003e\\n\",","       \"      \u003ctd\u003e26000\u003c/td\u003e\\n\",","       \"      \u003ctd\u003e20000\u003c/td\u003e\\n\",","       \"      \u003ctd\u003e39000\u003c/td\u003e\\n\",","       \"      \u003ctd\u003e2771\u003c/td\u003e\\n\",","       \"      \u003ctd\u003e2947\u003c/td\u003e\\n\",","       \"      \u003ctd\u003e743\u003c/td\u003e\\n\",","       \"    \u003c/tr\u003e\\n\",","       \"    \u003ctr\u003e\\n\",","       \"      \u003cth\u003e169\u003c/th\u003e\\n\",","       \"      \u003ctd\u003e170\u003c/td\u003e\\n\",","       \"      \u003ctd\u003e5201\u003c/td\u003e\\n\",","       \"      \u003ctd\u003eEDUCATIONAL PSYCHOLOGY\u003c/td\u003e\\n\",","       \"      \u003ctd\u003e2854.0\u003c/td\u003e\\n\",","       \"      \u003ctd\u003e522.0\u003c/td\u003e\\n\",","       \"      \u003ctd\u003e2332.0\u003c/td\u003e\\n\",","       \"      \u003ctd\u003ePsychology \u0026amp; Social Work\u003c/td\u003e\\n\",","       \"      \u003ctd\u003e0.817099\u003c/td\u003e\\n\",","       \"      \u003ctd\u003e7\u003c/td\u003e\\n\",","       \"      \u003ctd\u003e2125\u003c/td\u003e\\n\",","       \"      \u003ctd\u003e...\u003c/td\u003e\\n\",","       \"      \u003ctd\u003e572\u003c/td\u003e\\n\",","       \"      \u003ctd\u003e1211\u003c/td\u003e\\n\",","       \"      \u003ctd\u003e148\u003c/td\u003e\\n\",","       \"      \u003ctd\u003e0.065112\u003c/td\u003e\\n\",","       \"      \u003ctd\u003e25000\u003c/td\u003e\\n\",","       \"      \u003ctd\u003e24000\u003c/td\u003e\\n\",","       \"      \u003ctd\u003e34000\u003c/td\u003e\\n\",","       \"      \u003ctd\u003e1488\u003c/td\u003e\\n\",","       \"      \u003ctd\u003e615\u003c/td\u003e\\n\",","       \"      \u003ctd\u003e82\u003c/td\u003e\\n\",","       \"    \u003c/tr\u003e\\n\",","       \"    \u003ctr\u003e\\n\",","       \"      \u003cth\u003e170\u003c/th\u003e\\n\",","       \"      \u003ctd\u003e171\u003c/td\u003e\\n\",","       \"      \u003ctd\u003e5202\u003c/td\u003e\\n\",","       \"      \u003ctd\u003eCLINICAL PSYCHOLOGY\u003c/td\u003e\\n\",","       \"      \u003ctd\u003e2838.0\u003c/td\u003e\\n\",","       \"      \u003ctd\u003e568.0\u003c/td\u003e\\n\",","       \"      \u003ctd\u003e2270.0\u003c/td\u003e\\n\",","       \"      \u003ctd\u003ePsychology \u0026amp; Social Work\u003c/td\u003e\\n\",","       \"      \u003ctd\u003e0.799859\u003c/td\u003e\\n\",","       \"      \u003ctd\u003e13\u003c/td\u003e\\n\",","       \"      \u003ctd\u003e2101\u003c/td\u003e\\n\",","       \"      \u003ctd\u003e...\u003c/td\u003e\\n\",","       \"      \u003ctd\u003e648\u003c/td\u003e\\n\",","       \"      \u003ctd\u003e1293\u003c/td\u003e\\n\",","       \"      \u003ctd\u003e368\u003c/td\u003e\\n\",","       \"      \u003ctd\u003e0.149048\u003c/td\u003e\\n\",","       \"      \u003ctd\u003e25000\u003c/td\u003e\\n\",","       \"      \u003ctd\u003e25000\u003c/td\u003e\\n\",","       \"      \u003ctd\u003e40000\u003c/td\u003e\\n\",","       \"      \u003ctd\u003e986\u003c/td\u003e\\n\",","       \"      \u003ctd\u003e870\u003c/td\u003e\\n\",","       \"      \u003ctd\u003e622\u003c/td\u003e\\n\",","       \"    \u003c/tr\u003e\\n\",","       \"    \u003ctr\u003e\\n\",","       \"      \u003cth\u003e171\u003c/th\u003e\\n\",","       \"      \u003ctd\u003e172\u003c/td\u003e\\n\",","       \"      \u003ctd\u003e5203\u003c/td\u003e\\n\",","       \"      \u003ctd\u003eCOUNSELING PSYCHOLOGY\u003c/td\u003e\\n\",","       \"      \u003ctd\u003e4626.0\u003c/td\u003e\\n\",","       \"      \u003ctd\u003e931.0\u003c/td\u003e\\n\",","       \"      \u003ctd\u003e3695.0\u003c/td\u003e\\n\",","       \"      \u003ctd\u003ePsychology \u0026amp; Social Work\u003c/td\u003e\\n\",","       \"      \u003ctd\u003e0.798746\u003c/td\u003e\\n\",","       \"      \u003ctd\u003e21\u003c/td\u003e\\n\",","       \"      \u003ctd\u003e3777\u003c/td\u003e\\n\",","       \"      \u003ctd\u003e...\u003c/td\u003e\\n\",","       \"      \u003ctd\u003e965\u003c/td\u003e\\n\",","       \"      \u003ctd\u003e2738\u003c/td\u003e\\n\",","       \"      \u003ctd\u003e214\u003c/td\u003e\\n\",","       \"      \u003ctd\u003e0.053621\u003c/td\u003e\\n\",","       \"      \u003ctd\u003e23400\u003c/td\u003e\\n\",","       \"      \u003ctd\u003e19200\u003c/td\u003e\\n\",","       \"      \u003ctd\u003e26000\u003c/td\u003e\\n\",","       \"      \u003ctd\u003e2403\u003c/td\u003e\\n\",","       \"      \u003ctd\u003e1245\u003c/td\u003e\\n\",","       \"      \u003ctd\u003e308\u003c/td\u003e\\n\",","       \"    \u003c/tr\u003e\\n\",","       \"    \u003ctr\u003e\\n\",","       \"      \u003cth\u003e172\u003c/th\u003e\\n\",","       \"      \u003ctd\u003e173\u003c/td\u003e\\n\",","       \"      \u003ctd\u003e3501\u003c/td\u003e\\n\",","       \"      \u003ctd\u003eLIBRARY SCIENCE\u003c/td\u003e\\n\",","       \"      \u003ctd\u003e1098.0\u003c/td\u003e\\n\",","       \"      \u003ctd\u003e134.0\u003c/td\u003e\\n\",","       \"      \u003ctd\u003e964.0\u003c/td\u003e\\n\",","       \"      \u003ctd\u003eEducation\u003c/td\u003e\\n\",","       \"      \u003ctd\u003e0.877960\u003c/td\u003e\\n\",","       \"      \u003ctd\u003e2\u003c/td\u003e\\n\",","       \"      \u003ctd\u003e742\u003c/td\u003e\\n\",","       \"      \u003ctd\u003e...\u003c/td\u003e\\n\",","       \"      \u003ctd\u003e237\u003c/td\u003e\\n\",","       \"      \u003ctd\u003e410\u003c/td\u003e\\n\",","       \"      \u003ctd\u003e87\u003c/td\u003e\\n\",","       \"      \u003ctd\u003e0.104946\u003c/td\u003e\\n\",","       \"      \u003ctd\u003e22000\u003c/td\u003e\\n\",","       \"      \u003ctd\u003e20000\u003c/td\u003e\\n\",","       \"      \u003ctd\u003e22000\u003c/td\u003e\\n\",","       \"      \u003ctd\u003e288\u003c/td\u003e\\n\",","       \"      \u003ctd\u003e338\u003c/td\u003e\\n\",","       \"      \u003ctd\u003e192\u003c/td\u003e\\n\",","       \"    \u003c/tr\u003e\\n\",","       \"  \u003c/tbody\u003e\\n\",","       \"\u003c/table\u003e\\n\",","       \"\u003cp\u003e173 rows × 21 columns\u003c/p\u003e\\n\",","       \"\u003c/div\u003e\"","      ],","      \"text/plain\": [","       \"     Rank  Major_code                                      Major    Total  \\\\\\n\",","       \"0       1        2419                      PETROLEUM ENGINEERING   2339.0   \\n\",","       \"1       2        2416             MINING AND MINERAL ENGINEERING    756.0   \\n\",","       \"2       3        2415                  METALLURGICAL ENGINEERING    856.0   \\n\",","       \"3       4        2417  NAVAL ARCHITECTURE AND MARINE ENGINEERING   1258.0   \\n\",","       \"4       5        2405                       CHEMICAL ENGINEERING  32260.0   \\n\",","       \"..    ...         ...                                        ...      ...   \\n\",","       \"168   169        3609                                    ZOOLOGY   8409.0   \\n\",","       \"169   170        5201                     EDUCATIONAL PSYCHOLOGY   2854.0   \\n\",","       \"170   171        5202                        CLINICAL PSYCHOLOGY   2838.0   \\n\",","       \"171   172        5203                      COUNSELING PSYCHOLOGY   4626.0   \\n\",","       \"172   173        3501                            LIBRARY SCIENCE   1098.0   \\n\",","       \"\\n\",","       \"         Men    Women            Major_category  ShareWomen  Sample_size  \\\\\\n\",","       \"0     2057.0    282.0               Engineering    0.120564           36   \\n\",","       \"1      679.0     77.0               Engineering    0.101852            7   \\n\",","       \"2      725.0    131.0               Engineering    0.153037            3   \\n\",","       \"3     1123.0    135.0               Engineering    0.107313           16   \\n\",","       \"4    21239.0  11021.0               Engineering    0.341631          289   \\n\",","       \"..       ...      ...                       ...         ...          ...   \\n\",","       \"168   3050.0   5359.0    Biology \u0026 Life Science    0.637293           47   \\n\",","       \"169    522.0   2332.0  Psychology \u0026 Social Work    0.817099            7   \\n\",","       \"170    568.0   2270.0  Psychology \u0026 Social Work    0.799859           13   \\n\",","       \"171    931.0   3695.0  Psychology \u0026 Social Work    0.798746           21   \\n\",","       \"172    134.0    964.0                 Education    0.877960            2   \\n\",","       \"\\n\",","       \"     Employed  ...  Part_time  Full_time_year_round  Unemployed  \\\\\\n\",","       \"0        1976  ...        270                  1207          37   \\n\",","       \"1         640  ...        170                   388          85   \\n\",","       \"2         648  ...        133                   340          16   \\n\",","       \"3         758  ...        150                   692          40   \\n\",","       \"4       25694  ...       5180                 16697        1672   \\n\",","       \"..        ...  ...        ...                   ...         ...   \\n\",","       \"168      6259  ...       2190                  3602         304   \\n\",","       \"169      2125  ...        572                  1211         148   \\n\",","       \"170      2101  ...        648                  1293         368   \\n\",","       \"171      3777  ...        965                  2738         214   \\n\",","       \"172       742  ...        237                   410          87   \\n\",","       \"\\n\",","       \"     Unemployment_rate  Median  P25th   P75th  College_jobs  Non_college_jobs  \\\\\\n\",","       \"0             0.018381  110000  95000  125000          1534               364   \\n\",","       \"1             0.117241   75000  55000   90000           350               257   \\n\",","       \"2             0.024096   73000  50000  105000           456               176   \\n\",","       \"3             0.050125   70000  43000   80000           529               102   \\n\",","       \"4             0.061098   65000  50000   75000         18314              4440   \\n\",","       \"..                 ...     ...    ...     ...           ...               ...   \\n\",","       \"168           0.046320   26000  20000   39000          2771              2947   \\n\",","       \"169           0.065112   25000  24000   34000          1488               615   \\n\",","       \"170           0.149048   25000  25000   40000           986               870   \\n\",","       \"171           0.053621   23400  19200   26000          2403              1245   \\n\",","       \"172           0.104946   22000  20000   22000           288               338   \\n\",","       \"\\n\",","       \"     Low_wage_jobs  \\n\",","       \"0              193  \\n\",","       \"1               50  \\n\",","       \"2                0  \\n\",","       \"3                0  \\n\",","       \"4              972  \\n\",","       \"..             ...  \\n\",","       \"168            743  \\n\",","       \"169             82  \\n\",","       \"170            622  \\n\",","       \"171            308  \\n\",","       \"172            192  \\n\",","       \"\\n\",","       \"[173 rows x 21 columns]\"","      ]","     },","     \"execution_count\": 20,","     \"metadata\": {},","     \"output_type\": \"execute_result\"","    }","   ],","   \"source\": [","    \"import pandas as pd\\n\",","    \"df = pd.read_csv('recent-grads.csv')\\n\",","    \"df\"","   ]","  },","  {","   \"cell_type\": \"code\",","   \"execution_count\": 21,","   \"metadata\": {},","   \"outputs\": [","    {","     \"name\": \"stdout\",","     \"output_type\": \"stream\",","     \"text\": [","      \"                                               Rank  Major_code     Total  \\\\\\n\",","      \"Major                                                                       \\n\",","      \"EARLY CHILDHOOD EDUCATION                       165        2307   37589.0   \\n\",","      \"COMMUNICATION DISORDERS SCIENCES AND SERVICES   164        6102   38279.0   \\n\",","      \"MEDICAL ASSISTING SERVICES                       52        6104   11123.0   \\n\",","      \"ELEMENTARY EDUCATION                            139        2304  170862.0   \\n\",","      \"FAMILY AND CONSUMER SCIENCES                    151        2901   58001.0   \\n\",","      \"...                                             ...         ...       ...   \\n\",","      \"MINING AND MINERAL ENGINEERING                    2        2416     756.0   \\n\",","      \"CONSTRUCTION SERVICES                            27        5601   18498.0   \\n\",","      \"MECHANICAL ENGINEERING RELATED TECHNOLOGIES      67        2504    4790.0   \\n\",","      \"MILITARY TECHNOLOGIES                            74        3801     124.0   \\n\",","      \"FOOD SCIENCE                                     22        1104       0.0   \\n\",","      \"\\n\",","      \"                                                   Men     Women  \\\\\\n\",","      \"Major                                                              \\n\",","      \"EARLY CHILDHOOD EDUCATION                       1167.0   36422.0   \\n\",","      \"COMMUNICATION DISORDERS SCIENCES AND SERVICES   1225.0   37054.0   \\n\",","      \"MEDICAL ASSISTING SERVICES                       803.0   10320.0   \\n\",","      \"ELEMENTARY EDUCATION                           13029.0  157833.0   \\n\",","      \"FAMILY AND CONSUMER SCIENCES                    5166.0   52835.0   \\n\",","      \"...                                                ...       ...   \\n\",","      \"MINING AND MINERAL ENGINEERING                   679.0      77.0   \\n\",","      \"CONSTRUCTION SERVICES                          16820.0    1678.0   \\n\",","      \"MECHANICAL ENGINEERING RELATED TECHNOLOGIES     4419.0     371.0   \\n\",","      \"MILITARY TECHNOLOGIES                            124.0       0.0   \\n\",","      \"FOOD SCIENCE                                       0.0       0.0   \\n\",","      \"\\n\",","      \"                                                                    Major_category  \\\\\\n\",","      \"Major                                                                                \\n\",","      \"EARLY CHILDHOOD EDUCATION                                                Education   \\n\",","      \"COMMUNICATION DISORDERS SCIENCES AND SERVICES                               Health   \\n\",","      \"MEDICAL ASSISTING SERVICES                                                  Health   \\n\",","      \"ELEMENTARY EDUCATION                                                     Education   \\n\",","      \"FAMILY AND CONSUMER SCIENCES                   Industrial Arts \u0026 Consumer Services   \\n\",","      \"...                                                                            ...   \\n\",","      \"MINING AND MINERAL ENGINEERING                                         Engineering   \\n\",","      \"CONSTRUCTION SERVICES                          Industrial Arts \u0026 Consumer Services   \\n\",","      \"MECHANICAL ENGINEERING RELATED TECHNOLOGIES                            Engineering   \\n\",","      \"MILITARY TECHNOLOGIES                          Industrial Arts \u0026 Consumer Services   \\n\",","      \"FOOD SCIENCE                                       Agriculture \u0026 Natural Resources   \\n\",","      \"\\n\",","      \"                                               ShareWomen  Sample_size  \\\\\\n\",","      \"Major                                                                    \\n\",","      \"EARLY CHILDHOOD EDUCATION                        0.968954          342   \\n\",","      \"COMMUNICATION DISORDERS SCIENCES AND SERVICES    0.967998           95   \\n\",","      \"MEDICAL ASSISTING SERVICES                       0.927807           67   \\n\",","      \"ELEMENTARY EDUCATION                             0.923745         1629   \\n\",","      \"FAMILY AND CONSUMER SCIENCES                     0.910933          518   \\n\",","      \"...                                                   ...          ...   \\n\",","      \"MINING AND MINERAL ENGINEERING                   0.101852            7   \\n\",","      \"CONSTRUCTION SERVICES                            0.090713          295   \\n\",","      \"MECHANICAL ENGINEERING RELATED TECHNOLOGIES      0.077453           71   \\n\",","      \"MILITARY TECHNOLOGIES                            0.000000            4   \\n\",","      \"FOOD SCIENCE                                     0.000000           36   \\n\",","      \"\\n\",","      \"                                               Employed  Full_time  Part_time  \\\\\\n\",","      \"Major                                                                           \\n\",","      \"EARLY CHILDHOOD EDUCATION                         32551      27569       7001   \\n\",","      \"COMMUNICATION DISORDERS SCIENCES AND SERVICES     29763      19975      13862   \\n\",","      \"MEDICAL ASSISTING SERVICES                         9168       5643       4107   \\n\",","      \"ELEMENTARY EDUCATION                             149339     123177      37965   \\n\",","      \"FAMILY AND CONSUMER SCIENCES                      46624      36747      15872   \\n\",","      \"...                                                 ...        ...        ...   \\n\",","      \"MINING AND MINERAL ENGINEERING                      640        556        170   \\n\",","      \"CONSTRUCTION SERVICES                             16318      15690       1751   \\n\",","      \"MECHANICAL ENGINEERING RELATED TECHNOLOGIES        4186       4175        247   \\n\",","      \"MILITARY TECHNOLOGIES                                 0        111          0   \\n\",","      \"FOOD SCIENCE                                       3149       2558       1121   \\n\",","      \"\\n\",","      \"                                               Full_time_year_round  \\\\\\n\",","      \"Major                                                                 \\n\",","      \"EARLY CHILDHOOD EDUCATION                                     20748   \\n\",","      \"COMMUNICATION DISORDERS SCIENCES AND SERVICES                 14460   \\n\",","      \"MEDICAL ASSISTING SERVICES                                     4290   \\n\",","      \"ELEMENTARY EDUCATION                                          86540   \\n\",","      \"FAMILY AND CONSUMER SCIENCES                                  26906   \\n\",","      \"...                                                             ...   \\n\",","      \"MINING AND MINERAL ENGINEERING                                  388   \\n\",","      \"CONSTRUCTION SERVICES                                         12313   \\n\",","      \"MECHANICAL ENGINEERING RELATED TECHNOLOGIES                    3607   \\n\",","      \"MILITARY TECHNOLOGIES                                           111   \\n\",","      \"FOOD SCIENCE                                                   1735   \\n\",","      \"\\n\",","      \"                                               Unemployed  Unemployment_rate  \\\\\\n\",","      \"Major                                                                          \\n\",","      \"EARLY CHILDHOOD EDUCATION                            1360           0.040105   \\n\",","      \"COMMUNICATION DISORDERS SCIENCES AND SERVICES        1487           0.047584   \\n\",","      \"MEDICAL ASSISTING SERVICES                            407           0.042507   \\n\",","      \"ELEMENTARY EDUCATION                                 7297           0.046586   \\n\",","      \"FAMILY AND CONSUMER SCIENCES                         3355           0.067128   \\n\",","      \"...                                                   ...                ...   \\n\",","      \"MINING AND MINERAL ENGINEERING                         85           0.117241   \\n\",","      \"CONSTRUCTION SERVICES                                1042           0.060023   \\n\",","      \"MECHANICAL ENGINEERING RELATED TECHNOLOGIES           250           0.056357   \\n\",","      \"MILITARY TECHNOLOGIES                                   0           0.000000   \\n\",","      \"FOOD SCIENCE                                          338           0.096931   \\n\",","      \"\\n\",","      \"                                               Median  P25th  P75th  \\\\\\n\",","      \"Major                                                                 \\n\",","      \"EARLY CHILDHOOD EDUCATION                       28000  21000  35000   \\n\",","      \"COMMUNICATION DISORDERS SCIENCES AND SERVICES   28000  20000  40000   \\n\",","      \"MEDICAL ASSISTING SERVICES                      42000  30000  65000   \\n\",","      \"ELEMENTARY EDUCATION                            32000  23400  38000   \\n\",","      \"FAMILY AND CONSUMER SCIENCES                    30000  22900  40000   \\n\",","      \"...                                               ...    ...    ...   \\n\",","      \"MINING AND MINERAL ENGINEERING                  75000  55000  90000   \\n\",","      \"CONSTRUCTION SERVICES                           50000  36000  60000   \\n\",","      \"MECHANICAL ENGINEERING RELATED TECHNOLOGIES     40000  27000  52000   \\n\",","      \"MILITARY TECHNOLOGIES                           40000  40000  40000   \\n\",","      \"FOOD SCIENCE                                    53000  32000  70000   \\n\",","      \"\\n\",","      \"                                               College_jobs  Non_college_jobs  \\\\\\n\",","      \"Major                                                                           \\n\",","      \"EARLY CHILDHOOD EDUCATION                             23515              7705   \\n\",","      \"COMMUNICATION DISORDERS SCIENCES AND SERVICES         19957              9404   \\n\",","      \"MEDICAL ASSISTING SERVICES                             2091              6948   \\n\",","      \"ELEMENTARY EDUCATION                                 108085             36972   \\n\",","      \"FAMILY AND CONSUMER SCIENCES                          20985             20133   \\n\",","      \"...                                                     ...               ...   \\n\",","      \"MINING AND MINERAL ENGINEERING                          350               257   \\n\",","      \"CONSTRUCTION SERVICES                                  3275              5351   \\n\",","      \"MECHANICAL ENGINEERING RELATED TECHNOLOGIES            1861              2121   \\n\",","      \"MILITARY TECHNOLOGIES                                     0                 0   \\n\",","      \"FOOD SCIENCE                                           1183              1274   \\n\",","      \"\\n\",","      \"                                               Low_wage_jobs  \\n\",","      \"Major                                                         \\n\",","      \"EARLY CHILDHOOD EDUCATION                               2868  \\n\",","      \"COMMUNICATION DISORDERS SCIENCES AND SERVICES           5125  \\n\",","      \"MEDICAL ASSISTING SERVICES                              1270  \\n\",","      \"ELEMENTARY EDUCATION                                   11502  \\n\",","      \"FAMILY AND CONSUMER SCIENCES                            5248  \\n\",","      \"...                                                      ...  \\n\",","      \"MINING AND MINERAL ENGINEERING                            50  \\n\",","      \"CONSTRUCTION SERVICES                                    703  \\n\",","      \"MECHANICAL ENGINEERING RELATED TECHNOLOGIES              406  \\n\",","      \"MILITARY TECHNOLOGIES                                      0  \\n\",","      \"FOOD SCIENCE                                             485  \\n\",","      \"\\n\",","      \"[173 rows x 20 columns]\\n\"","     ]","    }","   ],","   \"source\": [","    \"# 按照专业分组，将女生占比从高到低降序排列\\n\",","    \"result = df.groupby([\\\"Major\\\"]).sum().sort_values([\\\"ShareWomen\\\"],ascending=False)\\n\",","    \"print(result)\"","   ]","  },","  {","   \"cell_type\": \"code\",","   \"execution_count\": 40,","   \"metadata\": {},","   \"outputs\": [","    {","     \"data\": {","      \"image/png\": \"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\",","      \"text/plain\": [","       \"\u003cFigure size 640x480 with 1 Axes\u003e\"","      ]","     },","     \"metadata\": {},","     \"output_type\": \"display_data\"","    }","   ],","   \"source\": [","    \"import pandas as pd\\n\",","    \"import numpy as np\\n\",","    \"import matplotlib.pyplot as plt\\n\",","    \"a=df['Median'].groupby(df['Major_category']).sum()\\n\",","    \"a.plot.bar()\\n\",","    \"plt.show()\"","   ]","  }"," ],"," \"metadata\": {","  \"kernelspec\": {","   \"display_name\": \"Python 3\",","   \"language\": \"python\",","   \"name\": \"python3\"","  },","  \"language_info\": {","   \"codemirror_mode\": {","    \"name\": \"ipython\",","    \"version\": 3","   },","   \"file_extension\": \".py\",","   \"mimetype\": \"text/x-python\",","   \"name\": \"python\",","   \"nbconvert_exporter\": \"python\",","   \"pygments_lexer\": \"ipython3\",","   \"version\": \"3.11.9\"","  }"," },"," \"nbformat\": 4,"," \"nbformat_minor\": 2","}"],"stylingDirectives":null,"colorizedLines":null,"csv":null,"csvError":null,"dependabotInfo":{"showConfigurationBanner":false,"configFilePath":null,"networkDependabotPath":"/YANGFAN5203/super-duper-dollop/network/updates","dismissConfigurationNoticePath":"/settings/dismiss-notice/dependabot_configuration_notice","configurationNoticeDismissed":null},"displayName":"Lecture 4-homework-YangFan.ipynb","displayUrl":"https://notebooks.githubusercontent.com/view/ipynb?browser=chrome\u0026bypass_fastly=true\u0026color_mode=auto\u0026commit=51d9b3829382033a58027d3588e95e720f3edec6\u0026device=unknown_device\u0026docs_host=https%3A%2F%2Fdocs.github.com\u0026enc_url=68747470733a2f2f7261772e67697468756275736572636f6e74656e742e636f6d2f59414e4746414e353230332f73757065722d64757065722d646f6c6c6f702f353164396233383239333832303333613538303237643335383865393565373230663365646563362f4c656374757265253230342d686f6d65776f726b2d59616e6746616e2e6970796e62\u0026logged_in=false\u0026nwo=YANGFAN5203%2Fsuper-duper-dollop\u0026path=Lecture+4-homework-YangFan.ipynb\u0026platform=windows\u0026repository_id=872288887\u0026repository_type=Repository\u0026version=130","headerInfo":{"blobSize":"107 KB","deleteTooltip":"You must be signed in to make or propose changes","editTooltip":"You must be signed in to make or propose changes","ghDesktopPath":"https://desktop.github.com","isGitLfs":false,"onBranch":true,"shortPath":"341b127","siteNavLoginPath":"/login?return_to=https%3A%2F%2Fgithub.com%2FYANGFAN5203%2Fsuper-duper-dollop%2Fblob%2Fmain%2FLecture%25204-homework-YangFan.ipynb","isCSV":false,"isRichtext":false,"toc":null,"lineInfo":{"truncatedLoc":"985","truncatedSloc":"985"},"mode":"file"},"image":false,"isCodeownersFile":null,"isPlain":false,"isValidLegacyIssueTemplate":false,"issueTemplate":null,"discussionTemplate":null,"language":"Jupyter Notebook","languageID":185,"large":false,"planSupportInfo":{"repoIsFork":null,"repoOwnedByCurrentUser":null,"requestFullPath":"/YANGFAN5203/super-duper-dollop/blob/main/Lecture%204-homework-YangFan.ipynb","showFreeOrgGatedFeatureMessage":null,"showPlanSupportBanner":null,"upgradeDataAttributes":null,"upgradePath":null},"publishBannersInfo":{"dismissActionNoticePath":"/settings/dismiss-notice/publish_action_from_dockerfile","releasePath":"/YANGFAN5203/super-duper-dollop/releases/new?marketplace=true","showPublishActionBanner":false},"rawBlobUrl":"https://github.com/YANGFAN5203/super-duper-dollop/raw/refs/heads/main/Lecture%204-homework-YangFan.ipynb","renderImageOrRaw":false,"richText":null,"renderedFileInfo":{"identityUUID":"d7acdb6a-2ebf-4fdc-a046-811202b22240","renderFileType":"ipynb","size":109700},"shortPath":null,"symbolsEnabled":true,"tabSize":8,"topBannersInfo":{"overridingGlobalFundingFile":false,"globalPreferredFundingPath":null,"showInvalidCitationWarning":false,"citationHelpUrl":"https://docs.github.com/github/creating-cloning-and-archiving-repositories/creating-a-repository-on-github/about-citation-files","actionsOnboardingTip":null},"truncated":false,"viewable":true,"workflowRedirectUrl":null,"symbols":{"timed_out":false,"not_analyzed":true,"symbols":[]}},"copilotInfo":null,"copilotAccessAllowed":false,"csrf_tokens":{"/YANGFAN5203/super-duper-dollop/branches":{"post":"eTtFoYdgGhtR_NIHhl3-y5-hVnyDkaydPKF3fEeUGfXrDUjUMHPEnRg5AA2AHZeZZ0Fmq-6SYqK_guW_swUKGw"},"/repos/preferences":{"post":"4J_VOUoX6RUhJp11PCI04CKpsM3Ond3qihQY_ZgpKxWpiRXrU_Lps9FCsYhizB4lFGiA5rDpAOca4rJfSJbLUg"}}},"title":"super-duper-dollop/Lecture 4-homework-YangFan.ipynb at main · YANGFAN5203/super-duper-dollop","appPayload":{"helpUrl":"https://docs.github.com","findFileWorkerPath":"/assets-cdn/worker/find-file-worker-1583894afd38.js","findInFileWorkerPath":"/assets-cdn/worker/find-in-file-worker-67668e8c2caa.js","githubDevUrl":null,"enabled_features":{"code_nav_ui_events":false,"overview_shared_code_dropdown_button":false,"react_blob_overlay":false,"copilot_conversational_ux_embedding_update":false,"copilot_smell_icebreaker_ux":true,"copilot_workspace":false,"blob_edit_unsaved_changes_storage":false,"accessible_code_button":true,"overview_branch_and_tag_count":true,"overview_spoofed_commit_banner_react":true}}}</script>
  <div data-target="react-app.reactRoot"></div>
</react-app>
</turbo-frame>



  </div>

</turbo-frame>

    </main>
  </div>

  </div>

          <footer class="footer pt-8 pb-6 f6 color-fg-muted p-responsive" role="contentinfo" >
  <h2 class='sr-only'>Footer</h2>

  


  <div class="d-flex flex-justify-center flex-items-center flex-column-reverse flex-lg-row flex-wrap flex-lg-nowrap">
    <div class="d-flex flex-items-center flex-shrink-0 mx-2">
      <a aria-label="Homepage" title="GitHub" class="footer-octicon mr-2" href="https://github.com">
        <svg aria-hidden="true" height="24" viewBox="0 0 24 24" version="1.1" width="24" data-view-component="true" class="octicon octicon-mark-github">
    <path d="M12.5.75C6.146.75 1 5.896 1 12.25c0 5.089 3.292 9.387 7.863 10.91.575.101.79-.244.79-.546 0-.273-.014-1.178-.014-2.142-2.889.532-3.636-.704-3.866-1.35-.13-.331-.69-1.352-1.18-1.625-.402-.216-.977-.748-.014-.762.906-.014 1.553.834 1.769 1.179 1.035 1.74 2.688 1.25 3.349.948.1-.747.402-1.25.733-1.538-2.559-.287-5.232-1.279-5.232-5.678 0-1.25.445-2.285 1.178-3.09-.115-.288-.517-1.467.115-3.048 0 0 .963-.302 3.163 1.179.92-.259 1.897-.388 2.875-.388.977 0 1.955.13 2.875.388 2.2-1.495 3.162-1.179 3.162-1.179.633 1.581.23 2.76.115 3.048.733.805 1.179 1.825 1.179 3.09 0 4.413-2.688 5.39-5.247 5.678.417.36.776 1.05.776 2.128 0 1.538-.014 2.774-.014 3.162 0 .302.216.662.79.547C20.709 21.637 24 17.324 24 12.25 24 5.896 18.854.75 12.5.75Z"></path>
</svg>
</a>
      <span>
        &copy; 2024 GitHub,&nbsp;Inc.
      </span>
    </div>

    <nav aria-label="Footer">
      <h3 class="sr-only" id="sr-footer-heading">Footer navigation</h3>

      <ul class="list-style-none d-flex flex-justify-center flex-wrap mb-2 mb-lg-0" aria-labelledby="sr-footer-heading">

          <li class="mx-2">
            <a data-analytics-event="{&quot;category&quot;:&quot;Footer&quot;,&quot;action&quot;:&quot;go to Terms&quot;,&quot;label&quot;:&quot;text:terms&quot;}" href="https://docs.github.com/site-policy/github-terms/github-terms-of-service" data-view-component="true" class="Link--secondary Link">Terms</a>
          </li>

          <li class="mx-2">
            <a data-analytics-event="{&quot;category&quot;:&quot;Footer&quot;,&quot;action&quot;:&quot;go to privacy&quot;,&quot;label&quot;:&quot;text:privacy&quot;}" href="https://docs.github.com/site-policy/privacy-policies/github-privacy-statement" data-view-component="true" class="Link--secondary Link">Privacy</a>
          </li>

          <li class="mx-2">
            <a data-analytics-event="{&quot;category&quot;:&quot;Footer&quot;,&quot;action&quot;:&quot;go to security&quot;,&quot;label&quot;:&quot;text:security&quot;}" href="https://github.com/security" data-view-component="true" class="Link--secondary Link">Security</a>
          </li>

          <li class="mx-2">
            <a data-analytics-event="{&quot;category&quot;:&quot;Footer&quot;,&quot;action&quot;:&quot;go to status&quot;,&quot;label&quot;:&quot;text:status&quot;}" href="https://www.githubstatus.com/" data-view-component="true" class="Link--secondary Link">Status</a>
          </li>

          <li class="mx-2">
            <a data-analytics-event="{&quot;category&quot;:&quot;Footer&quot;,&quot;action&quot;:&quot;go to docs&quot;,&quot;label&quot;:&quot;text:docs&quot;}" href="https://docs.github.com/" data-view-component="true" class="Link--secondary Link">Docs</a>
          </li>

          <li class="mx-2">
            <a data-analytics-event="{&quot;category&quot;:&quot;Footer&quot;,&quot;action&quot;:&quot;go to contact&quot;,&quot;label&quot;:&quot;text:contact&quot;}" href="https://support.github.com?tags=dotcom-footer" data-view-component="true" class="Link--secondary Link">Contact</a>
          </li>

          <li class="mr-3" >
  <cookie-consent-link>
    <button
      type="button"
      class="Link--secondary underline-on-hover border-0 p-0 color-bg-transparent"
      data-action="click:cookie-consent-link#showConsentManagement"
      data-analytics-event="{&quot;location&quot;:&quot;footer&quot;,&quot;action&quot;:&quot;cookies&quot;,&quot;context&quot;:&quot;subfooter&quot;,&quot;tag&quot;:&quot;link&quot;,&quot;label&quot;:&quot;cookies_link_subfooter_footer&quot;}"
    >
      Manage cookies
    </button>
  </cookie-consent-link>
</li>

<li class="mr-3">
  <cookie-consent-link>
    <button
      type="button"
      class="Link--secondary underline-on-hover border-0 p-0 color-bg-transparent"
      data-action="click:cookie-consent-link#showConsentManagement"
      data-analytics-event="{&quot;location&quot;:&quot;footer&quot;,&quot;action&quot;:&quot;dont_share_info&quot;,&quot;context&quot;:&quot;subfooter&quot;,&quot;tag&quot;:&quot;link&quot;,&quot;label&quot;:&quot;dont_share_info_link_subfooter_footer&quot;}"
    >
      Do not share my personal information
    </button>
  </cookie-consent-link>
</li>

      </ul>
    </nav>
  </div>
</footer>




    <ghcc-consent id="ghcc" class="position-fixed bottom-0 left-0" style="z-index: 999999" data-initial-cookie-consent-allowed="" data-cookie-consent-required="false"></ghcc-consent>


  <div id="ajax-error-message" class="ajax-error-message flash flash-error" hidden>
    <svg aria-hidden="true" height="16" viewBox="0 0 16 16" version="1.1" width="16" data-view-component="true" class="octicon octicon-alert">
    <path d="M6.457 1.047c.659-1.234 2.427-1.234 3.086 0l6.082 11.378A1.75 1.75 0 0 1 14.082 15H1.918a1.75 1.75 0 0 1-1.543-2.575Zm1.763.707a.25.25 0 0 0-.44 0L1.698 13.132a.25.25 0 0 0 .22.368h12.164a.25.25 0 0 0 .22-.368Zm.53 3.996v2.5a.75.75 0 0 1-1.5 0v-2.5a.75.75 0 0 1 1.5 0ZM9 11a1 1 0 1 1-2 0 1 1 0 0 1 2 0Z"></path>
</svg>
    <button type="button" class="flash-close js-ajax-error-dismiss" aria-label="Dismiss error">
      <svg aria-hidden="true" height="16" viewBox="0 0 16 16" version="1.1" width="16" data-view-component="true" class="octicon octicon-x">
    <path d="M3.72 3.72a.75.75 0 0 1 1.06 0L8 6.94l3.22-3.22a.749.749 0 0 1 1.275.326.749.749 0 0 1-.215.734L9.06 8l3.22 3.22a.749.749 0 0 1-.326 1.275.749.749 0 0 1-.734-.215L8 9.06l-3.22 3.22a.751.751 0 0 1-1.042-.018.751.751 0 0 1-.018-1.042L6.94 8 3.72 4.78a.75.75 0 0 1 0-1.06Z"></path>
</svg>
    </button>
    You can’t perform that action at this time.
  </div>

    <template id="site-details-dialog">
  <details class="details-reset details-overlay details-overlay-dark lh-default color-fg-default hx_rsm" open>
    <summary role="button" aria-label="Close dialog"></summary>
    <details-dialog class="Box Box--overlay d-flex flex-column anim-fade-in fast hx_rsm-dialog hx_rsm-modal">
      <button class="Box-btn-octicon m-0 btn-octicon position-absolute right-0 top-0" type="button" aria-label="Close dialog" data-close-dialog>
        <svg aria-hidden="true" height="16" viewBox="0 0 16 16" version="1.1" width="16" data-view-component="true" class="octicon octicon-x">
    <path d="M3.72 3.72a.75.75 0 0 1 1.06 0L8 6.94l3.22-3.22a.749.749 0 0 1 1.275.326.749.749 0 0 1-.215.734L9.06 8l3.22 3.22a.749.749 0 0 1-.326 1.275.749.749 0 0 1-.734-.215L8 9.06l-3.22 3.22a.751.751 0 0 1-1.042-.018.751.751 0 0 1-.018-1.042L6.94 8 3.72 4.78a.75.75 0 0 1 0-1.06Z"></path>
</svg>
      </button>
      <div class="octocat-spinner my-6 js-details-dialog-spinner"></div>
    </details-dialog>
  </details>
</template>

    <div class="Popover js-hovercard-content position-absolute" style="display: none; outline: none;">
  <div class="Popover-message Popover-message--bottom-left Popover-message--large Box color-shadow-large" style="width:360px;">
  </div>
</div>

    <template id="snippet-clipboard-copy-button">
  <div class="zeroclipboard-container position-absolute right-0 top-0">
    <clipboard-copy aria-label="Copy" class="ClipboardButton btn js-clipboard-copy m-2 p-0" data-copy-feedback="Copied!" data-tooltip-direction="w">
      <svg aria-hidden="true" height="16" viewBox="0 0 16 16" version="1.1" width="16" data-view-component="true" class="octicon octicon-copy js-clipboard-copy-icon m-2">
    <path d="M0 6.75C0 5.784.784 5 1.75 5h1.5a.75.75 0 0 1 0 1.5h-1.5a.25.25 0 0 0-.25.25v7.5c0 .138.112.25.25.25h7.5a.25.25 0 0 0 .25-.25v-1.5a.75.75 0 0 1 1.5 0v1.5A1.75 1.75 0 0 1 9.25 16h-7.5A1.75 1.75 0 0 1 0 14.25Z"></path><path d="M5 1.75C5 .784 5.784 0 6.75 0h7.5C15.216 0 16 .784 16 1.75v7.5A1.75 1.75 0 0 1 14.25 11h-7.5A1.75 1.75 0 0 1 5 9.25Zm1.75-.25a.25.25 0 0 0-.25.25v7.5c0 .138.112.25.25.25h7.5a.25.25 0 0 0 .25-.25v-7.5a.25.25 0 0 0-.25-.25Z"></path>
</svg>
      <svg aria-hidden="true" height="16" viewBox="0 0 16 16" version="1.1" width="16" data-view-component="true" class="octicon octicon-check js-clipboard-check-icon color-fg-success d-none m-2">
    <path d="M13.78 4.22a.75.75 0 0 1 0 1.06l-7.25 7.25a.75.75 0 0 1-1.06 0L2.22 9.28a.751.751 0 0 1 .018-1.042.751.751 0 0 1 1.042-.018L6 10.94l6.72-6.72a.75.75 0 0 1 1.06 0Z"></path>
</svg>
    </clipboard-copy>
  </div>
</template>
<template id="snippet-clipboard-copy-button-unpositioned">
  <div class="zeroclipboard-container">
    <clipboard-copy aria-label="Copy" class="ClipboardButton btn btn-invisible js-clipboard-copy m-2 p-0 d-flex flex-justify-center flex-items-center" data-copy-feedback="Copied!" data-tooltip-direction="w">
      <svg aria-hidden="true" height="16" viewBox="0 0 16 16" version="1.1" width="16" data-view-component="true" class="octicon octicon-copy js-clipboard-copy-icon">
    <path d="M0 6.75C0 5.784.784 5 1.75 5h1.5a.75.75 0 0 1 0 1.5h-1.5a.25.25 0 0 0-.25.25v7.5c0 .138.112.25.25.25h7.5a.25.25 0 0 0 .25-.25v-1.5a.75.75 0 0 1 1.5 0v1.5A1.75 1.75 0 0 1 9.25 16h-7.5A1.75 1.75 0 0 1 0 14.25Z"></path><path d="M5 1.75C5 .784 5.784 0 6.75 0h7.5C15.216 0 16 .784 16 1.75v7.5A1.75 1.75 0 0 1 14.25 11h-7.5A1.75 1.75 0 0 1 5 9.25Zm1.75-.25a.25.25 0 0 0-.25.25v7.5c0 .138.112.25.25.25h7.5a.25.25 0 0 0 .25-.25v-7.5a.25.25 0 0 0-.25-.25Z"></path>
</svg>
      <svg aria-hidden="true" height="16" viewBox="0 0 16 16" version="1.1" width="16" data-view-component="true" class="octicon octicon-check js-clipboard-check-icon color-fg-success d-none">
    <path d="M13.78 4.22a.75.75 0 0 1 0 1.06l-7.25 7.25a.75.75 0 0 1-1.06 0L2.22 9.28a.751.751 0 0 1 .018-1.042.751.751 0 0 1 1.042-.018L6 10.94l6.72-6.72a.75.75 0 0 1 1.06 0Z"></path>
</svg>
    </clipboard-copy>
  </div>
</template>




    </div>

    <div id="js-global-screen-reader-notice" class="sr-only mt-n1" aria-live="polite" aria-atomic="true" ></div>
    <div id="js-global-screen-reader-notice-assertive" class="sr-only mt-n1" aria-live="assertive" aria-atomic="true"></div>
  </body>
</html>

